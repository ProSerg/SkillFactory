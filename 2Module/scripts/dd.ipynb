{
 "cells": [
  {
   "cell_type": "code",
   "execution_count": 26,
   "metadata": {},
   "outputs": [],
   "source": [
    "# read from files\n",
    "\n",
    "db: list = []\n",
    "with open(\"./data/user_ids.txt\") as file:\n",
    "    for line in file:\n",
    "        db.append(line.strip())\n",
    "        # db.append(line.replace('\\n', ''))"
   ]
  },
  {
   "cell_type": "code",
   "execution_count": 27,
   "metadata": {
    "collapsed": true
   },
   "outputs": [
    {
     "name": "stdout",
     "output_type": "stream",
     "text": [
      "124\n"
     ]
    }
   ],
   "source": [
    "# уникальные элементы\n",
    "unique_ids = set(db)\n",
    "print(len(unique_ids))"
   ]
  },
  {
   "cell_type": "code",
   "execution_count": 30,
   "metadata": {},
   "outputs": [
    {
     "name": "stdout",
     "output_type": "stream",
     "text": [
      "1010\n1036\n1041\n1041\n1042\n1042\n1042\n1042\n1042\n1042\n1042\n1042\n1042\n1042\n1042\n1042\n1047\n1047\n1052\n1052\n1057\n1057\n1062\n1067\n1078\n1085\n1096\n1098\n1100\n1100\n1100\n1100\n1100\n1100\n1100\n1100\n1100\n1100\n1100\n1100\n1105\n1108\n1108\n1108\n1108\n1108\n1108\n1108\n1108\n1108\n1111\n1112\n1112\n1113\n1113\n1114\n1114\n1116\n1118\n1118\n1123\n1123\n1128\n1134\n1134\n1135\n1135\n1135\n1135\n1135\n1135\n1135\n1135\n1135\n1136\n1136\n1140\n1140\n1141\n1145\n1145\n1149\n1149\n1149\n1149\n1149\n1149\n1149\n1150\n1154\n1154\n1159\n1159\n1164\n1167\n1175\n1181\n1182\n1182\n1193\n1193\n1198\n1198\n1201\n1203\n1203\n1207\n1207\n1207\n1207\n1207\n1207\n1207\n1207\n1207\n1207\n1207\n1207\n1207\n1207\n1208\n1208\n1209\n1213\n1213\n1218\n1218\n1219\n1223\n1223\n1224\n1226\n1226\n1228\n1228\n1230\n1233\n1233\n1236\n1238\n1238\n1242\n1243\n1243\n1246\n1246\n1246\n1246\n1246\n1246\n1246\n1246\n1246\n1246\n1246\n1246\n1246\n1246\n1246\n1246\n1246\n1246\n1246\n1246\n1246\n1246\n1246\n1246\n1248\n1248\n1252\n1252\n1253\n1253\n1258\n1258\n1263\n1263\n1267\n1267\n1267\n1267\n1267\n1267\n1267\n1267\n1267\n1267\n1267\n1267\n1267\n1267\n1267\n1267\n1267\n1268\n1268\n1269\n1270\n1273\n1273\n1274\n1278\n1278\n1279\n1281\n1283\n1283\n1288\n1288\n1291\n1293\n1293\n1294\n1296\n1298\n1298\n1298\n1300\n1300\n1302\n1303\n1303\n1308\n1308\n1313\n1313\n1315\n1318\n1318\n1318\n1318\n1318\n1318\n1318\n1318\n1318\n1318\n1318\n1318\n1318\n1318\n1320\n1323\n1323\n1328\n1328\n1330\n1331\n1332\n1333\n1334\n1343\n1350\n1351\n1353\n1354\n1355\n1359\n1362\n1363\n1364\n1366\n1367\n1371\n1372\n1374\n1377\n1380\n1382\n1383\n1386\n1387\n1388\n1392\n1393\n1394\n1397\n1398\n1424\n1424\n1424\n1424\n1424\n1424\n1424\n1424\n1424\n1424\n1424\n1424\n1424\n1424\n1424\n"
     ]
    }
   ],
   "source": [
    "# работа с заголовка. \n",
    "Started = True \n",
    "with open('./data/user_ids_headers.txt', 'r') as f:\n",
    "    for line in f:\n",
    "        if Started is True:\n",
    "            Started = False\n",
    "        else:\n",
    "            print(line.strip())"
   ]
  },
  {
   "cell_type": "code",
   "execution_count": 47,
   "metadata": {},
   "outputs": [],
   "source": [
    "# Чтение данных из файлов с несколькими столбцами\n",
    "data_3: list = []\n",
    "with open('./data/data_3_columns.txt', 'r') as f:\n",
    "    for line in f:\n",
    "        line = line.strip().split(\"\\t\")\n",
    "        line[2] = float(line[2].replace(',', '.'))\n",
    "        data_3.append(line)"
   ]
  },
  {
   "cell_type": "code",
   "execution_count": 52,
   "metadata": {},
   "outputs": [],
   "source": [
    "# Посчитать сумму чисел в третьем блоке\n",
    "data_3: list = []\n",
    "total_sum: float = 0.0\n",
    "with open('./data/data_3_columns.txt', 'r') as f:\n",
    "    for line in f:\n",
    "        line = line.strip().split(\"\\t\")\n",
    "        amount_paid = float(line[2].replace(',', '.'))\n",
    "        line[2] = amount_paid\n",
    "        total_sum += amount_paid\n",
    "        data_3.append(line)"
   ]
  },
  {
   "cell_type": "code",
   "execution_count": 53,
   "metadata": {},
   "outputs": [
    {
     "name": "stdout",
     "output_type": "stream",
     "text": [
      "5129.8\n"
     ]
    }
   ],
   "source": [
    "print(total_sum)"
   ]
  },
  {
   "cell_type": "code",
   "execution_count": 55,
   "metadata": {},
   "outputs": [],
   "source": [
    "# Посчитать сумму чисел по условиям google\n",
    "data_3: list = []\n",
    "total_sum: float = 0.0\n",
    "with open('./data/data_3_columns.txt', 'r') as f:\n",
    "    for line in f:\n",
    "        line = line.strip().split(\"\\t\") \n",
    "        line[2] = float(line[2].replace(',', '.'))\n",
    "        medium, source, amount_paid = line\n",
    "        if source == \"google\":\n",
    "            total_sum += amount_paid\n",
    "        data_3.append(line)"
   ]
  },
  {
   "cell_type": "code",
   "execution_count": 69,
   "metadata": {},
   "outputs": [],
   "source": [
    "# Посчитать сумму чисел по условиям yandex and sea\n",
    "data_3: list = []\n",
    "total_sum: float = 0.0\n",
    "with open('./data/data_3_columns.txt', 'r') as f:\n",
    "    for line in f:\n",
    "        line = line.strip().split(\"\\t\") \n",
    "        line[2] = float(line[2].replace(',', '.'))\n",
    "        medium, source, amount_paid = line\n",
    "        if (source == \"yandex\") and (medium == \"seo\"):\n",
    "            total_sum += amount_paid\n",
    "        data_3.append(line)"
   ]
  },
  {
   "cell_type": "code",
   "execution_count": 70,
   "metadata": {},
   "outputs": [
    {
     "name": "stdout",
     "output_type": "stream",
     "text": [
      "555.80\n"
     ]
    }
   ],
   "source": [
    "print(f'{total_sum:.2f}')"
   ]
  },
  {
   "cell_type": "code",
   "execution_count": null,
   "metadata": {},
   "outputs": [],
   "source": [
    ""
   ]
  }
 ],
 "metadata": {
  "kernelspec": {
   "display_name": "Python 3",
   "language": "python",
   "name": "python3"
  },
  "language_info": {
   "codemirror_mode": {
    "name": "ipython",
    "version": 3.0
   },
   "file_extension": ".py",
   "mimetype": "text/x-python",
   "name": "python",
   "nbconvert_exporter": "python",
   "pygments_lexer": "ipython3",
   "version": "3.6.4"
  }
 },
 "nbformat": 4,
 "nbformat_minor": 0
}