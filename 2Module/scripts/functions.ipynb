{
 "cells": [
  {
   "cell_type": "code",
   "execution_count": 147,
   "metadata": {},
   "outputs": [],
   "source": [
    "# Блок 7\n",
    "# Функции и их переменные\n",
    "\n",
    "import os\n",
    "path_data = \"../data\"\n",
    "\n",
    "SOURCE_TYPE = \"sourceType\"\n",
    "ORDER_TYPE = \"orderType\"\n",
    "ID = 0\n",
    "DATE = 1\n",
    "USER_ID = 2\n",
    "DURATION = 3\n",
    "MEDIUM = 4\n",
    "SOURCE = 5\n",
    "COST = 6\n",
    "ORDER_ID = 7\n",
    "AMOUNT_PAID = 8\n",
    "headers = [\"id\", \"date\", \"user_id\",\t\"duration\",\t\"medium\", \"source\", \"cost\", \"order_id\", \"amount_paid\"]"
   ]
  },
  {
   "cell_type": "code",
   "execution_count": 148,
   "metadata": {},
   "outputs": [],
   "source": [
    "# создаём словарь статистики\n",
    "def calcSourceType(total: dict, current: dict) -> dict:\n",
    "    \"\"\"\n",
    "    Функция сбора статистики  по типу источника\n",
    "    \n",
    "    :param total: \n",
    "    :param current: \n",
    "    :return: \n",
    "    \"\"\"\n",
    "    _total = total.copy()\n",
    "    value = current.get(SOURCE_TYPE)\n",
    "    _total.update({value: _total.get(value, 0) + 1})\n",
    "    return _total"
   ]
  },
  {
   "cell_type": "code",
   "execution_count": 149,
   "metadata": {},
   "outputs": [],
   "source": [
    "def calcSourceOrderType(total: dict, current: dict) -> dict:\n",
    "    \"\"\"\n",
    "    \n",
    "    :param total: \n",
    "    :param current: \n",
    "    :return: \n",
    "    \"\"\"\n",
    "    _total = total.copy()\n",
    "    source_type_value = current.get(SOURCE_TYPE)\n",
    "    order_type_value = current.get(ORDER_TYPE)\n",
    "    value = f\"{source_type_value} {order_type_value}\"\n",
    "    _total.update({value: _total.get(value, 0) + 1})\n",
    "    return _total"
   ]
  },
  {
   "cell_type": "code",
   "execution_count": 150,
   "metadata": {},
   "outputs": [],
   "source": [
    "def source_type_classification(source, medium):\n",
    "    \"\"\"\n",
    "\n",
    "    Функция классифицирует источник трафика в зависимости от значения source и medium.\n",
    "\n",
    "    Возвращает название типа источника по правилам:\n",
    "\n",
    "        - если source равен 'google' или 'yandex', то проверяем medium:\n",
    "\n",
    "            - для medium 'seo' или 'sem' возвращаем 'search engines seo'\n",
    "\n",
    "            - для medium 'brand' - возвращаем 'search engines brand'\n",
    "\n",
    "            - для остальных случаев возвращаем 'search engines undefined'\n",
    "\n",
    "        - если условие не выполнено, то возвращаем 'other'\n",
    "\n",
    "    \"\"\"\n",
    "    if source == \"google\" or source == \"yandex\":\n",
    "        if medium == 'seo' or medium == 'sem':\n",
    "            sourceType = 'search engines seo'\n",
    "        elif medium == 'brand':\n",
    "            sourceType = 'search engines brand'\n",
    "        else:\n",
    "            sourceType = 'search engines undefined'\n",
    "    else:\n",
    "        sourceType = \"other\"\n",
    "    return sourceType"
   ]
  },
  {
   "cell_type": "code",
   "execution_count": 151,
   "metadata": {},
   "outputs": [],
   "source": [
    "def order_type_classification(amount_paid):\n",
    "    if amount_paid >= 20:\n",
    "        orderType = 'expensive' \n",
    "    else:\n",
    "        orderType = 'cheap'\n",
    "    return orderType"
   ]
  },
  {
   "cell_type": "code",
   "execution_count": 152,
   "metadata": {},
   "outputs": [],
   "source": [
    "# фильтруем список\n",
    "def sift(line) -> dict:\n",
    "    \"\"\"\n",
    "    Функция возращает базовый элементы для сборка статистика.\n",
    "    \n",
    "    :param line: \n",
    "    :return: \n",
    "    \"\"\"\n",
    "    source, medium, amount = line[SOURCE], line[MEDIUM], float(line[-1].replace(',', '.'))\n",
    "    order_type = order_type_classification(amount)\n",
    "    source_type = source_type_classification(source, medium)\n",
    "    return {ORDER_TYPE: order_type, SOURCE_TYPE: source_type}"
   ]
  },
  {
   "cell_type": "code",
   "execution_count": 153,
   "metadata": {},
   "outputs": [],
   "source": [
    "# основная функция подчёт \n",
    "def proc_stats(filename, calcStats, condition) -> dict:\n",
    "    \"\"\"\n",
    "    функция подчёта статистика\n",
    "    \n",
    "    :param filename: \n",
    "    :param condition: \n",
    "    :return: \n",
    "    \"\"\"\n",
    "    \n",
    "    total_stats: dict = {}\n",
    "    with open(os.path.abspath(filename), \"r\") as file:\n",
    "        for line in file:\n",
    "            line = line.strip().split('\\t')\n",
    "            total_stats = calcStats(total_stats, condition(line))\n",
    "    return total_stats"
   ]
  },
  {
   "cell_type": "code",
   "execution_count": 154,
   "metadata": {},
   "outputs": [
    {
     "data": {
      "text/plain": [
       "{'other': 113, 'search engines brand': 13, 'search engines seo': 168}"
      ]
     },
     "execution_count": 154,
     "metadata": {},
     "output_type": "execute_result"
    }
   ],
   "source": [
    "proc_stats(f\"{path_data}/data_no_header.txt\", calcSourceType, sift)"
   ]
  },
  {
   "cell_type": "code",
   "execution_count": 155,
   "metadata": {},
   "outputs": [
    {
     "data": {
      "text/plain": [
       "'search engines undefined'"
      ]
     },
     "execution_count": 155,
     "metadata": {},
     "output_type": "execute_result"
    }
   ],
   "source": [
    "source_type_classification(\"google\", \"123\")"
   ]
  },
  {
   "cell_type": "code",
   "execution_count": 156,
   "metadata": {},
   "outputs": [
    {
     "data": {
      "text/plain": [
       "{'other cheap': 74,\n 'other expensive': 39,\n 'search engines brand cheap': 9,\n 'search engines brand expensive': 4,\n 'search engines seo cheap': 121,\n 'search engines seo expensive': 47}"
      ]
     },
     "execution_count": 156,
     "metadata": {},
     "output_type": "execute_result"
    }
   ],
   "source": [
    "proc_stats(f\"{path_data}/data_no_header.txt\", calcSourceOrderType, sift)"
   ]
  },
  {
   "cell_type": "code",
   "execution_count": null,
   "metadata": {},
   "outputs": [],
   "source": [
    ""
   ]
  }
 ],
 "metadata": {
  "kernelspec": {
   "display_name": "Python 3",
   "language": "python",
   "name": "python3"
  },
  "language_info": {
   "codemirror_mode": {
    "name": "ipython",
    "version": 3.0
   },
   "file_extension": ".py",
   "mimetype": "text/x-python",
   "name": "python",
   "nbconvert_exporter": "python",
   "pygments_lexer": "ipython3",
   "version": "3.6.4"
  }
 },
 "nbformat": 4,
 "nbformat_minor": 0
}