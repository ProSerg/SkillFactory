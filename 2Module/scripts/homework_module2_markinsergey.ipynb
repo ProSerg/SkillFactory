{
 "cells": [
  {
   "cell_type": "markdown",
   "metadata": {},
   "source": [
    "## Блок 8. Подсчет ROI"
   ]
  },
  {
   "cell_type": "code",
   "execution_count": 46,
   "metadata": {},
   "outputs": [],
   "source": [
    "# Преамбула\n",
    "import os\n",
    "from typing import Callable\n",
    "from tabulate import tabulate\n",
    "\n",
    "path_data = \"../data\"\n",
    "data_txt = f\"{path_data}/data_no_header.txt\"\n",
    "\n",
    "# константы для задачи о типах покупак\n",
    "SOURCE_TYPE = \"sourceType\"\n",
    "ORDER_TYPE = \"orderType\"\n",
    "\n",
    "# константы для типов партнёрских программ\n",
    "CPA_PARTNERS = \"cpa-partners\"\n",
    "CPC_PARTNERS = \"cpc-partners\"\n",
    "OTHER_PARTNERS = \"fixed\"\n",
    "\n",
    "# константы для подчёта ROI \n",
    "PROFIT = \"profit\"\n",
    "EXPENSE = \"expense\"\n",
    "ROI = \"roi\"\n",
    "\n",
    "# индексы заголовок таблицы\n",
    "ID = 0\n",
    "DATE = 1\n",
    "USER_ID = 2\n",
    "DURATION = 3\n",
    "MEDIUM = 4\n",
    "SOURCE = 5\n",
    "COST = 6\n",
    "ORDER_ID = 7\n",
    "AMOUNT_PAID = 8\n",
    "\n",
    "# название заголовок таблиц\n",
    "headers = (\"id\", \"date\", \"user_id\",\t\"duration\",\t\"medium\", \"source\", \"cost\", \"order_id\", \"amount_paid\")\n",
    "\n",
    "# комисия партёрской программы \n",
    "commission = {\n",
    "    CPA_PARTNERS: {\n",
    "        \"burgerclub\": 0.3,\n",
    "        \"food-delivery\": 0.25,\n",
    "    },\n",
    "    CPC_PARTNERS: {\n",
    "        \"city-magazine\": 7.0,\n",
    "        \"foody\": 9.0\n",
    "    },\n",
    "    OTHER_PARTNERS: 4.0\n",
    "}"
   ]
  },
  {
   "cell_type": "markdown",
   "metadata": {},
   "source": [
    "## Вспомогательные фукнции "
   ]
  },
  {
   "cell_type": "code",
   "execution_count": 108,
   "metadata": {},
   "outputs": [],
   "source": [
    "def print_results(roi_stats):\n",
    "    \"\"\"\n",
    "     Печатает результат подсчёта ROI \n",
    "     \n",
    "    :param roi_stats: \n",
    "    :return: \n",
    "    \"\"\"\n",
    "    headers = [\"Name\", f\"{ROI}\", f\"{PROFIT}\", f\"{EXPENSE}\"]\n",
    "    tabular_data = [\n",
    "        [f\"{name}\", f\"{data[ROI]:.2f}\", f\"{data[PROFIT]:.2f}\", f\"{data[EXPENSE]:.2f}\"] for name, data in roi_stats.items()]\n",
    "    table = tabulate(tabular_data=tabular_data, headers=headers, tablefmt='orgtbl')\n",
    "    print(table)"
   ]
  },
  {
   "cell_type": "code",
   "execution_count": 109,
   "metadata": {},
   "outputs": [],
   "source": [
    ""
   ]
  },
  {
   "cell_type": "code",
   "execution_count": 109,
   "metadata": {},
   "outputs": [],
   "source": [
    "def conv_float(value: str) -> float:\n",
    "    \"\"\"\n",
    "    Конвертирует строку в число с плавующей запятой\n",
    "    \n",
    "    :param value: \n",
    "    :return: \n",
    "    \"\"\"\n",
    "    return float(value.replace(',', '.'))"
   ]
  },
  {
   "cell_type": "code",
   "execution_count": 115,
   "metadata": {},
   "outputs": [],
   "source": [
    "def unit_uniq_orders(total: dict, current: dict) -> dict:\n",
    "    \"\"\"\n",
    "    Фукцния коллеционирует результаты подсчёта\n",
    "    \n",
    "    :param total: \n",
    "    :param current: \n",
    "    :return: новый словарь с добавленными данными.\n",
    "    \"\"\"\n",
    "    _total = total.copy()\n",
    "    for key, value in current.items():\n",
    "        _total.update({key: _total.get(key, 0.0) + float(value)})\n",
    "    return _total"
   ]
  },
  {
   "cell_type": "code",
   "execution_count": 123,
   "metadata": {},
   "outputs": [],
   "source": [
    "def costs_classification(amount_paid: float, source: str) -> float:\n",
    "    \"\"\"\n",
    "     Функция подсчитывает затраты с учётом комисии\n",
    "    :param amount_paid: \n",
    "    :param source: \n",
    "    :return:  застраты с учётом комисии.\n",
    "    \"\"\"\n",
    "    if source in commission[CPA_PARTNERS]:\n",
    "            return float(amount_paid*commission[CPA_PARTNERS][source])\n",
    "    if source in commission[CPC_PARTNERS]:\n",
    "            return float(commission[CPC_PARTNERS][source])\n",
    "    else:\n",
    "        return float(commission[OTHER_PARTNERS])"
   ]
  },
  {
   "cell_type": "code",
   "execution_count": 124,
   "metadata": {},
   "outputs": [],
   "source": [
    "def source_classification(source: str, medium: str) -> str:\n",
    "    \"\"\"\n",
    "     Типы источника определяются следующим образом\n",
    "    - если source равен 'google' или 'yandex', то проверяем medium:\n",
    "\n",
    "        - для medium 'seo' или 'sem' тип источника равен 'search engines seo'\n",
    "\n",
    "        - для medium 'brand' - тип источника равен 'search engines brand'\n",
    "\n",
    "        - для остальных случаев тип источника равен 'search engines undefined'\n",
    "\n",
    "    - если условие не выполнено, то тип источника равен 'other'\n",
    "    \n",
    "    :param source: \n",
    "    :param medium: \n",
    "    :return: тип источника\n",
    "    \"\"\"\n",
    "    if source in [\"google\", \"yandex\"]:\n",
    "        if medium in [\"seo\", \"sem\"]:\n",
    "            return \"search engines seo\"\n",
    "        elif medium in [\"brand\"]:\n",
    "            return \"search engines brand\"\n",
    "        else:\n",
    "            return \"search engines undefined\"\n",
    "    else:\n",
    "        return \"other\""
   ]
  },
  {
   "cell_type": "code",
   "execution_count": 125,
   "metadata": {},
   "outputs": [
    {
     "data": {
      "text/plain": [
       "4.0"
      ]
     },
     "execution_count": 125,
     "metadata": {},
     "output_type": "execute_result"
    }
   ],
   "source": [
    "# проверка\n",
    "costs_classification(10.0, 'google')"
   ]
  },
  {
   "cell_type": "code",
   "execution_count": 126,
   "metadata": {},
   "outputs": [
    {
     "data": {
      "text/plain": [
       "'search engines brand'"
      ]
     },
     "execution_count": 126,
     "metadata": {},
     "output_type": "execute_result"
    }
   ],
   "source": [
    "# проверка\n",
    "source_classification(\"yandex\", \"brand\")"
   ]
  },
  {
   "cell_type": "code",
   "execution_count": 127,
   "metadata": {},
   "outputs": [],
   "source": [
    "def profit_expense(line: list) -> dict:\n",
    "    \"\"\"\n",
    "     Считаем прибыль от рекламной компании.\n",
    "     \n",
    "    :param line: \n",
    "    :param partners: \n",
    "    :return: возращает словарь ввида : имя_партнёрской_компании -> {прибыль , затраты }.\n",
    "    \"\"\"\n",
    "    stats: dict = {}\n",
    "    medium: str = line[MEDIUM]\n",
    "    source: str = line[SOURCE]\n",
    "    cost: float = conv_float(line[COST])\n",
    "    amount_paid: float = conv_float(line[AMOUNT_PAID])\n",
    "    partner_commission: float = costs_classification(amount_paid=amount_paid, source=source)\n",
    "    name_partner: str = source_classification(source, medium)\n",
    "    \n",
    "    stats.update({\n",
    "        name_partner: {\n",
    "            PROFIT: amount_paid,\n",
    "            EXPENSE: cost + partner_commission\n",
    "        }})\n",
    "    return stats"
   ]
  },
  {
   "cell_type": "code",
   "execution_count": 128,
   "metadata": {},
   "outputs": [],
   "source": [
    "def unit_profit_expense(total: dict, current: dict) -> dict:\n",
    "    \"\"\"\n",
    "    Фукцния коллеционирует результаты подсчёта\n",
    "    \n",
    "    :param total: \n",
    "    :param current: \n",
    "    :return: новый словарь с добавленными данными.\n",
    "    \"\"\"\n",
    "    \n",
    "    _total = total.copy()\n",
    "    for key, value in current.items():\n",
    "        _total.setdefault(key, {PROFIT: 0, EXPENSE: 0})\n",
    "        _total.update({\n",
    "            key: {\n",
    "                PROFIT: _total[key].get(PROFIT, 0) + value.get(PROFIT),\n",
    "                EXPENSE: _total[key].get(EXPENSE, 0) + value.get(EXPENSE)\n",
    "            }})\n",
    "    return _total"
   ]
  },
  {
   "cell_type": "code",
   "execution_count": 129,
   "metadata": {},
   "outputs": [],
   "source": [
    "def calc_roi(total_stats: dict) -> dict:\n",
    "    \"\"\"\n",
    "    Расчитывает ROI по каждой компании\n",
    "    :param total_stats: \n",
    "    :return: \n",
    "    \"\"\"\n",
    "    _total_stats = total_stats.copy()\n",
    "    for prog, stats in _total_stats.items():\n",
    "        roi: float = (stats.get(PROFIT) - stats.get(EXPENSE)) / stats.get(EXPENSE)\n",
    "        _total_stats[prog].update({\n",
    "            ROI: roi\n",
    "        })\n",
    "    return _total_stats"
   ]
  },
  {
   "cell_type": "code",
   "execution_count": 130,
   "metadata": {},
   "outputs": [],
   "source": [
    "def get_other_order(line: list) -> dict:\n",
    "    \"\"\"\n",
    "     Фильтрует заказы CPA и CPC партнеров\n",
    "     \n",
    "    :param line: \n",
    "    :return: \n",
    "    \"\"\"\n",
    "    order_id = line[ORDER_ID]\n",
    "    medium = line[MEDIUM]\n",
    "    if medium == CPC_PARTNERS or medium == CPA_PARTNERS:\n",
    "        return {} \n",
    "    return {order_id: 1}"
   ]
  },
  {
   "cell_type": "code",
   "execution_count": 131,
   "metadata": {},
   "outputs": [],
   "source": [
    "# основная функция обхода данных\n",
    "def proc_stats(\n",
    "        filename: str, \n",
    "        calc_stats: Callable[[dict, dict], dict], \n",
    "        condition: Callable[..., dict],\n",
    "        skip_line=False,\n",
    ") -> dict:\n",
    "    \"\"\"\n",
    "    функция обходит таблицу и делает по каждой строку расчёты. Затем объединяет результат.\n",
    "    \n",
    "    :param filename: \n",
    "    :param condition: \n",
    "    :param skip_line: Если нужно пропустить первую строку, то следует выставить параметр как True\n",
    "    :return: \n",
    "    \"\"\"\n",
    "    \n",
    "    total_stats: dict = {}\n",
    "    with open(os.path.abspath(filename), \"r\") as file:\n",
    "        if skip_line is True:\n",
    "            file.readline()\n",
    "        for line in file:\n",
    "            line = line.strip().split('\\t')\n",
    "            total_stats = calc_stats(total_stats, condition(line))\n",
    "    return total_stats"
   ]
  },
  {
   "cell_type": "markdown",
   "metadata": {},
   "source": [
    "## Выполнение основных подсчётов"
   ]
  },
  {
   "cell_type": "code",
   "execution_count": 132,
   "metadata": {},
   "outputs": [
    {
     "data": {
      "text/plain": [
       "266"
      ]
     },
     "execution_count": 132,
     "metadata": {},
     "output_type": "execute_result"
    }
   ],
   "source": [
    "# подсчёт уникальных заказов\n",
    "total_uniq_orders = proc_stats(data_txt, unit_uniq_orders, get_other_order)\n",
    "len(total_uniq_orders)"
   ]
  },
  {
   "cell_type": "code",
   "execution_count": 133,
   "metadata": {},
   "outputs": [
    {
     "name": "stdout",
     "output_type": "stream",
     "text": [
      "| Name                 |   roi |   profit |   expense |\n|----------------------+-------+----------+-----------|\n| search engines seo   |  3.23 |   2902.4 |    686.27 |\n| other                |  2.68 |   1992.8 |    541.11 |\n| search engines brand |  3.51 |    234.6 |     52    |\n"
     ]
    }
   ],
   "source": [
    "# подсчитать доходы и расходы по каждой компаниям\n",
    "total_stats = proc_stats(data_txt, unit_profit_expense, profit_expense)\n",
    "# подсчитать ROI \n",
    "roi_stats = calc_roi(total_stats)\n",
    "print_results(roi_stats)"
   ]
  },
  {
   "cell_type": "code",
   "execution_count": 134,
   "metadata": {},
   "outputs": [
    {
     "name": "stdout",
     "output_type": "stream",
     "text": [
      "search engines brand 3.51\n"
     ]
    }
   ],
   "source": [
    "# найти истоничник с максимимальным значением ROI\n",
    "last_roi = (\"\", -1)\n",
    "for source, data in roi_stats.items():\n",
    "    last_roi = max((source, data[ROI]), last_roi, key=lambda x: x[1])\n",
    "    \n",
    "print(f\"{last_roi[0]} {last_roi[1]:.2f}\")"
   ]
  },
  {
   "cell_type": "code",
   "execution_count": 34,
   "metadata": {},
   "outputs": [],
   "source": [
    ""
   ]
  },
  {
   "cell_type": "code",
   "execution_count": 34,
   "metadata": {},
   "outputs": [],
   "source": [
    ""
   ]
  },
  {
   "cell_type": "code",
   "execution_count": null,
   "metadata": {},
   "outputs": [],
   "source": [
    ""
   ]
  }
 ],
 "metadata": {
  "kernelspec": {
   "display_name": "Python 3",
   "language": "python",
   "name": "python3"
  },
  "language_info": {
   "codemirror_mode": {
    "name": "ipython",
    "version": 3.0
   },
   "file_extension": ".py",
   "mimetype": "text/x-python",
   "name": "python",
   "nbconvert_exporter": "python",
   "pygments_lexer": "ipython3",
   "version": "3.6.4"
  }
 },
 "nbformat": 4,
 "nbformat_minor": 0
}