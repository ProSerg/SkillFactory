{
 "cells": [
  {
   "cell_type": "code",
   "execution_count": 34,
   "metadata": {},
   "outputs": [],
   "source": [
    "# работа Excel-файлы \n",
    "path_data = \"./data\""
   ]
  },
  {
   "cell_type": "code",
   "execution_count": 39,
   "metadata": {},
   "outputs": [
    {
     "data": {
      "text/plain": [
       "'medium'"
      ]
     },
     "execution_count": 39,
     "metadata": {},
     "output_type": "execute_result"
    }
   ],
   "source": [
    "# получить элемент E1 таблицы  \"data\"\n",
    "import openpyxl\n",
    "filename = f\"{path_data}/data.xlsx\"\n",
    "sheetname = \"data\"\n",
    "workbook = openpyxl.load_workbook(filename=filename, read_only=True)\n",
    "worksheet = workbook[sheetname]\n",
    "cell = worksheet[\"E1\"]\n",
    "cell.value"
   ]
  },
  {
   "cell_type": "code",
   "execution_count": 43,
   "metadata": {},
   "outputs": [
    {
     "name": "stdout",
     "output_type": "stream",
     "text": [
      "seo google 20.2\nsem yandex 15.6\nemail promo 13.2\nsem yandex 9.8\n<class 'float'>\n"
     ]
    }
   ],
   "source": [
    "# работа с нескольками сталбами\n",
    "for row in worksheet['E2:I5']:\n",
    "    medium, source, amount_pad = row[0].value, row[1].value, row[4].value\n",
    "    print(medium, source, amount_pad)\n",
    "# проверим тип данных в стобце I\n",
    "print(type(amount_pad))"
   ]
  },
  {
   "cell_type": "code",
   "execution_count": 57,
   "metadata": {},
   "outputs": [
    {
     "name": "stdout",
     "output_type": "stream",
     "text": [
      "5129.8\n"
     ]
    }
   ],
   "source": [
    "# Подчитаем сумму в столбце I\n",
    "max_row = worksheet.max_row\n",
    "total_amount_paid = 0\n",
    "for row in worksheet[f\"I2:{max_row}\"]:\n",
    "    total_amount_paid += row[0].value\n",
    "print(total_amount_paid)"
   ]
  },
  {
   "cell_type": "code",
   "execution_count": null,
   "metadata": {},
   "outputs": [],
   "source": [
    ""
   ]
  }
 ],
 "metadata": {
  "kernelspec": {
   "display_name": "Python 3",
   "language": "python",
   "name": "python3"
  },
  "language_info": {
   "codemirror_mode": {
    "name": "ipython",
    "version": 3.0
   },
   "file_extension": ".py",
   "mimetype": "text/x-python",
   "name": "python",
   "nbconvert_exporter": "python",
   "pygments_lexer": "ipython3",
   "version": "3.6.4"
  }
 },
 "nbformat": 4,
 "nbformat_minor": 0
}