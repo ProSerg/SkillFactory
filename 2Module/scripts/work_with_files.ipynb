{
 "cells": [
  {
   "cell_type": "code",
   "execution_count": 13,
   "metadata": {
    "collapsed": true
   },
   "outputs": [],
   "source": [
    "# envirement \n",
    "path_data = \"./data\""
   ]
  },
  {
   "cell_type": "code",
   "execution_count": 14,
   "metadata": {},
   "outputs": [
    {
     "name": "stdout",
     "output_type": "stream",
     "text": [
      "1010\n\n1036\n\n1041\n\n1041\n\n1042\n\n1042\n\n1042\n\n1042\n\n1042\n\n1042\n\n1042\n\n1042\n\n1042\n\n1042\n\n1042\n\n1042\n\n1047\n\n1047\n\n1052\n\n1052\n\n1057\n\n1057\n\n1062\n\n1067\n\n1078\n\n1085\n\n1096\n\n1098\n\n1100\n\n1100\n\n1100\n\n1100\n\n1100\n\n1100\n\n1100\n\n1100\n\n1100\n\n1100\n\n1100\n\n1100\n\n1105\n\n1108\n\n1108\n\n1108\n\n1108\n\n1108\n\n1108\n\n1108\n\n1108\n\n1108\n\n1111\n\n1112\n\n1112\n\n1113\n\n1113\n\n1114\n\n1114\n\n1116\n\n1118\n\n1118\n\n1123\n\n1123\n\n1128\n\n1134\n\n1134\n\n1135\n\n1135\n\n1135\n\n1135\n\n1135\n\n1135\n\n1135\n\n1135\n\n1135\n\n1136\n\n1136\n\n1140\n\n1140\n\n1141\n\n1145\n\n1145\n\n1149\n\n1149\n\n1149\n\n1149\n\n1149\n\n1149\n\n1149\n\n1150\n\n1154\n\n1154\n\n1159\n\n1159\n\n1164\n\n1167\n\n1175\n\n1181\n\n1182\n\n1182\n\n1193\n\n1193\n\n1198\n\n1198\n\n1201\n\n1203\n\n1203\n\n1207\n\n1207\n\n1207\n\n1207\n\n1207\n\n1207\n\n1207\n\n1207\n\n1207\n\n1207\n\n1207\n\n1207\n\n1207\n\n1207\n\n1208\n\n1208\n\n1209\n\n1213\n\n1213\n\n1218\n\n1218\n\n1219\n\n1223\n\n1223\n\n1224\n\n1226\n\n1226\n\n1228\n\n1228\n\n1230\n\n1233\n\n1233\n\n1236\n\n1238\n\n1238\n\n1242\n\n1243\n\n1243\n\n1246\n\n1246\n\n1246\n\n1246\n\n1246\n\n1246\n\n1246\n\n1246\n\n1246\n\n1246\n\n1246\n\n1246\n\n1246\n\n1246\n\n1246\n\n1246\n\n1246\n\n1246\n\n1246\n\n1246\n\n1246\n\n1246\n\n1246\n\n1246\n\n1248\n\n1248\n\n1252\n\n1252\n\n1253\n\n1253\n\n1258\n\n1258\n\n1263\n\n1263\n\n1267\n\n1267\n\n1267\n\n1267\n\n1267\n\n1267\n\n1267\n\n1267\n\n1267\n\n1267\n\n1267\n\n1267\n\n1267\n\n1267\n\n1267\n\n1267\n\n1267\n\n1268\n\n1268\n\n1269\n\n1270\n\n1273\n\n1273\n\n1274\n\n1278\n\n1278\n\n1279\n\n1281\n\n1283\n\n1283\n\n1288\n\n1288\n\n1291\n\n1293\n\n1293\n\n1294\n\n1296\n\n1298\n\n1298\n\n1298\n\n1300\n\n1300\n\n1302\n\n1303\n\n1303\n\n1308\n\n1308\n\n1313\n\n1313\n\n1315\n\n1318\n\n1318\n\n1318\n\n1318\n\n1318\n\n1318\n\n1318\n\n1318\n\n1318\n\n1318\n\n1318\n\n1318\n\n1318\n\n1318\n\n1320\n\n1323\n\n1323\n\n1328\n\n1328\n\n1330\n\n1331\n\n1332\n\n1333\n\n1334\n\n1343\n\n1350\n\n1351\n\n1353\n\n1354\n\n1355\n\n1359\n\n1362\n\n1363\n\n1364\n\n1366\n\n1367\n\n1371\n\n1372\n\n1374\n\n1377\n\n1380\n\n1382\n\n1383\n\n1386\n\n1387\n\n1388\n\n1392\n\n1393\n\n1394\n\n1397\n\n1398\n\n1424\n\n1424\n\n1424\n\n1424\n\n1424\n\n1424\n\n1424\n\n1424\n\n1424\n\n1424\n\n1424\n\n1424\n\n1424\n\n1424\n\n1424\n\n"
     ]
    }
   ],
   "source": [
    "# read from files\n",
    "import os \n",
    "with open(os.path.abspath(f\"{path_data}/user_ids.txt\"), \"r\") as file:\n",
    "    for line in file:\n",
    "        print(line)"
   ]
  },
  {
   "cell_type": "code",
   "execution_count": 15,
   "metadata": {},
   "outputs": [],
   "source": [
    "# read from files without an useful space :\n",
    "# получаем список данных, для удобной работы\n",
    "line_ids: list = []\n",
    "with open(f\"{path_data}/user_ids.txt\", \"r\") as file:\n",
    "    for line in file:\n",
    "        line_id = line.split()\n",
    "        line_ids.append(line_id)"
   ]
  },
  {
   "cell_type": "code",
   "execution_count": 16,
   "metadata": {},
   "outputs": [
    {
     "name": "stdout",
     "output_type": "stream",
     "text": [
      "['1010']\n['1036']\n['1041']\n['1041']\n['1042']\n"
     ]
    }
   ],
   "source": [
    "for idx in range(5):\n",
    "    print(line_ids[idx])"
   ]
  },
  {
   "cell_type": "code",
   "execution_count": 17,
   "metadata": {},
   "outputs": [],
   "source": [
    "# count"
   ]
  },
  {
   "cell_type": "code",
   "execution_count": 8,
   "metadata": {},
   "outputs": [],
   "source": [
    ""
   ]
  },
  {
   "cell_type": "code",
   "execution_count": 8,
   "metadata": {},
   "outputs": [],
   "source": [
    ""
   ]
  },
  {
   "cell_type": "code",
   "execution_count": null,
   "metadata": {},
   "outputs": [],
   "source": [
    ""
   ]
  }
 ],
 "metadata": {
  "kernelspec": {
   "display_name": "Python 2",
   "language": "python",
   "name": "python2"
  },
  "language_info": {
   "codemirror_mode": {
    "name": "ipython",
    "version": 2.0
   },
   "file_extension": ".py",
   "mimetype": "text/x-python",
   "name": "python",
   "nbconvert_exporter": "python",
   "pygments_lexer": "ipython2",
   "version": "2.7.6"
  }
 },
 "nbformat": 4,
 "nbformat_minor": 0
}