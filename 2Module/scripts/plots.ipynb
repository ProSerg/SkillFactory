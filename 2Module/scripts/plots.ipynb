{
 "cells": [
  {
   "cell_type": "code",
   "execution_count": 107,
   "metadata": {},
   "outputs": [],
   "source": [
    "%matplotlib inline\n",
    "import numpy as np\n",
    "import matplotlib.pyplot as plt"
   ]
  },
  {
   "cell_type": "code",
   "execution_count": 136,
   "metadata": {},
   "outputs": [
    {
     "name": "stdout",
     "output_type": "stream",
     "text": [
      "['other', 'search engines brand', 'search engines seo']\n"
     ]
    },
    {
     "data": {
      "image/png": "[encoded data removed]",
      "text/plain": [
       "<matplotlib.figure.Figure at 0xba3d39fc88>"
      ]
     },
     "metadata": {},
     "output_type": "display_data"
    }
   ],
   "source": [
    "stats = {'other': {'expense': 541.1059999999999,\n",
    "                   'profit': 1992.7999999999997,\n",
    "                   'roi': 2.682827394262862},\n",
    "         'search engines brand': {'expense': 52.0,\n",
    "                                  'profit': 234.60000000000005,\n",
    "                                  'roi': 3.5115384615384624},\n",
    "         'search engines seo': {'expense': 686.2699999999992,\n",
    "                                'profit': 2902.4,\n",
    "                                'roi': 3.2292392207148843}}\n",
    "\n",
    "rois = [value['roi'] for key, value in stats.items()]\n",
    "labeltickets = [key for key, value in stats.items()]\n",
    "print(labeltickets)\n",
    "N = 3\n",
    "ind = np.arange(N)  # the x locations for the groups\n",
    "width = 0.9       # the width of the bars\n",
    "\n",
    "fig, ax = plt.subplots()\n",
    "rects1 = ax.bar(ind, rois, width, color='r')\n",
    "# orientation=\n",
    "ax.set_ylabel('Scores')\n",
    "ax.set_title('Scores by group and gender')\n",
    "ax.set_xticks(ind)\n",
    "ax.set_xticklabels(labeltickets)\n",
    "fig.autofmt_xdate()\n",
    "\n",
    "def autolabel(rects):\n",
    "    \"\"\"\n",
    "    Attach a text label above each bar displaying its height\n",
    "    \"\"\"\n",
    "    for rect in rects:\n",
    "        height = rect.get_height()\n",
    "        ax.text(rect.get_x() + rect.get_width()/2., 0.9*height,\n",
    "                '%.2f' % float(height),\n",
    "                ha='center', va='bottom')\n",
    "\n",
    "autolabel(rects1)"
   ]
  },
  {
   "cell_type": "code",
   "execution_count": 132,
   "metadata": {},
   "outputs": [],
   "source": [
    "plt.show()"
   ]
  },
  {
   "cell_type": "code",
   "execution_count": null,
   "metadata": {},
   "outputs": [],
   "source": [
    ""
   ]
  }
 ],
 "metadata": {
  "kernelspec": {
   "display_name": "Python 3",
   "language": "python",
   "name": "python3"
  },
  "language_info": {
   "codemirror_mode": {
    "name": "ipython",
    "version": 3.0
   },
   "file_extension": ".py",
   "mimetype": "text/x-python",
   "name": "python",
   "nbconvert_exporter": "python",
   "pygments_lexer": "ipython3",
   "version": "3.6.4"
  }
 },
 "nbformat": 4,
 "nbformat_minor": 0
}