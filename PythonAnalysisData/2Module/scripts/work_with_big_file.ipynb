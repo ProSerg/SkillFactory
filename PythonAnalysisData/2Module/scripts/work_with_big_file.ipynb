{
 "cells": [
  {
   "cell_type": "code",
   "execution_count": 59,
   "metadata": {},
   "outputs": [],
   "source": [
    "# Подсчет метрик в больших файлах \n",
    "import os\n",
    "path_data = \"../data\""
   ]
  },
  {
   "cell_type": "code",
   "execution_count": 60,
   "metadata": {},
   "outputs": [],
   "source": [
    "# функция условия. возращает параметр по условию.\n",
    "def getAmount(line):\n",
    "    allowedMedium = ['brand', 'seo']\n",
    "    allowedSource = 'yandex'\n",
    "    medium, source, amount = line[4], line[5], float(line[-1].replace(',', '.'))\n",
    "    if source == allowedSource and medium in allowedMedium:\n",
    "        return amount   \n",
    "    else:\n",
    "        return 0"
   ]
  },
  {
   "cell_type": "code",
   "execution_count": 61,
   "metadata": {},
   "outputs": [],
   "source": [
    "# подсчёт суммы в данных из файлу filename по условию condition\n",
    "def proc_data_amount(filename, condition, skip_line: bool=False):\n",
    "    total_amount: float = 0\n",
    "    with open(os.path.abspath(filename), \"r\") as file:\n",
    "        if skip_line is True:\n",
    "            file.readline()\n",
    "        for line in file:\n",
    "            line = line.strip().split('\\t')\n",
    "            # if Started is True:\n",
    "            #     Started = False\n",
    "            # else:\n",
    "            total_amount += condition(line)\n",
    "    return total_amount"
   ]
  },
  {
   "cell_type": "code",
   "execution_count": 62,
   "metadata": {},
   "outputs": [
    {
     "data": {
      "text/plain": [
       "685.8000000000001"
      ]
     },
     "execution_count": 62,
     "metadata": {},
     "output_type": "execute_result"
    }
   ],
   "source": [
    "proc_data_amount(f\"{path_data}/data.txt\", getAmount, skip_line=True)"
   ]
  },
  {
   "cell_type": "code",
   "execution_count": 63,
   "metadata": {},
   "outputs": [],
   "source": [
    "# подчёт уникальных пользователей их файла \n",
    "def count_users(filename): \n",
    "    Started: bool = True\n",
    "    unique_users: int = 0\n",
    "    previous_user_id: str = None\n",
    "    current_user_id: str = None\n",
    "    with open(os.path.abspath(filename), \"r\") as file:\n",
    "        for line in file:\n",
    "            line = line.strip().split('\\t')\n",
    "            current_user_id = line[2]\n",
    "            if Started is True:\n",
    "                Started = False\n",
    "                previous_user_id = current_user_id\n",
    "            else:\n",
    "                if current_user_id != previous_user_id:\n",
    "                    unique_users += 1\n",
    "                previous_user_id = current_user_id\n",
    "        unique_users += 1\n",
    "    return unique_users"
   ]
  },
  {
   "cell_type": "code",
   "execution_count": 64,
   "metadata": {},
   "outputs": [
    {
     "data": {
      "text/plain": [
       "124"
      ]
     },
     "execution_count": 64,
     "metadata": {},
     "output_type": "execute_result"
    }
   ],
   "source": [
    "count_users(f\"{path_data}/data_no_header.txt\")"
   ]
  },
  {
   "cell_type": "code",
   "execution_count": 65,
   "metadata": {},
   "outputs": [],
   "source": [
    ""
   ]
  },
  {
   "cell_type": "code",
   "execution_count": 36,
   "metadata": {},
   "outputs": [],
   "source": [
    ""
   ]
  },
  {
   "cell_type": "code",
   "execution_count": null,
   "metadata": {},
   "outputs": [],
   "source": [
    ""
   ]
  }
 ],
 "metadata": {
  "kernelspec": {
   "display_name": "Python 3",
   "language": "python",
   "name": "python3"
  },
  "language_info": {
   "codemirror_mode": {
    "name": "ipython",
    "version": 3.0
   },
   "file_extension": ".py",
   "mimetype": "text/x-python",
   "name": "python",
   "nbconvert_exporter": "python",
   "pygments_lexer": "ipython3",
   "version": "3.6.4"
  }
 },
 "nbformat": 4,
 "nbformat_minor": 0
}