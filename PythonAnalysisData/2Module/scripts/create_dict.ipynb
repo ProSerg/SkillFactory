{
 "cells": [
  {
   "cell_type": "code",
   "execution_count": 178,
   "metadata": {},
   "outputs": [],
   "source": [
    "# Блок 6 Создание словарей\n",
    "import os\n",
    "\n",
    "path_data = \"../data\"\n",
    "ID = 0\n",
    "DATE = 1\n",
    "USER_ID = 2\n",
    "DURATION = 3\n",
    "MEDIUM = 4\n",
    "SOURCE = 5\n",
    "COST = 6\n",
    "ORDER_ID = 7\n",
    "AMOUNT_PAID = 8"
   ]
  },
  {
   "cell_type": "code",
   "execution_count": 179,
   "metadata": {},
   "outputs": [],
   "source": [
    "# отчёт по затратам\n",
    "def printCosts(source, total_costs):\n",
    "    if source in total_costs:\n",
    "        print('Расходы на источник {} составили {:.2f} рублей'.format( source, total_costs[source]))\n",
    "    else:\n",
    "        print('Источник {} не найден в итоговой статистике'.format(source))"
   ]
  },
  {
   "cell_type": "code",
   "execution_count": 180,
   "metadata": {},
   "outputs": [],
   "source": [
    "# отчёт по стоимости кликов\n",
    "def printCostsClick(campaign_stats):\n",
    "    for campaign, stats in campaign_stats.items():\n",
    "        print('Кампания {}, цена клика {}'.format(campaign, stats['cost'] / stats['clicks']))"
   ]
  },
  {
   "cell_type": "code",
   "execution_count": 181,
   "metadata": {},
   "outputs": [],
   "source": [
    "def proc_cost_clicks():\n",
    "    campaign_stats = {\n",
    "        'google': {'cost': 1000, 'clicks': 500},\n",
    "        'yandex': {'cost': 1500, 'clicks': 900}\n",
    "    }\n",
    "    return campaign_stats"
   ]
  },
  {
   "cell_type": "code",
   "execution_count": 182,
   "metadata": {},
   "outputs": [],
   "source": [
    "# получить значение стоимости трафика \n",
    "def getCostsbyTraffic(line: str, parameters: list) -> dict:\n",
    "    costs: dict = {}\n",
    "    for item in parameters:\n",
    "        if item == line[SOURCE]:\n",
    "            costs.update({line[SOURCE]: float(line[COST].replace(',', '.'))})\n",
    "            break\n",
    "    return costs"
   ]
  },
  {
   "cell_type": "code",
   "execution_count": 183,
   "metadata": {},
   "outputs": [],
   "source": [
    "# подсчёт общей суммы затрата \n",
    "def calcCosts(total: dict, current: dict):\n",
    "    _total = total.copy()\n",
    "    for key, value in current.items():\n",
    "        _total.update({key: _total.get(key, 0.0) + float(value)})\n",
    "    return _total"
   ]
  },
  {
   "cell_type": "code",
   "execution_count": 184,
   "metadata": {},
   "outputs": [],
   "source": [
    "# основная функция подчёт затрат\n",
    "def proc_costs(filename, parameters, condition):\n",
    "    Started: bool = True \n",
    "    total_costs: dict = {}\n",
    "    with open(os.path.abspath(filename), \"r\") as file:\n",
    "        for line in file:\n",
    "            line = line.strip().split('\\t')\n",
    "            if Started is True:\n",
    "                Started = False\n",
    "            else:\n",
    "                total_costs = calcCosts(total_costs, condition(line, parameters))\n",
    "    return total_costs"
   ]
  },
  {
   "cell_type": "code",
   "execution_count": 185,
   "metadata": {},
   "outputs": [],
   "source": [
    "# подчёт расходов трафика по заданным параметрам\n",
    "parameters = [\"google\", \"yandex\", \"promo\", \"brand\"]\n",
    "total_costs = proc_costs(f\"{path_data}/data.txt\", parameters, getCostsbyTraffic)"
   ]
  },
  {
   "cell_type": "code",
   "execution_count": 186,
   "metadata": {},
   "outputs": [
    {
     "name": "stdout",
     "output_type": "stream",
     "text": [
      "google : 6.90\nyandex : 7.37\npromo : 0.00\nРасходы на источник google составили 6.90 рублей\nРасходы на источник yandex составили 7.37 рублей\nРасходы на источник promo составили 0.00 рублей\nИсточник brand не найден в итоговой статистике\n"
     ]
    }
   ],
   "source": [
    "# вывод расходов трафика\n",
    "for key, value in total_costs.items():\n",
    "    print(\"{} : {:.2f}\".format(key, value))\n",
    "for item in parameters:\n",
    "    printCosts(item, total_costs)"
   ]
  },
  {
   "cell_type": "code",
   "execution_count": 187,
   "metadata": {},
   "outputs": [],
   "source": [
    "# статистика по стоимости кликов. Словарь и значение одновремено\n",
    "campaign_stats = proc_cost_clicks()"
   ]
  },
  {
   "cell_type": "code",
   "execution_count": 189,
   "metadata": {},
   "outputs": [
    {
     "name": "stdout",
     "output_type": "stream",
     "text": [
      "Кампания google, цена клика 2.0\nКампания yandex, цена клика 1.6666666666666667\n<class 'function'>\n"
     ]
    }
   ],
   "source": [
    "# \n",
    "printCostsClick(campaign_stats)\n",
    "print(type(printCostsClick))"
   ]
  },
  {
   "cell_type": "code",
   "execution_count": 190,
   "metadata": {},
   "outputs": [],
   "source": [
    "def calcUsers(total: dict, user_id: int) -> dict:\n",
    "    _total = total.copy()\n",
    "    _total.update({user_id: _total.get(user_id, 0.0) + 1})\n",
    "    return _total"
   ]
  },
  {
   "cell_type": "code",
   "execution_count": 194,
   "metadata": {},
   "outputs": [],
   "source": [
    "def getUsers(line):\n",
    "    return line[USER_ID]"
   ]
  },
  {
   "cell_type": "code",
   "execution_count": 208,
   "metadata": {},
   "outputs": [],
   "source": [
    "def printUser(total_users, user_id):\n",
    "    print(\"Пользователь под номером {} совершил {} покупок\".format(user_id, total_users[user_id]))"
   ]
  },
  {
   "cell_type": "code",
   "execution_count": 209,
   "metadata": {},
   "outputs": [],
   "source": [
    "# подсчёт покупак уникальными пользователями\n",
    "# основная функция подчёт затрат\n",
    "def proc_users(filename, condition):\n",
    "    Started: bool = True \n",
    "    total_users: dict = {}\n",
    "    with open(os.path.abspath(filename), \"r\") as file:\n",
    "        for line in file:\n",
    "            line = line.strip().split('\\t')\n",
    "            if Started is True:\n",
    "                Started = False\n",
    "            else:\n",
    "                total_users = calcUsers(\n",
    "                    total_users, \n",
    "                    condition(line)\n",
    "                )\n",
    "    return total_users"
   ]
  },
  {
   "cell_type": "code",
   "execution_count": 210,
   "metadata": {},
   "outputs": [],
   "source": [
    "total_users = proc_users(f\"{path_data}/data_no_header.txt\", getUsers)"
   ]
  },
  {
   "cell_type": "code",
   "execution_count": 211,
   "metadata": {},
   "outputs": [
    {
     "name": "stdout",
     "output_type": "stream",
     "text": [
      "Пользователь под номером 1042 совершил 12.0 покупок\n"
     ]
    }
   ],
   "source": [
    "printUser(total_users, '1042')"
   ]
  },
  {
   "cell_type": "code",
   "execution_count": null,
   "metadata": {},
   "outputs": [],
   "source": [
    ""
   ]
  }
 ],
 "metadata": {
  "kernelspec": {
   "display_name": "Python 3",
   "language": "python",
   "name": "python3"
  },
  "language_info": {
   "codemirror_mode": {
    "name": "ipython",
    "version": 3.0
   },
   "file_extension": ".py",
   "mimetype": "text/x-python",
   "name": "python",
   "nbconvert_exporter": "python",
   "pygments_lexer": "ipython3",
   "version": "3.6.4"
  }
 },
 "nbformat": 4,
 "nbformat_minor": 0
}