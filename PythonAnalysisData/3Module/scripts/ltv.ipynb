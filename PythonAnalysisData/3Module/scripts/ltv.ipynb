{
 "cells": [
  {
   "cell_type": "markdown",
   "metadata": {},
   "source": [
    "Блок 5 Подсчёт LTV"
   ]
  },
  {
   "cell_type": "code",
   "execution_count": 254,
   "metadata": {},
   "outputs": [],
   "source": [
    "# Преамбула\n",
    "from functools import reduce\n",
    "from typing import Callable, Any\n",
    "import os\n",
    "import sys\n",
    "\n",
    "# подгрузка python скрипт в notebook/\n",
    "# Если поменть значение в скрипте, то надо перезагрузить весь notebook.\n",
    "module_path = os.path.abspath(os.path.join('.'))\n",
    "if module_path not in sys.path:\n",
    "    sys.path.append(module_path)\n",
    "    \n",
    "from mods.defaults import *"
   ]
  },
  {
   "cell_type": "code",
   "execution_count": 255,
   "metadata": {},
   "outputs": [],
   "source": [
    "def lt_calculation(user_stats: dict) -> int:\n",
    "    \"\"\"Функция возвращает lifetime  для пользователя.\"\"\"\n",
    "    user_dates = sorted(user_stats.get(OptLTV.DATETIME))\n",
    "    return (user_dates[-1] - user_dates[0]).days"
   ]
  },
  {
   "cell_type": "code",
   "execution_count": 256,
   "metadata": {},
   "outputs": [],
   "source": [
    "def ltv_calculation(user_stats: dict):\n",
    "    \"\"\" Фукцния возращает общую сумму платежей .\n",
    "        Сложное условие : требуется исключать первый платеж, если он был более NUM \n",
    "        Решение : \n",
    "        paid = user_stats.get(OptLTV.PAID).copy() копируем чтобы не изменить оригинал.\n",
    "        paid.pop(0) if paid[0] > NUM else paid\n",
    "        return sum(list(paid))\n",
    "    \"\"\"\n",
    "    return sum(list(user_stats.get(OptLTV.PAID)))"
   ]
  },
  {
   "cell_type": "code",
   "execution_count": 257,
   "metadata": {},
   "outputs": [],
   "source": [
    "def calc_users(total_stats: dict, process: Callable[..., int]) -> list:\n",
    "    \"\"\"\n",
    "    Функция для просчёта каких-то данных для каждого пользователя. Это фукнция используеться \n",
    "    для анализа.\n",
    "    :param total_stats: общая статистика\n",
    "    :param process:  фукнция вычеслитель\n",
    "    :return: Список кортежей ввида  -> ( пользователь, какое-то вычесляемое значение )\n",
    "    \"\"\"\n",
    "    _result = []\n",
    "    for user_id, stats in total_stats.items():\n",
    "        _result.append((user_id, process(stats)))\n",
    "    return _result"
   ]
  },
  {
   "cell_type": "code",
   "execution_count": 258,
   "metadata": {},
   "outputs": [],
   "source": [
    "def lt_analyze(total_stats: dict, \n",
    "               proc_lt_days=lambda x, y: x + y[1],\n",
    "               proc_lt_users=lambda x, y: x + 1 if y[1] > 0 else x,\n",
    "               days=90,\n",
    "               ) -> dict:\n",
    "    \"\"\"\n",
    "    LT анализ для данной выборке. \n",
    "    :param total_stats: выборка данных\n",
    "    :param proc_lt_days: вычеслитель всего дней\n",
    "    :param proc_lt_users: вычеслитель всего пользователей \n",
    "    :return: результат анализа\n",
    "    \"\"\"\n",
    "    lt_stats = calc_users(total_stats, lt_calculation)\n",
    "    lt_days = reduce(proc_lt_days, lt_stats, 0)\n",
    "    lt_users = reduce(proc_lt_users, lt_stats, 0)\n",
    "    # Проверка сложного условия :\n",
    "    # Пользователей, у которых между платежами более Days, считать за двух\n",
    "    # дата первой покупоки.\n",
    "    first_date = lt_stats[0][1]\n",
    "    for user, date in lt_stats:\n",
    "        if date - first_date > days:\n",
    "            lt_users = +1 \n",
    "    #\n",
    "    lifetime = lt_days / lt_users\n",
    "    return {\n",
    "        \"LT_DAYS\": lt_days,\n",
    "        \"LT_USERS\": lt_users,\n",
    "        \"LifeTime\": lifetime\n",
    "    }"
   ]
  },
  {
   "cell_type": "code",
   "execution_count": 259,
   "metadata": {},
   "outputs": [],
   "source": [
    "def ltv_analyze(total_stats: dict) -> dict:\n",
    "    # Суммароное велечина всех покупок\n",
    "    ltv_stats = calc_users(total_stats, ltv_calculation)\n",
    "    ltv_paid = reduce(lambda x, y: x + y[1], ltv_stats, 0)\n",
    "    ltv_users = reduce(lambda x, y: x + 1, ltv_stats, 0)\n",
    "    ltv_mid = ltv_paid/ltv_users\n",
    "    return {\n",
    "        \"LTV_PAID\": ltv_paid,\n",
    "        \"LTV_USERS\": ltv_users,\n",
    "        \"LTV\": ltv_mid,\n",
    "    }"
   ]
  },
  {
   "cell_type": "code",
   "execution_count": 260,
   "metadata": {},
   "outputs": [],
   "source": [
    "def collect_dates(total_stats: dict, args) -> dict:\n",
    "    _user_id, _datetime, _amount_paid = args\n",
    "    _total_stats = total_stats.copy()\n",
    "    _stats_user = _total_stats.get(_user_id, {\n",
    "            OptLTV.PAID: [],\n",
    "            OptLTV.DATETIME: [],\n",
    "        })\n",
    "    paids = _stats_user.get(OptLTV.PAID, [])\n",
    "    paids.append(_amount_paid)\n",
    "    dates = _stats_user.get(OptLTV.DATETIME, [])\n",
    "    dates.append(_datetime)\n",
    "    _total_stats.update(\n",
    "        {_user_id: {\n",
    "            OptLTV.PAID: paids,\n",
    "            OptLTV.DATETIME: dates,\n",
    "        }\n",
    "        })\n",
    "    return _total_stats"
   ]
  },
  {
   "cell_type": "code",
   "execution_count": 261,
   "metadata": {},
   "outputs": [],
   "source": [
    "def condition(line: list) -> tuple:\n",
    "    \"\"\"Фукнция выделяет три параметра дата платежа, чек платежа, номер пользователя.\"\"\"\n",
    "    _datetime = datetime.strptime(line[NameHeaders.DATE], date_format)\n",
    "    _user_id = line[NameHeaders.USER_ID]\n",
    "    _amount_paid = conv_float(line[NameHeaders.AMOUNT_PAID])\n",
    "    return _user_id, _datetime, _amount_paid"
   ]
  },
  {
   "cell_type": "code",
   "execution_count": 262,
   "metadata": {},
   "outputs": [
    {
     "data": {
      "text/plain": [
       "('1041', datetime.datetime(2016, 10, 5, 3, 23), 13.2)"
      ]
     },
     "execution_count": 262,
     "metadata": {},
     "output_type": "execute_result"
    }
   ],
   "source": [
    "# проверка\n",
    "condition([\n",
    "    '40177',\n",
    "    '05.10.2016 3:23', \n",
    "    '1041', \n",
    "    '0,00337963', \n",
    "    'email', \n",
    "    'promo', \n",
    "    '0', \n",
    "    '6128', \n",
    "    '13,20'])"
   ]
  },
  {
   "cell_type": "code",
   "execution_count": 263,
   "metadata": {},
   "outputs": [],
   "source": [
    "def proc_stats(\n",
    "        filename: str, \n",
    "        collect_stats: Callable[[dict, Any], dict], \n",
    "        condition: Callable[..., tuple],\n",
    "        skip_line=False,\n",
    "        **kwargs\n",
    ") -> dict:\n",
    "    \"\"\"\n",
    "    функция обходит таблицу и делает по каждой строку расчёты. Затем объединяет результат.\n",
    "    \n",
    "    :param filename: путь до файла с данными\n",
    "    :param collect_stats: фукцния коллеционирования обработанных данных\n",
    "    :param condition: функция обработки данных\n",
    "    :param skip_line: Если нужно пропустить первую строку, то следует выставить параметр как True\n",
    "    :return: общая выборка\n",
    "    \"\"\"\n",
    "    \n",
    "    total_stats: dict = {}\n",
    "    with open(os.path.abspath(filename), \"r\") as file:\n",
    "        if skip_line is True:\n",
    "            file.readline()\n",
    "        for line in file:\n",
    "            line = line.strip().split('\\t')\n",
    "            total_stats = collect_stats(total_stats, condition(line, **kwargs))\n",
    "    return total_stats"
   ]
  },
  {
   "cell_type": "code",
   "execution_count": 264,
   "metadata": {},
   "outputs": [],
   "source": [
    "total_stats = proc_stats(\n",
    "    filename=data_txt, \n",
    "    collect_stats=collect_dates, \n",
    "    condition=condition)"
   ]
  },
  {
   "cell_type": "code",
   "execution_count": 265,
   "metadata": {},
   "outputs": [],
   "source": [
    "# print_collection(total_stats)"
   ]
  },
  {
   "cell_type": "code",
   "execution_count": 266,
   "metadata": {},
   "outputs": [
    {
     "name": "stdout",
     "output_type": "stream",
     "text": [
      "PAID:[13.8, 12.8, 17.2, 16.0, 14.2, 19.6, 22.4, 14.8, 13.0, 13.6, 12.6, 19.2, 20.2, 16.0, 11.6]\nDATETIME: ['01.10.2016', '03.10.2016', '04.10.2016', '04.10.2016', '04.10.2016', '05.10.2016', '06.10.2016', '07.10.2016', '07.10.2016', '07.10.2016', '08.10.2016', '08.10.2016', '08.10.2016', '09.10.2016', '10.10.2016']\n"
     ]
    }
   ],
   "source": [
    "print_user(total_stats, '1424')"
   ]
  },
  {
   "cell_type": "code",
   "execution_count": 267,
   "metadata": {},
   "outputs": [
    {
     "data": {
      "text/plain": [
       "8"
      ]
     },
     "execution_count": 267,
     "metadata": {},
     "output_type": "execute_result"
    }
   ],
   "source": [
    "lt_calculation(total_stats['1424'])"
   ]
  },
  {
   "cell_type": "code",
   "execution_count": 268,
   "metadata": {},
   "outputs": [
    {
     "data": {
      "text/plain": [
       "236.99999999999997"
      ]
     },
     "execution_count": 268,
     "metadata": {},
     "output_type": "execute_result"
    }
   ],
   "source": [
    "ltv_calculation(total_stats['1424'])"
   ]
  },
  {
   "cell_type": "code",
   "execution_count": 269,
   "metadata": {},
   "outputs": [
    {
     "data": {
      "text/plain": [
       "{'LT_DAYS': 173, 'LT_USERS': 43, 'LifeTime': 4.023255813953488}"
      ]
     },
     "execution_count": 269,
     "metadata": {},
     "output_type": "execute_result"
    }
   ],
   "source": [
    "# анализ для пользователей с ненуливым LT\n",
    "lt_analyze(total_stats)"
   ]
  },
  {
   "cell_type": "code",
   "execution_count": 270,
   "metadata": {},
   "outputs": [
    {
     "data": {
      "text/plain": [
       "{'LT_DAYS': 173, 'LT_USERS': 124, 'LifeTime': 1.3951612903225807}"
      ]
     },
     "execution_count": 270,
     "metadata": {},
     "output_type": "execute_result"
    }
   ],
   "source": [
    "# анализ для пользователей с любым LT\n",
    "lt_analyze(total_stats, proc_lt_users=lambda x, y: x + 1)"
   ]
  },
  {
   "cell_type": "code",
   "execution_count": 271,
   "metadata": {},
   "outputs": [
    {
     "data": {
      "text/plain": [
       "{'LTV': 41.36935483870969, 'LTV_PAID': 5129.800000000001, 'LTV_USERS': 124}"
      ]
     },
     "execution_count": 271,
     "metadata": {},
     "output_type": "execute_result"
    }
   ],
   "source": [
    "ltv_analyze(total_stats)"
   ]
  },
  {
   "cell_type": "code",
   "execution_count": 272,
   "metadata": {},
   "outputs": [],
   "source": [
    ""
   ]
  },
  {
   "cell_type": "code",
   "execution_count": null,
   "metadata": {},
   "outputs": [],
   "source": [
    ""
   ]
  }
 ],
 "metadata": {
  "kernelspec": {
   "display_name": "Python 3",
   "language": "python",
   "name": "python3"
  },
  "language_info": {
   "codemirror_mode": {
    "name": "ipython",
    "version": 3.0
   },
   "file_extension": ".py",
   "mimetype": "text/x-python",
   "name": "python",
   "nbconvert_exporter": "python",
   "pygments_lexer": "ipython3",
   "version": "3.6.4"
  }
 },
 "nbformat": 4,
 "nbformat_minor": 0
}