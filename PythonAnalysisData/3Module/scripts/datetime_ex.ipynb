{
 "cells": [
  {
   "cell_type": "markdown",
   "metadata": {},
   "source": [
    "Блок 2 Datetime"
   ]
  },
  {
   "cell_type": "code",
   "execution_count": 132,
   "metadata": {},
   "outputs": [],
   "source": [
    "from datetime import datetime, timedelta\n",
    "from typing import Callable, Any\n",
    "import os\n",
    "\n",
    "\n",
    "path_data = \"../data\"\n",
    "data_txt = f\"{path_data}/data_no_header.txt\"\n",
    "date_format = \"%d.%m.%Y %H:%M\""
   ]
  },
  {
   "cell_type": "code",
   "execution_count": 133,
   "metadata": {},
   "outputs": [
    {
     "name": "stdout",
     "output_type": "stream",
     "text": [
      "2017-01-01 01:00:00\n2017-01-01 02:00:00\n2017-01-01 03:00:00\n2017-01-01 04:00:00\n2017-01-01 05:00:00\n2017-01-01 06:00:00\n2017-01-01 07:00:00\n2017-01-01 08:00:00\n2017-01-01 09:00:00\n2017-01-01 10:00:00\n2017-01-01 11:00:00\n2017-01-01 12:00:00\n2017-01-01 13:00:00\n2017-01-01 14:00:00\n2017-01-01 15:00:00\n2017-01-01 16:00:00\n2017-01-01 17:00:00\n2017-01-01 18:00:00\n2017-01-01 19:00:00\n2017-01-01 20:00:00\n2017-01-01 21:00:00\n2017-01-01 22:00:00\n2017-01-01 23:00:00\n2017-01-02 00:00:00\n2017-01-02 01:00:00\n2017-01-02 02:00:00\n2017-01-02 03:00:00\n2017-01-02 04:00:00\n2017-01-02 05:00:00\n2017-01-02 06:00:00\n2017-01-02 07:00:00\n2017-01-02 08:00:00\n2017-01-02 09:00:00\n2017-01-02 10:00:00\n2017-01-02 11:00:00\n2017-01-02 12:00:00\n2017-01-02 13:00:00\n2017-01-02 14:00:00\n2017-01-02 15:00:00\n2017-01-02 16:00:00\n2017-01-02 17:00:00\n2017-01-02 18:00:00\n2017-01-02 19:00:00\n2017-01-02 20:00:00\n2017-01-02 21:00:00\n2017-01-02 22:00:00\n2017-01-02 23:00:00\n2017-01-03 00:00:00\n2017-01-03 01:00:00\n2017-01-03 02:00:00\n2017-01-03 03:00:00\n2017-01-03 04:00:00\n2017-01-03 05:00:00\n2017-01-03 06:00:00\n2017-01-03 07:00:00\n2017-01-03 08:00:00\n2017-01-03 09:00:00\n2017-01-03 10:00:00\n2017-01-03 11:00:00\n2017-01-03 12:00:00\n2017-01-03 13:00:00\n2017-01-03 14:00:00\n2017-01-03 15:00:00\n2017-01-03 16:00:00\n2017-01-03 17:00:00\n2017-01-03 18:00:00\n2017-01-03 19:00:00\n2017-01-03 20:00:00\n2017-01-03 21:00:00\n2017-01-03 22:00:00\n2017-01-03 23:00:00\n2017-01-04 00:00:00\n"
     ]
    }
   ],
   "source": [
    "start_date_string = \"2017-01-01 00:00:00\"\n",
    "end_date_string = \"2017-01-03 23:59:59\"\n",
    "_date_format = \"%Y-%m-%d %H:%M:%S\"\n",
    "\n",
    "start_datetime = datetime.strptime(start_date_string, _date_format)\n",
    "end_datetime = datetime.strptime(end_date_string, _date_format)\n",
    "current_datetime = start_datetime\n",
    "while current_datetime <= end_datetime:\n",
    "    current_datetime += timedelta(hours=1)\n",
    "    print(current_datetime.strftime(_date_format))"
   ]
  },
  {
   "cell_type": "code",
   "execution_count": 152,
   "metadata": {},
   "outputs": [],
   "source": [
    "def print_collection(stats: dict):\n",
    "    total_amounts = stats.get(AMOUNTS)\n",
    "    print(f\"Total amounts: {total_amounts}\")\n",
    "    for key, value in sorted(stats.get(HOURS).items()):\n",
    "        percent = value / total_amounts * 100\n",
    "        print(f\"{key}:{value} ({percent:.2f})\")"
   ]
  },
  {
   "cell_type": "code",
   "execution_count": 153,
   "metadata": {},
   "outputs": [],
   "source": [
    "def sum_amounts(stats: dict):\n",
    "    total_sum = 0\n",
    "    for key, value in sorted(stats.get(HOURS).items()):\n",
    "        total_sum += value\n",
    "    print(\"Sum amounts: \", total_sum)"
   ]
  },
  {
   "cell_type": "code",
   "execution_count": 154,
   "metadata": {},
   "outputs": [],
   "source": [
    "def collect_dates(total_stats: dict, args):\n",
    "    stat_date = args[0]\n",
    "    count_amount = args[1]\n",
    "    _total_stats = total_stats.copy()\n",
    "    hours = _total_stats.get(HOURS, {})\n",
    "    hours.update({stat_date.hour: hours.get(stat_date.hour, 0) + 1})\n",
    "    _total_stats.update({\n",
    "        HOURS: hours,\n",
    "        AMOUNTS: _total_stats.get(AMOUNTS, 0) + count_amount,\n",
    "    })\n",
    "    return _total_stats"
   ]
  },
  {
   "cell_type": "code",
   "execution_count": 155,
   "metadata": {},
   "outputs": [],
   "source": [
    "def condition(line, **kwargs):\n",
    "    date_format = kwargs[\"date_format\"]\n",
    "    date_string = line[1]\n",
    "    current_datatime = datetime.strptime(date_string, date_format)\n",
    "    amount = 1 \n",
    "    return current_datatime, amount"
   ]
  },
  {
   "cell_type": "code",
   "execution_count": 156,
   "metadata": {},
   "outputs": [
    {
     "data": {
      "text/plain": [
       "(datetime.datetime(2016, 10, 5, 3, 23), 1)"
      ]
     },
     "execution_count": 156,
     "metadata": {},
     "output_type": "execute_result"
    }
   ],
   "source": [
    "condition([\n",
    "    '40177',\n",
    "    '05.10.2016 3:23', \n",
    "    '1041', \n",
    "    '0,00337963', \n",
    "    'email', \n",
    "    'promo', \n",
    "    '0', \n",
    "    '6128', \n",
    "    '13,20']\n",
    "    , date_format=date_format)"
   ]
  },
  {
   "cell_type": "code",
   "execution_count": 157,
   "metadata": {},
   "outputs": [],
   "source": [
    "# основная функция обхода данных\n",
    "\n",
    "\n",
    "def proc_stats(\n",
    "        filename: str, \n",
    "        collect_stats: Callable[[dict, Any], dict], \n",
    "        condition: Callable[..., dict],\n",
    "        skip_line=False,\n",
    "        **kwargs\n",
    ") -> dict:\n",
    "    \"\"\"\n",
    "    функция обходит таблицу и делает по каждой строку расчёты. Затем объединяет результат.\n",
    "    \n",
    "    :param filename: \n",
    "    :param condition: \n",
    "    :param skip_line: Если нужно пропустить первую строку, то следует выставить параметр как True\n",
    "    :return: \n",
    "    \"\"\"\n",
    "    \n",
    "    total_stats: dict = {}\n",
    "    with open(os.path.abspath(filename), \"r\") as file:\n",
    "        if skip_line is True:\n",
    "            file.readline()\n",
    "        for line in file:\n",
    "            line = line.strip().split('\\t')\n",
    "            total_stats = collect_stats(total_stats, condition(line, **kwargs))\n",
    "    return total_stats"
   ]
  },
  {
   "cell_type": "code",
   "execution_count": 158,
   "metadata": {},
   "outputs": [],
   "source": [
    "total_stats = proc_stats(\n",
    "    filename=data_txt, \n",
    "    collect_stats=collect_dates, \n",
    "    condition=condition,\n",
    "    date_format=date_format)"
   ]
  },
  {
   "cell_type": "code",
   "execution_count": 159,
   "metadata": {},
   "outputs": [],
   "source": [
    "total_stats.get(19)"
   ]
  },
  {
   "cell_type": "code",
   "execution_count": 160,
   "metadata": {},
   "outputs": [
    {
     "name": "stdout",
     "output_type": "stream",
     "text": [
      "Total amounts: 294\n0:8 (2.72)\n1:10 (3.40)\n2:14 (4.76)\n3:8 (2.72)\n4:14 (4.76)\n5:13 (4.42)\n6:21 (7.14)\n7:9 (3.06)\n8:11 (3.74)\n9:13 (4.42)\n10:14 (4.76)\n11:8 (2.72)\n12:10 (3.40)\n13:13 (4.42)\n14:11 (3.74)\n15:9 (3.06)\n16:19 (6.46)\n17:15 (5.10)\n18:13 (4.42)\n19:12 (4.08)\n20:8 (2.72)\n21:11 (3.74)\n22:14 (4.76)\n23:16 (5.44)\nSum amounts:  294\n"
     ]
    }
   ],
   "source": [
    ""
   ]
  },
  {
   "cell_type": "code",
   "execution_count": null,
   "metadata": {},
   "outputs": [],
   "source": [
    ""
   ]
  },
  {
   "cell_type": "code",
   "execution_count": 1,
   "metadata": {},
   "outputs": [],
   "source": [
    ""
   ]
  }
 ],
 "metadata": {
  "kernelspec": {
   "display_name": "Python 3",
   "language": "python",
   "name": "python3"
  },
  "language_info": {
   "codemirror_mode": {
    "name": "ipython",
    "version": 3.0
   },
   "file_extension": ".py",
   "mimetype": "text/x-python",
   "name": "python",
   "nbconvert_exporter": "python",
   "pygments_lexer": "ipython3",
   "version": "3.6.4"
  }
 },
 "nbformat": 4,
 "nbformat_minor": 0
}