{
 "cells": [
  {
   "cell_type": "markdown",
   "metadata": {
    "collapsed": true
   },
   "source": [
    "*Переменный и работа с ними*"
   ]
  },
  {
   "cell_type": "code",
   "execution_count": 21,
   "metadata": {},
   "outputs": [],
   "source": [
    "# Annotation\n",
    "banner1_shows: int = 1000000 \n",
    "banner1_clicks: int = 983\n",
    "banner2_shows: int = 100000\n",
    "banner2_clicks: int = 4"
   ]
  },
  {
   "cell_type": "code",
   "execution_count": 22,
   "metadata": {},
   "outputs": [
    {
     "data": {
      "text/plain": [
       "1100000"
      ]
     },
     "execution_count": 22,
     "metadata": {},
     "output_type": "execute_result"
    }
   ],
   "source": [
    "# Общие коллисество просмотров баннеров\n",
    "banner1_shows + banner2_shows"
   ]
  },
  {
   "cell_type": "code",
   "execution_count": 23,
   "metadata": {},
   "outputs": [],
   "source": [
    "# Показатели эффективности по кликам\n",
    "def ctr(clicks: int, shows: int) -> float:\n",
    "    return float(clicks/shows)"
   ]
  },
  {
   "cell_type": "code",
   "execution_count": 24,
   "metadata": {},
   "outputs": [
    {
     "data": {
      "text/plain": [
       "4e-05"
      ]
     },
     "execution_count": 24,
     "metadata": {},
     "output_type": "execute_result"
    }
   ],
   "source": [
    "# CTR for banner2\n",
    "ctr2 = ctr(banner2_clicks, banner2_shows)\n",
    "ctr2"
   ]
  },
  {
   "cell_type": "code",
   "execution_count": 25,
   "metadata": {},
   "outputs": [
    {
     "data": {
      "text/plain": [
       "0.000983"
      ]
     },
     "execution_count": 25,
     "metadata": {},
     "output_type": "execute_result"
    }
   ],
   "source": [
    "# CTR for banner1\n",
    "ctr1 = ctr(clicks=banner1_clicks, shows=banner1_shows)\n",
    "ctr1"
   ]
  },
  {
   "cell_type": "code",
   "execution_count": 26,
   "metadata": {},
   "outputs": [],
   "source": [
    ""
   ]
  },
  {
   "cell_type": "code",
   "execution_count": 26,
   "metadata": {},
   "outputs": [
    {
     "name": "stdout",
     "output_type": "stream",
     "text": [
      " CTR1 > CTR2 : 25\n"
     ]
    }
   ],
   "source": [
    "# во сколько раз CTR первого баннера больше, чем CTR второго\n",
    "ctr_relation = ctr(banner1_clicks, banner1_shows)/ctr(banner2_clicks, banner2_shows)\n",
    "print(\" CTR1 > CTR2 : {0:.0f}\".format(ctr_relation))"
   ]
  },
  {
   "cell_type": "code",
   "execution_count": 27,
   "metadata": {},
   "outputs": [
    {
     "data": {
      "text/plain": [
       "float"
      ]
     },
     "execution_count": 27,
     "metadata": {},
     "output_type": "execute_result"
    }
   ],
   "source": [
    "ctr2 = banner2_clicks / banner2_shows\n",
    "type(ctr2)"
   ]
  },
  {
   "cell_type": "code",
   "execution_count": 28,
   "metadata": {},
   "outputs": [
    {
     "data": {
      "text/plain": [
       "float"
      ]
     },
     "execution_count": 28,
     "metadata": {},
     "output_type": "execute_result"
    }
   ],
   "source": [
    "aa = pow(5, 0.5)\n",
    "type(aa)"
   ]
  },
  {
   "cell_type": "code",
   "execution_count": 29,
   "metadata": {},
   "outputs": [
    {
     "name": "stdout",
     "output_type": "stream",
     "text": [
      "Значение CTR первого баннера равно:  0.000983\n"
     ]
    }
   ],
   "source": [
    "print('Значение CTR первого баннера равно: ', ctr(banner1_clicks, banner1_shows))"
   ]
  },
  {
   "cell_type": "code",
   "execution_count": 30,
   "metadata": {},
   "outputs": [
    {
     "name": "stdout",
     "output_type": "stream",
     "text": [
      "Результаты первой кампании: показов 1000000, кликов 983.0, CTR 0.098%\n"
     ]
    }
   ],
   "source": [
    "print('Результаты первой кампании: показов {}, кликов {:.1f}, CTR {:.3%}'.format(\n",
    "    banner1_shows, \n",
    "    banner1_clicks, \n",
    "    ctr(clicks=banner1_clicks, shows=banner1_shows)))"
   ]
  },
  {
   "cell_type": "code",
   "execution_count": 31,
   "metadata": {},
   "outputs": [
    {
     "name": "stdout",
     "output_type": "stream",
     "text": [
      "Результаты второй кампании: показов 100000, кликов 4.0, CTR 0.0040%\n"
     ]
    }
   ],
   "source": [
    "print('Результаты второй кампании: показов {}, кликов {:.1f}, CTR {:.4%}'.format(\n",
    "    banner2_shows, \n",
    "    banner2_clicks, \n",
    "    ctr(clicks=banner2_clicks, shows=banner2_shows)))"
   ]
  },
  {
   "cell_type": "code",
   "execution_count": 32,
   "metadata": {},
   "outputs": [
    {
     "data": {
      "text/plain": [
       "0.0009"
      ]
     },
     "execution_count": 32,
     "metadata": {},
     "output_type": "execute_result"
    }
   ],
   "source": [
    "ctr_mid = 0.09 / 100\n",
    "ctr_mid"
   ]
  },
  {
   "cell_type": "code",
   "execution_count": 46,
   "metadata": {},
   "outputs": [],
   "source": [
    "def check_ctr(ctr):\n",
    "    if ctr_mid < ctr:\n",
    "        print(\"Средний CTR выше порога: {:.4%}\".format(ctr))\n",
    "    else:\n",
    "        print(\"Средний CTR ниже порога: {:.4%}\".format(ctr))"
   ]
  },
  {
   "cell_type": "code",
   "execution_count": 47,
   "metadata": {},
   "outputs": [
    {
     "name": "stdout",
     "output_type": "stream",
     "text": [
      "Средний CTR выше порога: 0.0983%\nСредний CTR ниже порога: 0.0040%\n"
     ]
    }
   ],
   "source": [
    "check_ctr(ctr1)\n",
    "check_ctr(ctr2)"
   ]
  },
  {
   "cell_type": "code",
   "execution_count": null,
   "metadata": {},
   "outputs": [],
   "source": [
    ""
   ]
  }
 ],
 "metadata": {
  "kernelspec": {
   "display_name": "Python 2",
   "language": "python",
   "name": "python2"
  },
  "language_info": {
   "codemirror_mode": {
    "name": "ipython",
    "version": 2.0
   },
   "file_extension": ".py",
   "mimetype": "text/x-python",
   "name": "python",
   "nbconvert_exporter": "python",
   "pygments_lexer": "ipython2",
   "version": "2.7.6"
  }
 },
 "nbformat": 4,
 "nbformat_minor": 0
}