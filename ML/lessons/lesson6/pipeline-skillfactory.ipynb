{
 "cells": [
  {
   "cell_type": "markdown",
   "metadata": {
    "toc": "true"
   },
   "source": [
    "# Table of Contents\n",
    " <p><div class=\"lev1 toc-item\"><a href=\"#Skillfactory---Практический-Machine-Learning\" data-toc-modified-id=\"Skillfactory---Практический-Machine-Learning-1\"><span class=\"toc-item-num\">1&nbsp;&nbsp;</span>Skillfactory - Практический Machine Learning</a></div><div class=\"lev2 toc-item\"><a href=\"#19/02/2018---Аномалии,-работа-с-признаками,-пайплайны\" data-toc-modified-id=\"19/02/2018---Аномалии,-работа-с-признаками,-пайплайны-11\"><span class=\"toc-item-num\">1.1&nbsp;&nbsp;</span>19/02/2018 - Аномалии, работа с признаками, пайплайны</a></div><div class=\"lev1 toc-item\"><a href=\"#(Де)мотивация\" data-toc-modified-id=\"(Де)мотивация-2\"><span class=\"toc-item-num\">2&nbsp;&nbsp;</span>(Де)мотивация</a></div><div class=\"lev4 toc-item\"><a href=\"#Рассмотрим-кейс\" data-toc-modified-id=\"Рассмотрим-кейс-2001\"><span class=\"toc-item-num\">2.0.0.1&nbsp;&nbsp;</span>Рассмотрим кейс</a></div><div class=\"lev1 toc-item\"><a href=\"#(Anomaly-Detection)-Выявление-аномалий\" data-toc-modified-id=\"(Anomaly-Detection)-Выявление-аномалий-3\"><span class=\"toc-item-num\">3&nbsp;&nbsp;</span>(Anomaly Detection) Выявление аномалий</a></div><div class=\"lev2 toc-item\"><a href=\"#Примеры-задач,-где-выявление-аномалий---сама-цель\" data-toc-modified-id=\"Примеры-задач,-где-выявление-аномалий---сама-цель-31\"><span class=\"toc-item-num\">3.1&nbsp;&nbsp;</span>Примеры задач, где выявление аномалий - сама цель</a></div><div class=\"lev2 toc-item\"><a href=\"#Moscow-Data-Science-Meetup-report\" data-toc-modified-id=\"Moscow-Data-Science-Meetup-report-32\"><span class=\"toc-item-num\">3.2&nbsp;&nbsp;</span><a href=\"https://youtu.be/o5QCVyI0dSA?t=1994\" target=\"_blank\">Moscow Data Science Meetup report</a></a></div><div class=\"lev2 toc-item\"><a href=\"#Влияние-аномалий-в-данных-на-модели\" data-toc-modified-id=\"Влияние-аномалий-в-данных-на-модели-33\"><span class=\"toc-item-num\">3.3&nbsp;&nbsp;</span>Влияние аномалий в данных на модели</a></div><div class=\"lev2 toc-item\"><a href=\"#Подходы-к-решению\" data-toc-modified-id=\"Подходы-к-решению-34\"><span class=\"toc-item-num\">3.4&nbsp;&nbsp;</span>Подходы к решению</a></div><div class=\"lev3 toc-item\"><a href=\"#Ответы-алгоритмов\" data-toc-modified-id=\"Ответы-алгоритмов-341\"><span class=\"toc-item-num\">3.4.1&nbsp;&nbsp;</span>Ответы алгоритмов</a></div><div class=\"lev2 toc-item\"><a href=\"#Визуальный-анализ\" data-toc-modified-id=\"Визуальный-анализ-35\"><span class=\"toc-item-num\">3.5&nbsp;&nbsp;</span>Визуальный анализ</a></div><div class=\"lev2 toc-item\"><a href=\"#Методы,-основанные-на-плотности-и-расстоянии\" data-toc-modified-id=\"Методы,-основанные-на-плотности-и-расстоянии-36\"><span class=\"toc-item-num\">3.6&nbsp;&nbsp;</span>Методы, основанные на плотности и расстоянии</a></div><div class=\"lev3 toc-item\"><a href=\"#Local-Outlier-Factor\" data-toc-modified-id=\"Local-Outlier-Factor-361\"><span class=\"toc-item-num\">3.6.1&nbsp;&nbsp;</span>Local Outlier Factor</a></div><div class=\"lev2 toc-item\"><a href=\"#Методы-машинного-обучения\" data-toc-modified-id=\"Методы-машинного-обучения-37\"><span class=\"toc-item-num\">3.7&nbsp;&nbsp;</span>Методы машинного обучения</a></div><div class=\"lev3 toc-item\"><a href=\"#Изолирующий-лес\" data-toc-modified-id=\"Изолирующий-лес-371\"><span class=\"toc-item-num\">3.7.1&nbsp;&nbsp;</span>Изолирующий лес</a></div><div class=\"lev2 toc-item\"><a href=\"#Методы-основанные-на-кластеризации\" data-toc-modified-id=\"Методы-основанные-на-кластеризации-38\"><span class=\"toc-item-num\">3.8&nbsp;&nbsp;</span>Методы основанные на кластеризации</a></div><div class=\"lev1 toc-item\"><a href=\"#Дисбаланс-классов\" data-toc-modified-id=\"Дисбаланс-классов-4\"><span class=\"toc-item-num\">4&nbsp;&nbsp;</span>Дисбаланс классов</a></div><div class=\"lev2 toc-item\"><a href=\"#Способы-балансировки-классов\" data-toc-modified-id=\"Способы-балансировки-классов-41\"><span class=\"toc-item-num\">4.1&nbsp;&nbsp;</span>Способы балансировки классов</a></div><div class=\"lev3 toc-item\"><a href=\"#Сэмплирование\" data-toc-modified-id=\"Сэмплирование-411\"><span class=\"toc-item-num\">4.1.1&nbsp;&nbsp;</span>Сэмплирование</a></div><div class=\"lev2 toc-item\"><a href=\"#Under-sampling\" data-toc-modified-id=\"Under-sampling-42\"><span class=\"toc-item-num\">4.2&nbsp;&nbsp;</span>Under-sampling</a></div><div class=\"lev2 toc-item\"><a href=\"#Over-sampling\" data-toc-modified-id=\"Over-sampling-43\"><span class=\"toc-item-num\">4.3&nbsp;&nbsp;</span>Over sampling</a></div><div class=\"lev2 toc-item\"><a href=\"#SMOTE\" data-toc-modified-id=\"SMOTE-44\"><span class=\"toc-item-num\">4.4&nbsp;&nbsp;</span>SMOTE</a></div><div class=\"lev3 toc-item\"><a href=\"#Synthetic-Minority-Over-sampling-Technique\" data-toc-modified-id=\"Synthetic-Minority-Over-sampling-Technique-441\"><span class=\"toc-item-num\">4.4.1&nbsp;&nbsp;</span>Synthetic Minority Over-sampling Technique</a></div><div class=\"lev2 toc-item\"><a href=\"#Ансамблевые-методы\" data-toc-modified-id=\"Ансамблевые-методы-45\"><span class=\"toc-item-num\">4.5&nbsp;&nbsp;</span>Ансамблевые методы</a></div><div class=\"lev3 toc-item\"><a href=\"#Easy-Ensemble\" data-toc-modified-id=\"Easy-Ensemble-451\"><span class=\"toc-item-num\">4.5.1&nbsp;&nbsp;</span>Easy Ensemble</a></div><div class=\"lev2 toc-item\"><a href=\"#Попробуем-сами\" data-toc-modified-id=\"Попробуем-сами-46\"><span class=\"toc-item-num\">4.6&nbsp;&nbsp;</span>Попробуем сами</a></div><div class=\"lev1 toc-item\"><a href=\"#Пропущенные-значения\" data-toc-modified-id=\"Пропущенные-значения-5\"><span class=\"toc-item-num\">5&nbsp;&nbsp;</span>Пропущенные значения</a></div><div class=\"lev2 toc-item\"><a href=\"#Наиболее-распространенные-способы-работы-с-пропусками\" data-toc-modified-id=\"Наиболее-распространенные-способы-работы-с-пропусками-51\"><span class=\"toc-item-num\">5.1&nbsp;&nbsp;</span>Наиболее распространенные способы работы с пропусками</a></div><div class=\"lev1 toc-item\"><a href=\"#Работа-с-признаками\" data-toc-modified-id=\"Работа-с-признаками-6\"><span class=\"toc-item-num\">6&nbsp;&nbsp;</span>Работа с признаками</a></div><div class=\"lev2 toc-item\"><a href=\"#Категориальные-признаки\" data-toc-modified-id=\"Категориальные-признаки-61\"><span class=\"toc-item-num\">6.1&nbsp;&nbsp;</span>Категориальные признаки</a></div><div class=\"lev2 toc-item\"><a href=\"#Бинирование-признаков\" data-toc-modified-id=\"Бинирование-признаков-62\"><span class=\"toc-item-num\">6.2&nbsp;&nbsp;</span>Бинирование признаков</a></div><div class=\"lev2 toc-item\"><a href=\"#Feature-Selection-(для-Supervised-Models)\" data-toc-modified-id=\"Feature-Selection-(для-Supervised-Models)-63\"><span class=\"toc-item-num\">6.3&nbsp;&nbsp;</span>Feature Selection (для Supervised Models)</a></div><div class=\"lev4 toc-item\"><a href=\"#Filter-method---Mutual-Information\" data-toc-modified-id=\"Filter-method---Mutual-Information-6301\"><span class=\"toc-item-num\">6.3.0.1&nbsp;&nbsp;</span>Filter method - Mutual Information</a></div><div class=\"lev4 toc-item\"><a href=\"#Filter-method---Information-Value,-Weight-Of-Evidence\" data-toc-modified-id=\"Filter-method---Information-Value,-Weight-Of-Evidence-6302\"><span class=\"toc-item-num\">6.3.0.2&nbsp;&nbsp;</span>Filter method - Information Value, Weight Of Evidence</a></div><div class=\"lev4 toc-item\"><a href=\"#Wrapper-methods\" data-toc-modified-id=\"Wrapper-methods-6303\"><span class=\"toc-item-num\">6.3.0.3&nbsp;&nbsp;</span>Wrapper methods</a></div><div class=\"lev4 toc-item\"><a href=\"#Embedded-methods\" data-toc-modified-id=\"Embedded-methods-6304\"><span class=\"toc-item-num\">6.3.0.4&nbsp;&nbsp;</span>Embedded methods</a></div><div class=\"lev2 toc-item\"><a href=\"#CountVectorizer-и-TF-IDF\" data-toc-modified-id=\"CountVectorizer-и-TF-IDF-64\"><span class=\"toc-item-num\">6.4&nbsp;&nbsp;</span>CountVectorizer и TF-IDF</a></div><div class=\"lev3 toc-item\"><a href=\"#Анализ-тональности\" data-toc-modified-id=\"Анализ-тональности-641\"><span class=\"toc-item-num\">6.4.1&nbsp;&nbsp;</span>Анализ тональности</a></div><div class=\"lev4 toc-item\"><a href=\"#Загрузите-текстовые-данные-отсюда.-Архив-должен-содержать-3-файла-с-положительными-и-отрицательными-отзывами-с-ресурсов\" data-toc-modified-id=\"Загрузите-текстовые-данные-отсюда.-Архив-должен-содержать-3-файла-с-положительными-и-отрицательными-отзывами-с-ресурсов-6411\"><span class=\"toc-item-num\">6.4.1.1&nbsp;&nbsp;</span>Загрузите текстовые данные <a href=\"https://archive.ics.uci.edu/ml/machine-learning-databases/00331/\" target=\"_blank\">отсюда</a>. Архив должен содержать 3 файла с положительными и отрицательными отзывами с ресурсов</a></div><div class=\"lev4 toc-item\"><a href=\"#Задача\" data-toc-modified-id=\"Задача-6412\"><span class=\"toc-item-num\">6.4.1.2&nbsp;&nbsp;</span>Задача</a></div>"
   ]
  },
  {
   "cell_type": "markdown",
   "metadata": {},
   "source": [
    "# Skillfactory - Практический Machine Learning\n",
    "## 19/02/2018 - Аномалии, работа с признаками, пайплайны\n",
    "\n",
    "<center> Шестаков Андрей </center>"
   ]
  },
  {
   "cell_type": "code",
   "execution_count": 1,
   "metadata": {},
   "outputs": [],
   "source": [
    "import pandas as pd\n",
    "import numpy as np\n",
    "import matplotlib.pyplot as plt\n",
    "\n",
    "\n",
    "%matplotlib inline\n",
    "\n",
    "plt.style.use('ggplot')\n",
    "plt.rcParams['figure.figsize'] = (12, 8)"
   ]
  },
  {
   "cell_type": "code",
   "execution_count": 2,
   "metadata": {},
   "outputs": [],
   "source": [
    "import warnings\n",
    "warnings.filterwarnings('ignore')\n",
    "\n",
    "from ipywidgets import interact, IntSlider, FloatSlider"
   ]
  },
  {
   "cell_type": "markdown",
   "metadata": {},
   "source": [
    "# (Де)мотивация"
   ]
  },
  {
   "cell_type": "markdown",
   "metadata": {},
   "source": [
    "Дата саенс - это про только fit-predict, но и.."
   ]
  },
  {
   "cell_type": "markdown",
   "metadata": {},
   "source": [
    "<center><img src='img/time.jpg' width=900><center\\>"
   ]
  },
  {
   "cell_type": "markdown",
   "metadata": {},
   "source": [
    "И большую часть времени занимает именно работа с данными:\n",
    "* составление набора данных для обучения (!)\n",
    "* трансформация признаков к подходящему формату\n",
    "* отчистка от выбросов\n",
    "* анализ пропущенных значений\n",
    "* составление новых признаков\n",
    "* ..."
   ]
  },
  {
   "cell_type": "markdown",
   "metadata": {},
   "source": [
    "<center><img src='img/time2.png' width=500><center\\>"
   ]
  },
  {
   "cell_type": "markdown",
   "metadata": {},
   "source": [
    "Почему это так важно?\n",
    "\n",
    "Никто не отменял правило: ** garbage in - garbage out **"
   ]
  },
  {
   "cell_type": "markdown",
   "metadata": {},
   "source": [
    "#### Рассмотрим кейс\n",
    "\n",
    "Некий банк выдает кредит.\n",
    "\n",
    "* Приходит заявитель, подает анкету\n",
    "* Анкета проверяется\n",
    "* Для каждого заявителя собираются признаки (по анкете и из кредитного бюро)\n",
    "* Если банка все устравивает, то заявитель получается кредит и запоминается результат (вернул ли кредут вовремя)\n",
    "\n",
    "Прошло время, банк решил сделать модель, основываясь на накопленных данных, чтобы выдавать кредиты быстрее и добросовестным людям.\n",
    "\n",
    "* Данные - признаки заявителей\n",
    "* Таргет - вернет или нет"
   ]
  },
  {
   "cell_type": "markdown",
   "metadata": {},
   "source": [
    "Построили модель. Выдаем кредит только людям с достаточно большой вероятностью возврата. Без первичной фильтрации, как было раньше.\n",
    "\n",
    "При анализе качества заметили, что число невозвратов осталось таким же (или увеличилось). Почему так могло произойти?"
   ]
  },
  {
   "cell_type": "raw",
   "metadata": {},
   "source": [
    "Think about it"
   ]
  },
  {
   "cell_type": "markdown",
   "metadata": {},
   "source": [
    "# (Anomaly Detection) Выявление аномалий\n",
    "\n",
    "aka\n",
    "* Outlier detection (выявление выбросов)\n",
    "* Novelty detection (выявление новизны в данных)\n",
    "* Noise detection (выявление шумов в данных)\n",
    "* Deviation detection (выявление отклонений в данных)"
   ]
  },
  {
   "cell_type": "markdown",
   "metadata": {},
   "source": [
    "**Аномалии** - наблюдения, которые отличаются от большинства остальных объектов и не соотносятся с ожидаемой структурой данных\n",
    "\n",
    "Количество аномалий в данных (если они есть) *ничтожно* мало по сравнению с количеством нормальных объектов"
   ]
  },
  {
   "cell_type": "markdown",
   "metadata": {},
   "source": [
    "## Примеры задач, где выявление аномалий - сама цель\n",
    "* Мошеннические действия (fraud detection)\n",
    "    * несогласованные операции по кредитным картам, \n",
    "    * взлом аккаунта\n",
    "* Проверка валидности (согласованности) записей базе данных\n",
    "    * ошибки (подтосовки) в сборе данных\n",
    "* Мониторинг стабильности систем\n",
    "    * преждевременное предупреждение сбоя на производстве"
   ]
  },
  {
   "cell_type": "markdown",
   "metadata": {},
   "source": [
    "## [Moscow Data Science Meetup report](https://youtu.be/o5QCVyI0dSA?t=1994)\n",
    "<center><img src='img/kasper.png'></center>"
   ]
  },
  {
   "cell_type": "markdown",
   "metadata": {},
   "source": [
    "## Влияние аномалий в данных на модели\n",
    "\n",
    "* Аномалии могут привести как к переобучению, так и к недообучению\n",
    "* Пример недообучения мы видели в лекции по регрессии"
   ]
  },
  {
   "cell_type": "markdown",
   "metadata": {},
   "source": [
    "## Подходы к решению\n",
    "* **Обучение без учителя** \n",
    "    * Меток нет\n",
    "    * Используется некоторое представление о том, что такое аномалия\n",
    "* **Частичное обучение** \n",
    "    * Известны только метки \"нормальных\" данных\n",
    "* **Обучение с учителем**\n",
    "    * Известны метки \"нормальных\" и аномальных данных\n",
    "\n",
    "\n",
    "### Ответы алгоритмов\n",
    "* Скор аномальности\n",
    "* Метка аномальности"
   ]
  },
  {
   "cell_type": "markdown",
   "metadata": {},
   "source": [
    "## Визуальный анализ"
   ]
  },
  {
   "cell_type": "markdown",
   "metadata": {},
   "source": [
    "\n",
    "<center><img src='img/boyfriend.png'></center>"
   ]
  },
  {
   "cell_type": "markdown",
   "metadata": {},
   "source": [
    "Данные: [Задача предсказания отклика клиентов ОТП Банка](http://www.machinelearning.ru/wiki/index.php?title=%D0%97%D0%B0%D0%B4%D0%B0%D1%87%D0%B0_%D0%BF%D1%80%D0%B5%D0%B4%D1%81%D0%BA%D0%B0%D0%B7%D0%B0%D0%BD%D0%B8%D1%8F_%D0%BE%D1%82%D0%BA%D0%BB%D0%B8%D0%BA%D0%B0_%D0%BA%D0%BB%D0%B8%D0%B5%D0%BD%D1%82%D0%BE%D0%B2_%D0%9E%D0%A2%D0%9F_%D0%91%D0%B0%D0%BD%D0%BA%D0%B0_%28%D0%BA%D0%BE%D0%BD%D0%BA%D1%83%D1%80%D1%81%29)"
   ]
  },
  {
   "cell_type": "code",
   "execution_count": 3,
   "metadata": {},
   "outputs": [],
   "source": [
    "def load_otp():\n",
    "    features = pd.read_csv('data/descr.txt', sep='\\t', encoding='cp1251', names=['feature', 'descr'])\n",
    "    \n",
    "    features = features.iloc[3:]\n",
    "    feature_names = features.iloc[:, 0].values\n",
    "    \n",
    "    df_data_x = pd.read_csv('data/data_x.csv', sep=';', header=None, names=feature_names)\n",
    "    df_data_x.loc[:, 'PREVIOUS_CARD_NUM_UTILIZED'] = df_data_x.PREVIOUS_CARD_NUM_UTILIZED.fillna(0)\n",
    "    \n",
    "    features.loc[:, 'uniq_vals'] = df_data_x.apply(lambda c: c.nunique(), axis=0).values\n",
    "    \n",
    "    features = features.reset_index(drop=True)\n",
    "    \n",
    "    df_data_y = pd.read_csv('data/data_y.csv', sep=';', names=['active'])\n",
    "    \n",
    "    idx = np.where(df_data_x.dtypes == 'object')[0]\n",
    "\n",
    "    for i in idx:\n",
    "        df_data_x.iloc[:, i] = df_data_x.iloc[:, i].str.replace(',', '.').astype('float')\n",
    "        \n",
    "    df_data = df_data_x.join(df_data_y)\n",
    "    \n",
    "    return df_data, features"
   ]
  },
  {
   "cell_type": "code",
   "execution_count": 4,
   "metadata": {},
   "outputs": [],
   "source": [
    "df, features = load_otp()"
   ]
  },
  {
   "cell_type": "code",
   "execution_count": 5,
   "metadata": {},
   "outputs": [
    {
     "data": {
      "text/html": [
       "<div>\n",
       "<style scoped>\n",
       "    .dataframe tbody tr th:only-of-type {\n",
       "        vertical-align: middle;\n",
       "    }\n",
       "\n",
       "    .dataframe tbody tr th {\n",
       "        vertical-align: top;\n",
       "    }\n",
       "\n",
       "    .dataframe thead th {\n",
       "        text-align: right;\n",
       "    }\n",
       "</style>\n",
       "<table border=\"1\" class=\"dataframe\">\n",
       "  <thead>\n",
       "    <tr style=\"text-align: right;\">\n",
       "      <th></th>\n",
       "      <th>feature</th>\n",
       "      <th>descr</th>\n",
       "      <th>uniq_vals</th>\n",
       "    </tr>\n",
       "  </thead>\n",
       "  <tbody>\n",
       "    <tr>\n",
       "      <th>0</th>\n",
       "      <td>AGE</td>\n",
       "      <td>возраст клиента</td>\n",
       "      <td>47</td>\n",
       "    </tr>\n",
       "    <tr>\n",
       "      <th>1</th>\n",
       "      <td>SOCSTATUS_WORK_FL</td>\n",
       "      <td>социальный статус клиента относительно работы ...</td>\n",
       "      <td>2</td>\n",
       "    </tr>\n",
       "    <tr>\n",
       "      <th>2</th>\n",
       "      <td>SOCSTATUS_PENS_FL</td>\n",
       "      <td>социальный статус клиента относительно пенсии ...</td>\n",
       "      <td>2</td>\n",
       "    </tr>\n",
       "    <tr>\n",
       "      <th>3</th>\n",
       "      <td>GENDER</td>\n",
       "      <td>пол клиента</td>\n",
       "      <td>2</td>\n",
       "    </tr>\n",
       "    <tr>\n",
       "      <th>4</th>\n",
       "      <td>CHILD_TOTAL</td>\n",
       "      <td>количество детей клиента</td>\n",
       "      <td>10</td>\n",
       "    </tr>\n",
       "  </tbody>\n",
       "</table>\n",
       "</div>"
      ],
      "text/plain": [
       "             feature                                              descr  \\\n",
       "0                AGE                                    возраст клиента   \n",
       "1  SOCSTATUS_WORK_FL  социальный статус клиента относительно работы ...   \n",
       "2  SOCSTATUS_PENS_FL  социальный статус клиента относительно пенсии ...   \n",
       "3             GENDER                                        пол клиента   \n",
       "4        CHILD_TOTAL                           количество детей клиента   \n",
       "\n",
       "   uniq_vals  \n",
       "0         47  \n",
       "1          2  \n",
       "2          2  \n",
       "3          2  \n",
       "4         10  "
      ]
     },
     "execution_count": 5,
     "metadata": {},
     "output_type": "execute_result"
    }
   ],
   "source": [
    "features.head()"
   ]
  },
  {
   "cell_type": "code",
   "execution_count": 6,
   "metadata": {},
   "outputs": [
    {
     "data": {
      "text/html": [
       "<div>\n",
       "<style scoped>\n",
       "    .dataframe tbody tr th:only-of-type {\n",
       "        vertical-align: middle;\n",
       "    }\n",
       "\n",
       "    .dataframe tbody tr th {\n",
       "        vertical-align: top;\n",
       "    }\n",
       "\n",
       "    .dataframe thead th {\n",
       "        text-align: right;\n",
       "    }\n",
       "</style>\n",
       "<table border=\"1\" class=\"dataframe\">\n",
       "  <thead>\n",
       "    <tr style=\"text-align: right;\">\n",
       "      <th></th>\n",
       "      <th>0</th>\n",
       "      <th>1</th>\n",
       "      <th>2</th>\n",
       "      <th>3</th>\n",
       "      <th>4</th>\n",
       "    </tr>\n",
       "  </thead>\n",
       "  <tbody>\n",
       "    <tr>\n",
       "      <th>AGE</th>\n",
       "      <td>49.0</td>\n",
       "      <td>32.0</td>\n",
       "      <td>52.0</td>\n",
       "      <td>39.000000</td>\n",
       "      <td>30.00</td>\n",
       "    </tr>\n",
       "    <tr>\n",
       "      <th>SOCSTATUS_WORK_FL</th>\n",
       "      <td>0.0</td>\n",
       "      <td>0.0</td>\n",
       "      <td>0.0</td>\n",
       "      <td>0.000000</td>\n",
       "      <td>0.00</td>\n",
       "    </tr>\n",
       "    <tr>\n",
       "      <th>SOCSTATUS_PENS_FL</th>\n",
       "      <td>0.0</td>\n",
       "      <td>0.0</td>\n",
       "      <td>0.0</td>\n",
       "      <td>0.000000</td>\n",
       "      <td>0.00</td>\n",
       "    </tr>\n",
       "    <tr>\n",
       "      <th>GENDER</th>\n",
       "      <td>0.0</td>\n",
       "      <td>0.0</td>\n",
       "      <td>0.0</td>\n",
       "      <td>0.000000</td>\n",
       "      <td>1.00</td>\n",
       "    </tr>\n",
       "    <tr>\n",
       "      <th>CHILD_TOTAL</th>\n",
       "      <td>2.0</td>\n",
       "      <td>3.0</td>\n",
       "      <td>4.0</td>\n",
       "      <td>1.000000</td>\n",
       "      <td>0.00</td>\n",
       "    </tr>\n",
       "    <tr>\n",
       "      <th>DEPENDANTS</th>\n",
       "      <td>1.0</td>\n",
       "      <td>3.0</td>\n",
       "      <td>0.0</td>\n",
       "      <td>1.000000</td>\n",
       "      <td>0.00</td>\n",
       "    </tr>\n",
       "    <tr>\n",
       "      <th>EDUCATION</th>\n",
       "      <td>0.0</td>\n",
       "      <td>1.0</td>\n",
       "      <td>2.0</td>\n",
       "      <td>3.000000</td>\n",
       "      <td>1.00</td>\n",
       "    </tr>\n",
       "    <tr>\n",
       "      <th>MARITAL_STATUS</th>\n",
       "      <td>0.0</td>\n",
       "      <td>0.0</td>\n",
       "      <td>0.0</td>\n",
       "      <td>0.000000</td>\n",
       "      <td>0.00</td>\n",
       "    </tr>\n",
       "    <tr>\n",
       "      <th>GEN_INDUSTRY</th>\n",
       "      <td>0.0</td>\n",
       "      <td>0.0</td>\n",
       "      <td>1.0</td>\n",
       "      <td>2.000000</td>\n",
       "      <td>3.00</td>\n",
       "    </tr>\n",
       "    <tr>\n",
       "      <th>GEN_TITLE</th>\n",
       "      <td>0.0</td>\n",
       "      <td>0.0</td>\n",
       "      <td>1.0</td>\n",
       "      <td>2.000000</td>\n",
       "      <td>1.00</td>\n",
       "    </tr>\n",
       "    <tr>\n",
       "      <th>ORG_TP_STATE</th>\n",
       "      <td>0.0</td>\n",
       "      <td>1.0</td>\n",
       "      <td>2.0</td>\n",
       "      <td>2.000000</td>\n",
       "      <td>2.00</td>\n",
       "    </tr>\n",
       "    <tr>\n",
       "      <th>ORG_TP_FCAPITAL</th>\n",
       "      <td>0.0</td>\n",
       "      <td>0.0</td>\n",
       "      <td>0.0</td>\n",
       "      <td>0.000000</td>\n",
       "      <td>0.00</td>\n",
       "    </tr>\n",
       "    <tr>\n",
       "      <th>JOB_DIR</th>\n",
       "      <td>0.0</td>\n",
       "      <td>1.0</td>\n",
       "      <td>1.0</td>\n",
       "      <td>1.000000</td>\n",
       "      <td>1.00</td>\n",
       "    </tr>\n",
       "    <tr>\n",
       "      <th>FAMILY_INCOME</th>\n",
       "      <td>3.0</td>\n",
       "      <td>3.0</td>\n",
       "      <td>3.0</td>\n",
       "      <td>4.000000</td>\n",
       "      <td>3.00</td>\n",
       "    </tr>\n",
       "    <tr>\n",
       "      <th>PERSONAL_INCOME</th>\n",
       "      <td>5000.0</td>\n",
       "      <td>12000.0</td>\n",
       "      <td>9000.0</td>\n",
       "      <td>25000.000000</td>\n",
       "      <td>12000.00</td>\n",
       "    </tr>\n",
       "    <tr>\n",
       "      <th>REG_ADDRESS_PROVINCE</th>\n",
       "      <td>0.0</td>\n",
       "      <td>1.0</td>\n",
       "      <td>2.0</td>\n",
       "      <td>3.000000</td>\n",
       "      <td>1.00</td>\n",
       "    </tr>\n",
       "    <tr>\n",
       "      <th>FACT_ADDRESS_PROVINCE</th>\n",
       "      <td>0.0</td>\n",
       "      <td>1.0</td>\n",
       "      <td>2.0</td>\n",
       "      <td>3.000000</td>\n",
       "      <td>1.00</td>\n",
       "    </tr>\n",
       "    <tr>\n",
       "      <th>POSTAL_ADDRESS_PROVINCE</th>\n",
       "      <td>0.0</td>\n",
       "      <td>1.0</td>\n",
       "      <td>2.0</td>\n",
       "      <td>3.000000</td>\n",
       "      <td>1.00</td>\n",
       "    </tr>\n",
       "    <tr>\n",
       "      <th>TP_PROVINCE</th>\n",
       "      <td>0.0</td>\n",
       "      <td>1.0</td>\n",
       "      <td>2.0</td>\n",
       "      <td>3.000000</td>\n",
       "      <td>1.00</td>\n",
       "    </tr>\n",
       "    <tr>\n",
       "      <th>REGION_NM</th>\n",
       "      <td>0.0</td>\n",
       "      <td>1.0</td>\n",
       "      <td>2.0</td>\n",
       "      <td>1.000000</td>\n",
       "      <td>1.00</td>\n",
       "    </tr>\n",
       "    <tr>\n",
       "      <th>REG_FACT_FL</th>\n",
       "      <td>1.0</td>\n",
       "      <td>1.0</td>\n",
       "      <td>1.0</td>\n",
       "      <td>0.000000</td>\n",
       "      <td>1.00</td>\n",
       "    </tr>\n",
       "    <tr>\n",
       "      <th>FACT_POST_FL</th>\n",
       "      <td>1.0</td>\n",
       "      <td>1.0</td>\n",
       "      <td>1.0</td>\n",
       "      <td>1.000000</td>\n",
       "      <td>1.00</td>\n",
       "    </tr>\n",
       "    <tr>\n",
       "      <th>REG_POST_FL</th>\n",
       "      <td>1.0</td>\n",
       "      <td>1.0</td>\n",
       "      <td>1.0</td>\n",
       "      <td>0.000000</td>\n",
       "      <td>1.00</td>\n",
       "    </tr>\n",
       "    <tr>\n",
       "      <th>REG_FACT_POST_FL</th>\n",
       "      <td>1.0</td>\n",
       "      <td>1.0</td>\n",
       "      <td>1.0</td>\n",
       "      <td>0.000000</td>\n",
       "      <td>1.00</td>\n",
       "    </tr>\n",
       "    <tr>\n",
       "      <th>REG_FACT_POST_TP_FL</th>\n",
       "      <td>1.0</td>\n",
       "      <td>0.0</td>\n",
       "      <td>1.0</td>\n",
       "      <td>1.000000</td>\n",
       "      <td>0.00</td>\n",
       "    </tr>\n",
       "    <tr>\n",
       "      <th>FL_PRESENCE_FL</th>\n",
       "      <td>0.0</td>\n",
       "      <td>0.0</td>\n",
       "      <td>0.0</td>\n",
       "      <td>1.000000</td>\n",
       "      <td>0.00</td>\n",
       "    </tr>\n",
       "    <tr>\n",
       "      <th>OWN_AUTO</th>\n",
       "      <td>0.0</td>\n",
       "      <td>0.0</td>\n",
       "      <td>0.0</td>\n",
       "      <td>0.000000</td>\n",
       "      <td>0.00</td>\n",
       "    </tr>\n",
       "    <tr>\n",
       "      <th>AUTO_RUS_FL</th>\n",
       "      <td>0.0</td>\n",
       "      <td>0.0</td>\n",
       "      <td>0.0</td>\n",
       "      <td>0.000000</td>\n",
       "      <td>0.00</td>\n",
       "    </tr>\n",
       "    <tr>\n",
       "      <th>HS_PRESENCE_FL</th>\n",
       "      <td>0.0</td>\n",
       "      <td>0.0</td>\n",
       "      <td>1.0</td>\n",
       "      <td>0.000000</td>\n",
       "      <td>1.00</td>\n",
       "    </tr>\n",
       "    <tr>\n",
       "      <th>COT_PRESENCE_FL</th>\n",
       "      <td>0.0</td>\n",
       "      <td>0.0</td>\n",
       "      <td>0.0</td>\n",
       "      <td>0.000000</td>\n",
       "      <td>0.00</td>\n",
       "    </tr>\n",
       "    <tr>\n",
       "      <th>GAR_PRESENCE_FL</th>\n",
       "      <td>0.0</td>\n",
       "      <td>0.0</td>\n",
       "      <td>0.0</td>\n",
       "      <td>0.000000</td>\n",
       "      <td>0.00</td>\n",
       "    </tr>\n",
       "    <tr>\n",
       "      <th>LAND_PRESENCE_FL</th>\n",
       "      <td>0.0</td>\n",
       "      <td>0.0</td>\n",
       "      <td>0.0</td>\n",
       "      <td>0.000000</td>\n",
       "      <td>0.00</td>\n",
       "    </tr>\n",
       "    <tr>\n",
       "      <th>CREDIT</th>\n",
       "      <td>8000.0</td>\n",
       "      <td>21650.0</td>\n",
       "      <td>33126.0</td>\n",
       "      <td>8491.820000</td>\n",
       "      <td>21990.00</td>\n",
       "    </tr>\n",
       "    <tr>\n",
       "      <th>TERM</th>\n",
       "      <td>6.0</td>\n",
       "      <td>6.0</td>\n",
       "      <td>12.0</td>\n",
       "      <td>6.000000</td>\n",
       "      <td>12.00</td>\n",
       "    </tr>\n",
       "    <tr>\n",
       "      <th>FST_PAYMENT</th>\n",
       "      <td>8650.0</td>\n",
       "      <td>4000.0</td>\n",
       "      <td>4000.0</td>\n",
       "      <td>5000.000000</td>\n",
       "      <td>4000.00</td>\n",
       "    </tr>\n",
       "    <tr>\n",
       "      <th>DL_DOCUMENT_FL</th>\n",
       "      <td>0.0</td>\n",
       "      <td>0.0</td>\n",
       "      <td>0.0</td>\n",
       "      <td>0.000000</td>\n",
       "      <td>0.00</td>\n",
       "    </tr>\n",
       "    <tr>\n",
       "      <th>GPF_DOCUMENT_FL</th>\n",
       "      <td>1.0</td>\n",
       "      <td>1.0</td>\n",
       "      <td>1.0</td>\n",
       "      <td>0.000000</td>\n",
       "      <td>1.00</td>\n",
       "    </tr>\n",
       "    <tr>\n",
       "      <th>FACT_LIVING_TERM</th>\n",
       "      <td>220.0</td>\n",
       "      <td>137.0</td>\n",
       "      <td>251.0</td>\n",
       "      <td>36.000000</td>\n",
       "      <td>83.00</td>\n",
       "    </tr>\n",
       "    <tr>\n",
       "      <th>WORK_TIME</th>\n",
       "      <td>18.0</td>\n",
       "      <td>97.0</td>\n",
       "      <td>84.0</td>\n",
       "      <td>168.000000</td>\n",
       "      <td>101.00</td>\n",
       "    </tr>\n",
       "    <tr>\n",
       "      <th>FACT_PHONE_FL</th>\n",
       "      <td>0.0</td>\n",
       "      <td>1.0</td>\n",
       "      <td>0.0</td>\n",
       "      <td>1.000000</td>\n",
       "      <td>1.00</td>\n",
       "    </tr>\n",
       "    <tr>\n",
       "      <th>REG_PHONE_FL</th>\n",
       "      <td>0.0</td>\n",
       "      <td>0.0</td>\n",
       "      <td>0.0</td>\n",
       "      <td>1.000000</td>\n",
       "      <td>0.00</td>\n",
       "    </tr>\n",
       "    <tr>\n",
       "      <th>GEN_PHONE_FL</th>\n",
       "      <td>1.0</td>\n",
       "      <td>1.0</td>\n",
       "      <td>1.0</td>\n",
       "      <td>1.000000</td>\n",
       "      <td>1.00</td>\n",
       "    </tr>\n",
       "    <tr>\n",
       "      <th>LOAN_NUM_TOTAL</th>\n",
       "      <td>1.0</td>\n",
       "      <td>1.0</td>\n",
       "      <td>2.0</td>\n",
       "      <td>1.000000</td>\n",
       "      <td>2.00</td>\n",
       "    </tr>\n",
       "    <tr>\n",
       "      <th>LOAN_NUM_CLOSED</th>\n",
       "      <td>1.0</td>\n",
       "      <td>1.0</td>\n",
       "      <td>1.0</td>\n",
       "      <td>1.000000</td>\n",
       "      <td>1.00</td>\n",
       "    </tr>\n",
       "    <tr>\n",
       "      <th>LOAN_NUM_PAYM</th>\n",
       "      <td>6.0</td>\n",
       "      <td>6.0</td>\n",
       "      <td>11.0</td>\n",
       "      <td>6.000000</td>\n",
       "      <td>16.00</td>\n",
       "    </tr>\n",
       "    <tr>\n",
       "      <th>LOAN_DLQ_NUM</th>\n",
       "      <td>2.0</td>\n",
       "      <td>1.0</td>\n",
       "      <td>0.0</td>\n",
       "      <td>3.000000</td>\n",
       "      <td>2.00</td>\n",
       "    </tr>\n",
       "    <tr>\n",
       "      <th>LOAN_MAX_DLQ</th>\n",
       "      <td>1.0</td>\n",
       "      <td>1.0</td>\n",
       "      <td>0.0</td>\n",
       "      <td>1.000000</td>\n",
       "      <td>1.00</td>\n",
       "    </tr>\n",
       "    <tr>\n",
       "      <th>LOAN_AVG_DLQ_AMT</th>\n",
       "      <td>1580.0</td>\n",
       "      <td>4020.0</td>\n",
       "      <td>0.0</td>\n",
       "      <td>1589.923333</td>\n",
       "      <td>1152.15</td>\n",
       "    </tr>\n",
       "    <tr>\n",
       "      <th>LOAN_MAX_DLQ_AMT</th>\n",
       "      <td>1580.0</td>\n",
       "      <td>4020.0</td>\n",
       "      <td>0.0</td>\n",
       "      <td>1590.000000</td>\n",
       "      <td>2230.00</td>\n",
       "    </tr>\n",
       "    <tr>\n",
       "      <th>PREVIOUS_CARD_NUM_UTILIZED</th>\n",
       "      <td>0.0</td>\n",
       "      <td>0.0</td>\n",
       "      <td>0.0</td>\n",
       "      <td>0.000000</td>\n",
       "      <td>0.00</td>\n",
       "    </tr>\n",
       "    <tr>\n",
       "      <th>active</th>\n",
       "      <td>0.0</td>\n",
       "      <td>0.0</td>\n",
       "      <td>0.0</td>\n",
       "      <td>0.000000</td>\n",
       "      <td>0.00</td>\n",
       "    </tr>\n",
       "  </tbody>\n",
       "</table>\n",
       "</div>"
      ],
      "text/plain": [
       "                                 0        1        2             3         4\n",
       "AGE                           49.0     32.0     52.0     39.000000     30.00\n",
       "SOCSTATUS_WORK_FL              0.0      0.0      0.0      0.000000      0.00\n",
       "SOCSTATUS_PENS_FL              0.0      0.0      0.0      0.000000      0.00\n",
       "GENDER                         0.0      0.0      0.0      0.000000      1.00\n",
       "CHILD_TOTAL                    2.0      3.0      4.0      1.000000      0.00\n",
       "DEPENDANTS                     1.0      3.0      0.0      1.000000      0.00\n",
       "EDUCATION                      0.0      1.0      2.0      3.000000      1.00\n",
       "MARITAL_STATUS                 0.0      0.0      0.0      0.000000      0.00\n",
       "GEN_INDUSTRY                   0.0      0.0      1.0      2.000000      3.00\n",
       "GEN_TITLE                      0.0      0.0      1.0      2.000000      1.00\n",
       "ORG_TP_STATE                   0.0      1.0      2.0      2.000000      2.00\n",
       "ORG_TP_FCAPITAL                0.0      0.0      0.0      0.000000      0.00\n",
       "JOB_DIR                        0.0      1.0      1.0      1.000000      1.00\n",
       "FAMILY_INCOME                  3.0      3.0      3.0      4.000000      3.00\n",
       "PERSONAL_INCOME             5000.0  12000.0   9000.0  25000.000000  12000.00\n",
       "REG_ADDRESS_PROVINCE           0.0      1.0      2.0      3.000000      1.00\n",
       "FACT_ADDRESS_PROVINCE          0.0      1.0      2.0      3.000000      1.00\n",
       "POSTAL_ADDRESS_PROVINCE        0.0      1.0      2.0      3.000000      1.00\n",
       "TP_PROVINCE                    0.0      1.0      2.0      3.000000      1.00\n",
       "REGION_NM                      0.0      1.0      2.0      1.000000      1.00\n",
       "REG_FACT_FL                    1.0      1.0      1.0      0.000000      1.00\n",
       "FACT_POST_FL                   1.0      1.0      1.0      1.000000      1.00\n",
       "REG_POST_FL                    1.0      1.0      1.0      0.000000      1.00\n",
       "REG_FACT_POST_FL               1.0      1.0      1.0      0.000000      1.00\n",
       "REG_FACT_POST_TP_FL            1.0      0.0      1.0      1.000000      0.00\n",
       "FL_PRESENCE_FL                 0.0      0.0      0.0      1.000000      0.00\n",
       "OWN_AUTO                       0.0      0.0      0.0      0.000000      0.00\n",
       "AUTO_RUS_FL                    0.0      0.0      0.0      0.000000      0.00\n",
       "HS_PRESENCE_FL                 0.0      0.0      1.0      0.000000      1.00\n",
       "COT_PRESENCE_FL                0.0      0.0      0.0      0.000000      0.00\n",
       "GAR_PRESENCE_FL                0.0      0.0      0.0      0.000000      0.00\n",
       "LAND_PRESENCE_FL               0.0      0.0      0.0      0.000000      0.00\n",
       "CREDIT                      8000.0  21650.0  33126.0   8491.820000  21990.00\n",
       "TERM                           6.0      6.0     12.0      6.000000     12.00\n",
       "FST_PAYMENT                 8650.0   4000.0   4000.0   5000.000000   4000.00\n",
       "DL_DOCUMENT_FL                 0.0      0.0      0.0      0.000000      0.00\n",
       "GPF_DOCUMENT_FL                1.0      1.0      1.0      0.000000      1.00\n",
       "FACT_LIVING_TERM             220.0    137.0    251.0     36.000000     83.00\n",
       "WORK_TIME                     18.0     97.0     84.0    168.000000    101.00\n",
       "FACT_PHONE_FL                  0.0      1.0      0.0      1.000000      1.00\n",
       "REG_PHONE_FL                   0.0      0.0      0.0      1.000000      0.00\n",
       "GEN_PHONE_FL                   1.0      1.0      1.0      1.000000      1.00\n",
       "LOAN_NUM_TOTAL                 1.0      1.0      2.0      1.000000      2.00\n",
       "LOAN_NUM_CLOSED                1.0      1.0      1.0      1.000000      1.00\n",
       "LOAN_NUM_PAYM                  6.0      6.0     11.0      6.000000     16.00\n",
       "LOAN_DLQ_NUM                   2.0      1.0      0.0      3.000000      2.00\n",
       "LOAN_MAX_DLQ                   1.0      1.0      0.0      1.000000      1.00\n",
       "LOAN_AVG_DLQ_AMT            1580.0   4020.0      0.0   1589.923333   1152.15\n",
       "LOAN_MAX_DLQ_AMT            1580.0   4020.0      0.0   1590.000000   2230.00\n",
       "PREVIOUS_CARD_NUM_UTILIZED     0.0      0.0      0.0      0.000000      0.00\n",
       "active                         0.0      0.0      0.0      0.000000      0.00"
      ]
     },
     "execution_count": 6,
     "metadata": {},
     "output_type": "execute_result"
    }
   ],
   "source": [
    "df.head().T "
   ]
  },
  {
   "cell_type": "code",
   "execution_count": 7,
   "metadata": {},
   "outputs": [
    {
     "data": {
      "text/plain": [
       "<matplotlib.axes._subplots.AxesSubplot at 0x7efbd852b828>"
      ]
     },
     "execution_count": 7,
     "metadata": {},
     "output_type": "execute_result"
    },
    {
     "data": {
      "image/png": "[encoded data removed]",
      "text/plain": [
       "<matplotlib.figure.Figure at 0x7efbeff4fef0>"
      ]
     },
     "metadata": {},
     "output_type": "display_data"
    }
   ],
   "source": [
    "df.boxplot(column='CREDIT', by='EDUCATION')"
   ]
  },
  {
   "cell_type": "code",
   "execution_count": 8,
   "metadata": {},
   "outputs": [],
   "source": [
    "# 5 - всё хорошо, а для 0-3 есть анамалии."
   ]
  },
  {
   "cell_type": "code",
   "execution_count": null,
   "metadata": {},
   "outputs": [],
   "source": []
  },
  {
   "cell_type": "markdown",
   "metadata": {
    "collapsed": true
   },
   "source": [
    "## Методы, основанные на плотности и расстоянии"
   ]
  },
  {
   "cell_type": "markdown",
   "metadata": {
    "collapsed": true
   },
   "source": [
    "**Предположение 1**: Аномальные объекты расположены далеко от остальных объектов\n",
    "* Считаем расстояние до k-го ближайшего соседа\n",
    "\n",
    "**Предположение 2**: Аномальные объекты расположены в разреженых областях\n",
    "* Считаем \"плотность\" вокруг каждого объекта как обратное от среднего расстояние до $k$ ближайших соседей:\n",
    "$$ density_k(a) = 1 \\Biggm/ \\left(\\frac{\\sum\\limits_{b\\in N_k(a)} d(a, b)}{|N_k(a)|} \\right)$$\n",
    "    * Когда это не взлетит?"
   ]
  },
  {
   "cell_type": "code",
   "execution_count": 9,
   "metadata": {},
   "outputs": [],
   "source": [
    "from sklearn.neighbors import NearestNeighbors\n",
    "from sklearn.preprocessing import StandardScaler, RobustScaler"
   ]
  },
  {
   "cell_type": "code",
   "execution_count": 10,
   "metadata": {},
   "outputs": [],
   "source": [
    "cols = ['AGE', 'GENDER', 'FAMILY_INCOME', 'CHILD_TOTAL', 'PERSONAL_INCOME', 'DEPENDANTS',\n",
    "        'REG_FACT_FL', u'FACT_POST_FL', u'REG_POST_FL', u'REG_FACT_POST_FL',\n",
    "        u'REG_FACT_POST_TP_FL', u'FL_PRESENCE_FL',\n",
    "        u'OWN_AUTO', u'AUTO_RUS_FL', u'HS_PRESENCE_FL', u'COT_PRESENCE_FL',\n",
    "        u'GAR_PRESENCE_FL', u'LAND_PRESENCE_FL',\n",
    "        u'CREDIT', 'FST_PAYMENT']\n"
   ]
  },
  {
   "cell_type": "code",
   "execution_count": 11,
   "metadata": {},
   "outputs": [],
   "source": [
    "X = df.loc[:, cols].values"
   ]
  },
  {
   "cell_type": "code",
   "execution_count": 12,
   "metadata": {},
   "outputs": [],
   "source": [
    "scaler = RobustScaler() # # (X- X.mead())/ (q75 - q25). Нормируем данные, так чтобы размерность признака не играла роли.\n",
    "X_ = scaler.fit_transform(X)"
   ]
  },
  {
   "cell_type": "code",
   "execution_count": 13,
   "metadata": {},
   "outputs": [
    {
     "data": {
      "text/plain": [
       "NearestNeighbors(algorithm='auto', leaf_size=30, metric='minkowski',\n",
       "         metric_params=None, n_jobs=1, n_neighbors=20, p=2, radius=1.0)"
      ]
     },
     "execution_count": 13,
     "metadata": {},
     "output_type": "execute_result"
    }
   ],
   "source": [
    "k = 20\n",
    "model = NearestNeighbors(n_neighbors=k)\n",
    "model.fit(X_)"
   ]
  },
  {
   "cell_type": "code",
   "execution_count": 14,
   "metadata": {},
   "outputs": [],
   "source": [
    "# растояние до соседеней\n",
    "# массив индексей, массив растояний\n",
    "d, ind = model.kneighbors(X_, n_neighbors=(k+1))"
   ]
  },
  {
   "cell_type": "code",
   "execution_count": 15,
   "metadata": {},
   "outputs": [
    {
     "data": {
      "text/plain": [
       "(15223, 21)"
      ]
     },
     "execution_count": 15,
     "metadata": {},
     "output_type": "execute_result"
    }
   ],
   "source": [
    "d.shape"
   ]
  },
  {
   "cell_type": "code",
   "execution_count": 16,
   "metadata": {},
   "outputs": [
    {
     "data": {
      "text/plain": [
       "(15223, 21)"
      ]
     },
     "execution_count": 16,
     "metadata": {},
     "output_type": "execute_result"
    }
   ],
   "source": [
    "ind.shape"
   ]
  },
  {
   "cell_type": "code",
   "execution_count": 17,
   "metadata": {},
   "outputs": [],
   "source": [
    "density = 1./(d[:, 1:].mean(axis=1) + 0.001)"
   ]
  },
  {
   "cell_type": "code",
   "execution_count": 18,
   "metadata": {},
   "outputs": [
    {
     "data": {
      "text/plain": [
       "(15223,)"
      ]
     },
     "execution_count": 18,
     "metadata": {},
     "output_type": "execute_result"
    }
   ],
   "source": [
    "density.shape"
   ]
  },
  {
   "cell_type": "code",
   "execution_count": 19,
   "metadata": {},
   "outputs": [
    {
     "data": {
      "text/plain": [
       "(array([1186., 6744., 3391., 1978., 1086.,  527.,  198.,   77.,   29.,\n",
       "           7.]),\n",
       " array([0.03757744, 0.59157292, 1.1455684 , 1.69956388, 2.25355935,\n",
       "        2.80755483, 3.36155031, 3.91554579, 4.46954126, 5.02353674,\n",
       "        5.57753222]),\n",
       " <a list of 10 Patch objects>)"
      ]
     },
     "execution_count": 19,
     "metadata": {},
     "output_type": "execute_result"
    },
    {
     "data": {
      "image/png": "[encoded data removed]",
      "text/plain": [
       "<matplotlib.figure.Figure at 0x7efbcccbe0b8>"
      ]
     },
     "metadata": {},
     "output_type": "display_data"
    }
   ],
   "source": [
    "plt.hist(density)"
   ]
  },
  {
   "cell_type": "code",
   "execution_count": 20,
   "metadata": {},
   "outputs": [],
   "source": [
    "thresh = 0.2"
   ]
  },
  {
   "cell_type": "code",
   "execution_count": 21,
   "metadata": {},
   "outputs": [],
   "source": [
    "idx = density < thresh"
   ]
  },
  {
   "cell_type": "code",
   "execution_count": 22,
   "metadata": {},
   "outputs": [
    {
     "data": {
      "text/plain": [
       "AGE                              -4.171087\n",
       "SOCSTATUS_WORK_FL                 0.042830\n",
       "SOCSTATUS_PENS_FL                -0.008401\n",
       "GENDER                           -0.130907\n",
       "CHILD_TOTAL                       0.433320\n",
       "DEPENDANTS                        0.264621\n",
       "EDUCATION                        -0.646591\n",
       "MARITAL_STATUS                    0.198113\n",
       "GEN_INDUSTRY                     -0.249870\n",
       "GEN_TITLE                        -0.563140\n",
       "ORG_TP_STATE                      0.210263\n",
       "ORG_TP_FCAPITAL                  -0.087860\n",
       "JOB_DIR                          -0.114802\n",
       "FAMILY_INCOME                    -0.882353\n",
       "PERSONAL_INCOME              -97566.470084\n",
       "REG_ADDRESS_PROVINCE              6.045323\n",
       "FACT_ADDRESS_PROVINCE             6.886171\n",
       "POSTAL_ADDRESS_PROVINCE           6.868476\n",
       "TP_PROVINCE                       8.328248\n",
       "REGION_NM                        -1.351753\n",
       "REG_FACT_FL                       0.029050\n",
       "FACT_POST_FL                      0.046495\n",
       "REG_POST_FL                      -0.018431\n",
       "REG_FACT_POST_FL                  0.028590\n",
       "REG_FACT_POST_TP_FL               0.095949\n",
       "FL_PRESENCE_FL                   -0.071256\n",
       "OWN_AUTO                         -0.074241\n",
       "AUTO_RUS_FL                       0.026384\n",
       "HS_PRESENCE_FL                    0.168274\n",
       "COT_PRESENCE_FL                   0.009801\n",
       "GAR_PRESENCE_FL                   0.019274\n",
       "LAND_PRESENCE_FL                 -0.003941\n",
       "CREDIT                       -23461.038769\n",
       "TERM                             -2.616864\n",
       "FST_PAYMENT                  -25059.717490\n",
       "DL_DOCUMENT_FL                    0.000000\n",
       "GPF_DOCUMENT_FL                   0.160298\n",
       "FACT_LIVING_TERM               2909.829828\n",
       "WORK_TIME                       185.579870\n",
       "FACT_PHONE_FL                    -0.102787\n",
       "REG_PHONE_FL                     -0.088193\n",
       "GEN_PHONE_FL                     -0.042303\n",
       "LOAN_NUM_TOTAL                    0.292935\n",
       "LOAN_NUM_CLOSED                   0.228394\n",
       "LOAN_NUM_PAYM                     3.499853\n",
       "LOAN_DLQ_NUM                      0.147947\n",
       "LOAN_MAX_DLQ                      0.082693\n",
       "LOAN_AVG_DLQ_AMT                 71.937333\n",
       "LOAN_MAX_DLQ_AMT                 75.506740\n",
       "PREVIOUS_CARD_NUM_UTILIZED        0.019076\n",
       "active                           -0.023860\n",
       "dtype: float64"
      ]
     },
     "execution_count": 22,
     "metadata": {},
     "output_type": "execute_result"
    }
   ],
   "source": [
    "df.loc[~idx, :].mean() - df.loc[idx,:].mean()"
   ]
  },
  {
   "cell_type": "code",
   "execution_count": 23,
   "metadata": {},
   "outputs": [
    {
     "data": {
      "text/plain": [
       "array([[0.        , 0.72959425, 0.76603005, 0.78971431, 0.83359658,\n",
       "        0.85065334, 0.93628921, 1.017206  , 1.0449851 , 1.06227024,\n",
       "        1.06328587, 1.06583373, 1.13098878, 1.15338461, 1.16210878,\n",
       "        1.18762258, 1.22226388, 1.23071161, 1.23767894, 1.23918896,\n",
       "        1.25542052],\n",
       "       [0.        , 0.73118372, 1.14408692, 1.14562853, 1.1576459 ,\n",
       "        1.19096882, 1.20509664, 1.2340054 , 1.29390255, 1.31981527,\n",
       "        1.34374204, 1.36792357, 1.38915616, 1.4152709 , 1.46799888,\n",
       "        1.48912954, 1.51825124, 1.52593135, 1.53192807, 1.54996513,\n",
       "        1.57208994],\n",
       "       [0.        , 0.7420319 , 0.75766207, 0.90575031, 1.0228671 ,\n",
       "        1.02411845, 1.03386837, 1.03519988, 1.04521838, 1.11083492,\n",
       "        1.13318105, 1.1376438 , 1.15687967, 1.16869264, 1.20844209,\n",
       "        1.22224334, 1.22295098, 1.2382264 , 1.27699344, 1.29519927,\n",
       "        1.30951438]])"
      ]
     },
     "execution_count": 23,
     "metadata": {},
     "output_type": "execute_result"
    }
   ],
   "source": [
    "d[:3]"
   ]
  },
  {
   "cell_type": "markdown",
   "metadata": {},
   "source": [
    "### Local Outlier Factor\n",
    "* Идея: давайте сравнивать плотность объектов с плотностями их $k$ ближайших соседей\n",
    "* Чтобы повысить стабильность в условии разной плотности будет считать reachability-distance:\n",
    "$$ \\text{reachability-distance}_k(a, b) = \\max\\left(k-\\text{distance}(a), d(a,b) \\right)$$\n",
    "<center><img src='https://upload.wikimedia.org/wikipedia/commons/thumb/6/6f/Reachability-distance.svg/250px-Reachability-distance.svg.png' width=300></center>\n",
    "* Считаем плотность - local reachability density:\n",
    "$$ lrd(a) = 1 \\Biggm/ \\left(\\frac{\\sum\\limits_{b\\in N_k(a)} \\text{reachability-distance}_k(a, b)}{|N_k(a)|} \\right)$$\n",
    "* Сравнивам с соседями:\n",
    "$$LOF_k(a) = \\frac{1}{|N_k(a)|}\\sum\\limits_{b\\in N_k(a)}\\frac{lrd(b)}{lrd(a)}$$"
   ]
  },
  {
   "cell_type": "code",
   "execution_count": 24,
   "metadata": {},
   "outputs": [],
   "source": [
    "from sklearn.neighbors import LocalOutlierFactor"
   ]
  },
  {
   "cell_type": "code",
   "execution_count": 25,
   "metadata": {},
   "outputs": [],
   "source": [
    "cols = ['AGE', 'GENDER', 'FAMILY_INCOME', 'CHILD_TOTAL', 'PERSONAL_INCOME', 'DEPENDANTS',\n",
    "        'REG_FACT_FL', u'FACT_POST_FL', u'REG_POST_FL', u'REG_FACT_POST_FL',\n",
    "        u'REG_FACT_POST_TP_FL', u'FL_PRESENCE_FL',\n",
    "        u'OWN_AUTO', u'AUTO_RUS_FL', u'HS_PRESENCE_FL', u'COT_PRESENCE_FL',\n",
    "        u'GAR_PRESENCE_FL', u'LAND_PRESENCE_FL',\n",
    "        u'CREDIT', 'FST_PAYMENT']\n"
   ]
  },
  {
   "cell_type": "code",
   "execution_count": 26,
   "metadata": {},
   "outputs": [],
   "source": [
    "X = df.loc[:, cols].values"
   ]
  },
  {
   "cell_type": "code",
   "execution_count": 27,
   "metadata": {},
   "outputs": [],
   "source": [
    "scaler = RobustScaler() # (X- X.mead())/ (q75 - q25)\n",
    "X_ = scaler.fit_transform(X)"
   ]
  },
  {
   "cell_type": "code",
   "execution_count": 28,
   "metadata": {},
   "outputs": [],
   "source": [
    "from sklearn.neighbors import LocalOutlierFactor"
   ]
  },
  {
   "cell_type": "code",
   "execution_count": 29,
   "metadata": {},
   "outputs": [],
   "source": [
    "model = LocalOutlierFactor(n_neighbors=20, contamination=0.2)"
   ]
  },
  {
   "cell_type": "code",
   "execution_count": 30,
   "metadata": {},
   "outputs": [
    {
     "data": {
      "text/plain": [
       "LocalOutlierFactor(algorithm='auto', contamination=0.2, leaf_size=30,\n",
       "          metric='minkowski', metric_params=None, n_jobs=1, n_neighbors=20,\n",
       "          p=2)"
      ]
     },
     "execution_count": 30,
     "metadata": {},
     "output_type": "execute_result"
    }
   ],
   "source": [
    "model.fit(X_)"
   ]
  },
  {
   "cell_type": "code",
   "execution_count": 31,
   "metadata": {},
   "outputs": [
    {
     "data": {
      "text/plain": [
       "-1.2278024118843494"
      ]
     },
     "execution_count": 31,
     "metadata": {},
     "output_type": "execute_result"
    }
   ],
   "source": [
    "model.threshold_ # 10% с самым низким порогом"
   ]
  },
  {
   "cell_type": "code",
   "execution_count": 32,
   "metadata": {},
   "outputs": [],
   "source": [
    "lof = model.negative_outlier_factor_ "
   ]
  },
  {
   "cell_type": "code",
   "execution_count": 33,
   "metadata": {},
   "outputs": [],
   "source": [
    "thresh = lof < thresh"
   ]
  },
  {
   "cell_type": "code",
   "execution_count": 34,
   "metadata": {},
   "outputs": [],
   "source": [
    "idx = lof < thresh"
   ]
  },
  {
   "cell_type": "code",
   "execution_count": 35,
   "metadata": {},
   "outputs": [],
   "source": [
    "# все idx где TODO вывести."
   ]
  },
  {
   "cell_type": "code",
   "execution_count": 36,
   "metadata": {},
   "outputs": [
    {
     "data": {
      "text/plain": [
       "(array([6.0000e+00, 3.7000e+01, 1.2700e+02, 9.3800e+02, 1.1887e+04,\n",
       "        2.2260e+03, 0.0000e+00, 0.0000e+00, 0.0000e+00, 0.0000e+00]),\n",
       " array([-3. , -2.6, -2.2, -1.8, -1.4, -1. , -0.6, -0.2,  0.2,  0.6,  1. ]),\n",
       " <a list of 10 Patch objects>)"
      ]
     },
     "execution_count": 36,
     "metadata": {},
     "output_type": "execute_result"
    },
    {
     "data": {
      "image/png": "[encoded data removed]",
      "text/plain": [
       "<matplotlib.figure.Figure at 0x7efbcc7439e8>"
      ]
     },
     "metadata": {},
     "output_type": "display_data"
    }
   ],
   "source": [
    "plt.hist(model.negative_outlier_factor_, range=(-3,1))"
   ]
  },
  {
   "cell_type": "code",
   "execution_count": null,
   "metadata": {},
   "outputs": [],
   "source": []
  },
  {
   "cell_type": "markdown",
   "metadata": {},
   "source": [
    "## Методы машинного обучения"
   ]
  },
  {
   "cell_type": "markdown",
   "metadata": {
    "slideshow": {
     "slide_type": "subslide"
    }
   },
   "source": [
    "### Изолирующий лес\n",
    "**Предположение**: Аномальные объекты быстрее изолируются от остальных наблюдений в данных\n",
    "<center><img src='img/isofor.png' width=600></center>"
   ]
  },
  {
   "cell_type": "markdown",
   "metadata": {
    "slideshow": {
     "slide_type": "subslide"
    }
   },
   "source": [
    "Каждое дерево в изолирующем лесу строится по следующим правилам:\n",
    "* Дерево строится на случайной подвыборке заданного размера\n",
    "* В каждой вершине выбирается случайный признак и случайный порог\n",
    "* Дерево строится до максимальной глубины\n",
    "\n",
    "Авторы рекомендуют использовать 256 объектов для обучения каждого дерева и 100 деревьев в лесу"
   ]
  },
  {
   "cell_type": "markdown",
   "metadata": {
    "slideshow": {
     "slide_type": "subslide"
    }
   },
   "source": [
    "Мера аномальности - средняя длина пути по деревьям лесу*\n",
    "<center><img src='img/isofor2.png' width=400></center>"
   ]
  },
  {
   "cell_type": "code",
   "execution_count": 37,
   "metadata": {},
   "outputs": [],
   "source": [
    "from sklearn.ensemble import IsolationForest"
   ]
  },
  {
   "cell_type": "code",
   "execution_count": 38,
   "metadata": {},
   "outputs": [],
   "source": [
    "X = df.iloc[:, :-1].values\n",
    "X[np.isnan(X)] = -999"
   ]
  },
  {
   "cell_type": "code",
   "execution_count": null,
   "metadata": {},
   "outputs": [],
   "source": []
  },
  {
   "cell_type": "code",
   "execution_count": 39,
   "metadata": {},
   "outputs": [],
   "source": [
    "model = IsolationForest(n_estimators=100, max_samples=256, n_jobs=4,\n",
    "                        random_state=123)"
   ]
  },
  {
   "cell_type": "code",
   "execution_count": 40,
   "metadata": {},
   "outputs": [
    {
     "data": {
      "text/plain": [
       "IsolationForest(bootstrap=False, contamination=0.1, max_features=1.0,\n",
       "        max_samples=256, n_estimators=100, n_jobs=4, random_state=123,\n",
       "        verbose=0)"
      ]
     },
     "execution_count": 40,
     "metadata": {},
     "output_type": "execute_result"
    }
   ],
   "source": [
    "model.fit(X)"
   ]
  },
  {
   "cell_type": "code",
   "execution_count": 41,
   "metadata": {},
   "outputs": [],
   "source": [
    "# чем меньше значение score тем более вероятно что объект анамален\n",
    "score = model.decision_function(X)"
   ]
  },
  {
   "cell_type": "code",
   "execution_count": 42,
   "metadata": {},
   "outputs": [
    {
     "data": {
      "text/plain": [
       "(array([  10.,   82.,  266.,  771.,  797., 1034., 2045., 3342., 4343.,\n",
       "        2533.]),\n",
       " array([-0.13464738, -0.10758227, -0.08051716, -0.05345206, -0.02638695,\n",
       "         0.00067815,  0.02774326,  0.05480837,  0.08187347,  0.10893858,\n",
       "         0.13600369]),\n",
       " <a list of 10 Patch objects>)"
      ]
     },
     "execution_count": 42,
     "metadata": {},
     "output_type": "execute_result"
    },
    {
     "data": {
      "image/png": "[encoded data removed]",
      "text/plain": [
       "<matplotlib.figure.Figure at 0x7efbd85bf940>"
      ]
     },
     "metadata": {},
     "output_type": "display_data"
    }
   ],
   "source": [
    "plt.hist(score)"
   ]
  },
  {
   "cell_type": "code",
   "execution_count": 43,
   "metadata": {},
   "outputs": [
    {
     "data": {
      "text/plain": [
       "-0.015112413571084712"
      ]
     },
     "execution_count": 43,
     "metadata": {},
     "output_type": "execute_result"
    }
   ],
   "source": [
    "model.threshold_ # отсикаем 10% "
   ]
  },
  {
   "cell_type": "markdown",
   "metadata": {},
   "source": [
    "## Методы основанные на кластеризации"
   ]
  },
  {
   "cell_type": "markdown",
   "metadata": {},
   "source": [
    "**Предположение 1**: \"Нормальные\" наблюдения принадлежат некоторому кластеру, а аномальные - нет\n",
    "* DBSCAN\n",
    "* OPTICS\n",
    "* ..."
   ]
  },
  {
   "cell_type": "markdown",
   "metadata": {},
   "source": [
    "**Предположение 2**: \"Нормальные\" наблюдения расплолжены близко к центрам кластеров, а аномалии - далеко\n",
    "* Посчитать (относительное) расстояние до центройдов\n",
    "$$ d_{rel}(x_i, \\mu_{C_j}) = \\frac{d(x_i, \\mu_{C_j})}{median([d(x, \\mu_{C_j}) \\ \\forall x \\in C_j])}, \\quad x_i \\in C_j$$\n",
    "* После кластеризации итеративно удалять объекты, которые сильнее всего портят критерий алгоритма\n",
    "* Удалять кластеры, расположенные далеко (?) от остальных кластеров\n",
    "* ..."
   ]
  },
  {
   "cell_type": "markdown",
   "metadata": {},
   "source": [
    "Подробнее про кластеризацию расскажем на следующих занятиях"
   ]
  },
  {
   "cell_type": "markdown",
   "metadata": {},
   "source": [
    "# Дисбаланс классов"
   ]
  },
  {
   "cell_type": "markdown",
   "metadata": {},
   "source": [
    "На практике, при решении задачи классификации, классы могут быть сильно дисбалансированны.\n",
    "\n",
    "Так как, обычно, модели считают объекты равноценными, то представителям минорного класса может уделяться меньшее внимание (просто потому что их мало)\n",
    "\n",
    "Нужно как-то сбалансировать задачу!"
   ]
  },
  {
   "cell_type": "markdown",
   "metadata": {
    "slideshow": {
     "slide_type": "slide"
    }
   },
   "source": [
    "## Способы балансировки классов\n",
    "* Взвешивание функции потерь\n",
    "$$ \\tilde{L}(X, \\theta) = \\sum_iw_iL(x_i, \\theta) $$\n",
    "Обычно $w_i$ обратно пропорциональны частоте соответствующего класса"
   ]
  },
  {
   "cell_type": "code",
   "execution_count": 44,
   "metadata": {
    "slideshow": {
     "slide_type": "notes"
    }
   },
   "outputs": [],
   "source": [
    "from sklearn.datasets import make_moons\n",
    "from imblearn.datasets import make_imbalance\n",
    "from sklearn.linear_model import LogisticRegression\n",
    "\n",
    "def demo_weight(class_weight=None, ratio=0.5):\n",
    "\n",
    "    X_, y_ = make_moons(n_samples=500, shuffle=True, noise=0.3, random_state=0)\n",
    "    X, y = make_imbalance(X_, y_, ratio, random_state=0)\n",
    "\n",
    "    model = LogisticRegression(class_weight=class_weight).fit(X, y)\n",
    "    x0, x1 = np.meshgrid(np.linspace(-1, 2.5, 100),\n",
    "                         np.linspace(-2, 2, 100))\n",
    "    xx0, xx1 = x0.ravel(), x1.ravel()\n",
    "\n",
    "    X_grid = np.c_[xx0, xx1]\n",
    "\n",
    "    y_hat = model.decision_function(X_grid)\n",
    "    y_hat = y_hat.reshape(x0.shape)\n",
    "\n",
    "    plt.contour(x0, x1, y_hat, levels=[0])\n",
    "    plt.scatter(X[:,0], \n",
    "                X[:, 1], \n",
    "                c=y, cmap=plt.cm.flag_r)\n",
    "    plt.axis('equal')"
   ]
  },
  {
   "cell_type": "code",
   "execution_count": 45,
   "metadata": {
    "scrolled": true,
    "slideshow": {
     "slide_type": "subslide"
    }
   },
   "outputs": [
    {
     "data": {
      "application/vnd.jupyter.widget-view+json": {
       "model_id": "3a17112dc854478ab184fd13a3ead3d0",
       "version_major": 2,
       "version_minor": 0
      },
      "text/html": [
       "<p>Failed to display Jupyter Widget of type <code>interactive</code>.</p>\n",
       "<p>\n",
       "  If you're reading this message in the Jupyter Notebook or JupyterLab Notebook, it may mean\n",
       "  that the widgets JavaScript is still loading. If this message persists, it\n",
       "  likely means that the widgets JavaScript library is either not installed or\n",
       "  not enabled. See the <a href=\"https://ipywidgets.readthedocs.io/en/stable/user_install.html\">Jupyter\n",
       "  Widgets Documentation</a> for setup instructions.\n",
       "</p>\n",
       "<p>\n",
       "  If you're reading this message in another frontend (for example, a static\n",
       "  rendering on GitHub or <a href=\"https://nbviewer.jupyter.org/\">NBViewer</a>),\n",
       "  it may mean that your frontend doesn't currently support widgets.\n",
       "</p>\n"
      ],
      "text/plain": [
       "interactive(children=(Dropdown(description='class_weight', options=('balanced', None), value=None), FloatSlider(value=0.05, description='ratio', max=0.5, min=0.05, step=0.05), Output()), _dom_classes=('widget-interact',))"
      ]
     },
     "metadata": {},
     "output_type": "display_data"
    },
    {
     "data": {
      "text/plain": [
       "<function __main__.demo_weight>"
      ]
     },
     "execution_count": 45,
     "metadata": {},
     "output_type": "execute_result"
    }
   ],
   "source": [
    "interact(demo_weight, class_weight=['balanced', None], ratio=FloatSlider(min=0.05, max=0.5, step=0.05))"
   ]
  },
  {
   "cell_type": "markdown",
   "metadata": {
    "slideshow": {
     "slide_type": "slide"
    }
   },
   "source": [
    "### Сэмплирование\n",
    "* Under-sampling\n",
    "* Over-sampling\n",
    "* Ensemble methods\n",
    "\n",
    "See  [imbalanced-learn](https://github.com/scikit-learn-contrib/imbalanced-learn)"
   ]
  },
  {
   "cell_type": "code",
   "execution_count": 46,
   "metadata": {},
   "outputs": [
    {
     "name": "stdout",
     "output_type": "stream",
     "text": [
      "Requirement already satisfied: imbalanced-learn in /home/ssmarkin/zwork/venv/lib/python3.6/site-packages\n",
      "Requirement already satisfied: scipy in /home/ssmarkin/zwork/venv/lib/python3.6/site-packages (from imbalanced-learn)\n",
      "Requirement already satisfied: scikit-learn in /home/ssmarkin/zwork/venv/lib/python3.6/site-packages (from imbalanced-learn)\n",
      "Requirement already satisfied: numpy in /home/ssmarkin/zwork/venv/lib/python3.6/site-packages (from imbalanced-learn)\n"
     ]
    }
   ],
   "source": [
    "!pip install imbalanced-learn"
   ]
  },
  {
   "cell_type": "markdown",
   "metadata": {
    "slideshow": {
     "slide_type": "subslide"
    }
   },
   "source": [
    "## Under-sampling\n",
    "Убираем представителей доминирующего класса\n",
    "* Случайным образом\n",
    "* Оставить эталонные объекты (ClusterCentroids)\n",
    "* Оставить объекты, наиболее похожие на представителей минорного класса (NearMiss)\n",
    "* Удалить объекты, в окрестности которых есть (много) представителей минорного класса (Condenced NN)"
   ]
  },
  {
   "cell_type": "code",
   "execution_count": 47,
   "metadata": {
    "slideshow": {
     "slide_type": "notes"
    }
   },
   "outputs": [],
   "source": [
    "from imblearn.under_sampling import NearMiss, RandomUnderSampler, EditedNearestNeighbours, ClusterCentroids, CondensedNearestNeighbour\n",
    "\n",
    "def demo_under(ratio=0.5, sampler=None):\n",
    "\n",
    "    X_, y_ = make_moons(n_samples=500, shuffle=True, noise=0.3, random_state=0)\n",
    "    X, y = make_imbalance(X_, y_, ratio, random_state=0)\n",
    "    \n",
    "    sampler_model = \\\n",
    "              {'rand': RandomUnderSampler(random_state=0),\n",
    "               'cluster': ClusterCentroids(random_state=0),\n",
    "               'editnn': EditedNearestNeighbours(random_state=0),\n",
    "               'condnn': CondensedNearestNeighbour(random_state=0),\n",
    "               'nearmiss': NearMiss(random_state=0, version=1)}.get(sampler)\n",
    "    \n",
    "    if sampler:\n",
    "        X, y = sampler_model.fit_sample(X, y)\n",
    "\n",
    "    model = LogisticRegression(class_weight=None).fit(X, y)\n",
    "    x0, x1 = np.meshgrid(np.linspace(-1, 2.5, 100),\n",
    "                         np.linspace(-2, 2, 100))\n",
    "    xx0, xx1 = x0.ravel(), x1.ravel()\n",
    "\n",
    "    X_grid = np.c_[xx0, xx1]\n",
    "\n",
    "    y_hat = model.decision_function(X_grid)\n",
    "    y_hat = y_hat.reshape(x0.shape)\n",
    "\n",
    "    plt.contour(x0, x1, y_hat, levels=[0])\n",
    "    plt.scatter(X[:,0], \n",
    "                X[:, 1], \n",
    "                c=y, cmap=plt.cm.flag_r)\n",
    "    plt.axis('equal')"
   ]
  },
  {
   "cell_type": "code",
   "execution_count": 48,
   "metadata": {
    "slideshow": {
     "slide_type": "subslide"
    }
   },
   "outputs": [
    {
     "data": {
      "application/vnd.jupyter.widget-view+json": {
       "model_id": "e223d6e945e24a0c9a0f3446479c88bc",
       "version_major": 2,
       "version_minor": 0
      },
      "text/html": [
       "<p>Failed to display Jupyter Widget of type <code>interactive</code>.</p>\n",
       "<p>\n",
       "  If you're reading this message in the Jupyter Notebook or JupyterLab Notebook, it may mean\n",
       "  that the widgets JavaScript is still loading. If this message persists, it\n",
       "  likely means that the widgets JavaScript library is either not installed or\n",
       "  not enabled. See the <a href=\"https://ipywidgets.readthedocs.io/en/stable/user_install.html\">Jupyter\n",
       "  Widgets Documentation</a> for setup instructions.\n",
       "</p>\n",
       "<p>\n",
       "  If you're reading this message in another frontend (for example, a static\n",
       "  rendering on GitHub or <a href=\"https://nbviewer.jupyter.org/\">NBViewer</a>),\n",
       "  it may mean that your frontend doesn't currently support widgets.\n",
       "</p>\n"
      ],
      "text/plain": [
       "interactive(children=(FloatSlider(value=0.05, description='ratio', max=0.5, min=0.05, step=0.05), Dropdown(description='sampler', options=(None, 'rand', 'cluster', 'editnn', 'condnn', 'nearmiss'), value=None), Output()), _dom_classes=('widget-interact',))"
      ]
     },
     "metadata": {},
     "output_type": "display_data"
    },
    {
     "data": {
      "text/plain": [
       "<function __main__.demo_under>"
      ]
     },
     "execution_count": 48,
     "metadata": {},
     "output_type": "execute_result"
    }
   ],
   "source": [
    "interact(demo_under, ratio=FloatSlider(min=0.05, max=0.5, step=0.05), sampler=[None, 'rand', 'cluster', 'editnn', 'condnn', 'nearmiss'])"
   ]
  },
  {
   "cell_type": "markdown",
   "metadata": {
    "slideshow": {
     "slide_type": "subslide"
    }
   },
   "source": [
    "## Over sampling\n",
    "Генерируем представителей минорного класса\n",
    "* Случайным образом из существующих\n",
    "* Синтетически, на основе существующих\n"
   ]
  },
  {
   "cell_type": "markdown",
   "metadata": {
    "slideshow": {
     "slide_type": "subslide"
    }
   },
   "source": [
    "## SMOTE\n",
    "### Synthetic Minority Over-sampling Technique\n",
    "* Для каждого представителя минорного класса найте $k$ ближайших соседей\n",
    "* Выбрать одного из соседей\n",
    "* Сгенерировать новый объект, расположеный между ними\n",
    "\n",
    "<center><img src='img/smote.png' width=400></center>"
   ]
  },
  {
   "cell_type": "code",
   "execution_count": 49,
   "metadata": {
    "slideshow": {
     "slide_type": "notes"
    }
   },
   "outputs": [],
   "source": [
    "from imblearn.over_sampling import SMOTE, RandomOverSampler\n",
    "\n",
    "def demo_over(ratio=0.5, sampler=None):\n",
    "\n",
    "    X_, y_ = make_moons(n_samples=500, shuffle=True, noise=0.3, random_state=0)\n",
    "    X, y = make_imbalance(X_, y_, ratio, random_state=0)\n",
    "    \n",
    "    sampler_model = \\\n",
    "              {'rand': RandomOverSampler(random_state=0),\n",
    "               'smote': SMOTE(),\n",
    "               }.get(sampler)\n",
    "    \n",
    "    if sampler:\n",
    "        X, y = sampler_model.fit_sample(X, y)\n",
    "\n",
    "    model = LogisticRegression(class_weight=None).fit(X, y)\n",
    "    x0, x1 = np.meshgrid(np.linspace(-1, 2.5, 100),\n",
    "                         np.linspace(-2, 2, 100))\n",
    "    xx0, xx1 = x0.ravel(), x1.ravel()\n",
    "\n",
    "    X_grid = np.c_[xx0, xx1]\n",
    "\n",
    "    y_hat = model.decision_function(X_grid)\n",
    "    y_hat = y_hat.reshape(x0.shape)\n",
    "\n",
    "    plt.contour(x0, x1, y_hat, levels=[0])\n",
    "    plt.scatter(X[:,0], \n",
    "                X[:, 1], \n",
    "                c=y, cmap=plt.cm.flag_r)\n",
    "    plt.axis('equal')"
   ]
  },
  {
   "cell_type": "code",
   "execution_count": 50,
   "metadata": {
    "slideshow": {
     "slide_type": "subslide"
    }
   },
   "outputs": [
    {
     "data": {
      "application/vnd.jupyter.widget-view+json": {
       "model_id": "2fb75a33cc4742a5b572ede1581fcc4e",
       "version_major": 2,
       "version_minor": 0
      },
      "text/html": [
       "<p>Failed to display Jupyter Widget of type <code>interactive</code>.</p>\n",
       "<p>\n",
       "  If you're reading this message in the Jupyter Notebook or JupyterLab Notebook, it may mean\n",
       "  that the widgets JavaScript is still loading. If this message persists, it\n",
       "  likely means that the widgets JavaScript library is either not installed or\n",
       "  not enabled. See the <a href=\"https://ipywidgets.readthedocs.io/en/stable/user_install.html\">Jupyter\n",
       "  Widgets Documentation</a> for setup instructions.\n",
       "</p>\n",
       "<p>\n",
       "  If you're reading this message in another frontend (for example, a static\n",
       "  rendering on GitHub or <a href=\"https://nbviewer.jupyter.org/\">NBViewer</a>),\n",
       "  it may mean that your frontend doesn't currently support widgets.\n",
       "</p>\n"
      ],
      "text/plain": [
       "interactive(children=(FloatSlider(value=0.05, description='ratio', max=0.5, min=0.05, step=0.05), Dropdown(description='sampler', options=(None, 'rand', 'smote'), value=None), Output()), _dom_classes=('widget-interact',))"
      ]
     },
     "metadata": {},
     "output_type": "display_data"
    },
    {
     "data": {
      "text/plain": [
       "<function __main__.demo_over>"
      ]
     },
     "execution_count": 50,
     "metadata": {},
     "output_type": "execute_result"
    }
   ],
   "source": [
    "interact(demo_over, ratio=FloatSlider(min=0.05, max=0.5, step=0.05), sampler=[None, 'rand', 'smote'])\n",
    "# rand - дублированные объекты\n",
    "# smote - генерируем похожие объекты"
   ]
  },
  {
   "cell_type": "markdown",
   "metadata": {
    "slideshow": {
     "slide_type": "slide"
    }
   },
   "source": [
    "## Ансамблевые методы\n",
    "### Easy Ensemble\n",
    "\n",
    "* Строим несколько моделей на случайно сбалансированных данных"
   ]
  },
  {
   "cell_type": "markdown",
   "metadata": {},
   "source": [
    "## Попробуем сами"
   ]
  },
  {
   "cell_type": "code",
   "execution_count": 51,
   "metadata": {},
   "outputs": [],
   "source": [
    "from sklearn.metrics import precision_recall_curve\n",
    "from sklearn.metrics import auc\n",
    "from sklearn.model_selection import cross_val_score\n",
    "from sklearn.model_selection import StratifiedKFold\n",
    "from sklearn.preprocessing import OneHotEncoder\n",
    "\n",
    "from sklearn.preprocessing import Imputer\n",
    "from sklearn.linear_model import LogisticRegression\n",
    "from sklearn.pipeline import Pipeline\n",
    "from imblearn.pipeline import Pipeline as Pipeline_imb"
   ]
  },
  {
   "cell_type": "code",
   "execution_count": 52,
   "metadata": {},
   "outputs": [],
   "source": [
    "def pr_auc(estimator, X, y):\n",
    "    y_hat = estimator.predict_proba(X)[:, 1]\n",
    "    pr, rec, _ = precision_recall_curve(y, y_hat)\n",
    "    return auc(rec, pr)"
   ]
  },
  {
   "cell_type": "code",
   "execution_count": 53,
   "metadata": {},
   "outputs": [],
   "source": [
    "df_data, features = load_otp()"
   ]
  },
  {
   "cell_type": "code",
   "execution_count": 54,
   "metadata": {
    "scrolled": true
   },
   "outputs": [
    {
     "data": {
      "text/html": [
       "<div>\n",
       "<style scoped>\n",
       "    .dataframe tbody tr th:only-of-type {\n",
       "        vertical-align: middle;\n",
       "    }\n",
       "\n",
       "    .dataframe tbody tr th {\n",
       "        vertical-align: top;\n",
       "    }\n",
       "\n",
       "    .dataframe thead th {\n",
       "        text-align: right;\n",
       "    }\n",
       "</style>\n",
       "<table border=\"1\" class=\"dataframe\">\n",
       "  <thead>\n",
       "    <tr style=\"text-align: right;\">\n",
       "      <th></th>\n",
       "      <th>feature</th>\n",
       "      <th>descr</th>\n",
       "      <th>uniq_vals</th>\n",
       "    </tr>\n",
       "  </thead>\n",
       "  <tbody>\n",
       "    <tr>\n",
       "      <th>0</th>\n",
       "      <td>AGE</td>\n",
       "      <td>возраст клиента</td>\n",
       "      <td>47</td>\n",
       "    </tr>\n",
       "    <tr>\n",
       "      <th>4</th>\n",
       "      <td>CHILD_TOTAL</td>\n",
       "      <td>количество детей клиента</td>\n",
       "      <td>10</td>\n",
       "    </tr>\n",
       "    <tr>\n",
       "      <th>5</th>\n",
       "      <td>DEPENDANTS</td>\n",
       "      <td>количество иждивенцев клиента</td>\n",
       "      <td>8</td>\n",
       "    </tr>\n",
       "    <tr>\n",
       "      <th>6</th>\n",
       "      <td>EDUCATION</td>\n",
       "      <td>образование</td>\n",
       "      <td>7</td>\n",
       "    </tr>\n",
       "    <tr>\n",
       "      <th>7</th>\n",
       "      <td>MARITAL_STATUS</td>\n",
       "      <td>семейное положение</td>\n",
       "      <td>5</td>\n",
       "    </tr>\n",
       "    <tr>\n",
       "      <th>8</th>\n",
       "      <td>GEN_INDUSTRY</td>\n",
       "      <td>отрасль работы клиента</td>\n",
       "      <td>31</td>\n",
       "    </tr>\n",
       "    <tr>\n",
       "      <th>9</th>\n",
       "      <td>GEN_TITLE</td>\n",
       "      <td>должность</td>\n",
       "      <td>12</td>\n",
       "    </tr>\n",
       "    <tr>\n",
       "      <th>10</th>\n",
       "      <td>ORG_TP_STATE</td>\n",
       "      <td>форма собственности компании</td>\n",
       "      <td>5</td>\n",
       "    </tr>\n",
       "    <tr>\n",
       "      <th>12</th>\n",
       "      <td>JOB_DIR</td>\n",
       "      <td>направление деЯтельности в нутри компании</td>\n",
       "      <td>10</td>\n",
       "    </tr>\n",
       "    <tr>\n",
       "      <th>13</th>\n",
       "      <td>FAMILY_INCOME</td>\n",
       "      <td>семейный доход (несколько категорий)</td>\n",
       "      <td>5</td>\n",
       "    </tr>\n",
       "    <tr>\n",
       "      <th>15</th>\n",
       "      <td>REG_ADDRESS_PROVINCE</td>\n",
       "      <td>область регистрации клиента</td>\n",
       "      <td>81</td>\n",
       "    </tr>\n",
       "    <tr>\n",
       "      <th>16</th>\n",
       "      <td>FACT_ADDRESS_PROVINCE</td>\n",
       "      <td>область фактического пребываниЯ клиента</td>\n",
       "      <td>81</td>\n",
       "    </tr>\n",
       "    <tr>\n",
       "      <th>17</th>\n",
       "      <td>POSTAL_ADDRESS_PROVINCE</td>\n",
       "      <td>почтовый адрес область</td>\n",
       "      <td>80</td>\n",
       "    </tr>\n",
       "    <tr>\n",
       "      <th>18</th>\n",
       "      <td>TP_PROVINCE</td>\n",
       "      <td>область торговой точки, где клиент брал послед...</td>\n",
       "      <td>70</td>\n",
       "    </tr>\n",
       "    <tr>\n",
       "      <th>19</th>\n",
       "      <td>REGION_NM</td>\n",
       "      <td>регион ђ”</td>\n",
       "      <td>11</td>\n",
       "    </tr>\n",
       "    <tr>\n",
       "      <th>26</th>\n",
       "      <td>OWN_AUTO</td>\n",
       "      <td>кол-во автомобилей в собственности</td>\n",
       "      <td>3</td>\n",
       "    </tr>\n",
       "    <tr>\n",
       "      <th>33</th>\n",
       "      <td>TERM</td>\n",
       "      <td>срок кредита</td>\n",
       "      <td>22</td>\n",
       "    </tr>\n",
       "    <tr>\n",
       "      <th>42</th>\n",
       "      <td>LOAN_NUM_TOTAL</td>\n",
       "      <td>количество ссуд клиента</td>\n",
       "      <td>9</td>\n",
       "    </tr>\n",
       "    <tr>\n",
       "      <th>43</th>\n",
       "      <td>LOAN_NUM_CLOSED</td>\n",
       "      <td>количество погашенных ссуд клиента</td>\n",
       "      <td>10</td>\n",
       "    </tr>\n",
       "    <tr>\n",
       "      <th>44</th>\n",
       "      <td>LOAN_NUM_PAYM</td>\n",
       "      <td>количество платежей, которые сделал клиент</td>\n",
       "      <td>78</td>\n",
       "    </tr>\n",
       "    <tr>\n",
       "      <th>45</th>\n",
       "      <td>LOAN_DLQ_NUM</td>\n",
       "      <td>количество просрочек, допущенных клиентом</td>\n",
       "      <td>14</td>\n",
       "    </tr>\n",
       "    <tr>\n",
       "      <th>46</th>\n",
       "      <td>LOAN_MAX_DLQ</td>\n",
       "      <td>номер максимальной просрочки, допущенной клиентом</td>\n",
       "      <td>7</td>\n",
       "    </tr>\n",
       "    <tr>\n",
       "      <th>49</th>\n",
       "      <td>PREVIOUS_CARD_NUM_UTILIZED</td>\n",
       "      <td>количество уже утилизированных карт ( если пус...</td>\n",
       "      <td>3</td>\n",
       "    </tr>\n",
       "  </tbody>\n",
       "</table>\n",
       "</div>"
      ],
      "text/plain": [
       "                       feature  \\\n",
       "0                          AGE   \n",
       "4                  CHILD_TOTAL   \n",
       "5                   DEPENDANTS   \n",
       "6                    EDUCATION   \n",
       "7               MARITAL_STATUS   \n",
       "8                 GEN_INDUSTRY   \n",
       "9                    GEN_TITLE   \n",
       "10                ORG_TP_STATE   \n",
       "12                     JOB_DIR   \n",
       "13               FAMILY_INCOME   \n",
       "15        REG_ADDRESS_PROVINCE   \n",
       "16       FACT_ADDRESS_PROVINCE   \n",
       "17     POSTAL_ADDRESS_PROVINCE   \n",
       "18                 TP_PROVINCE   \n",
       "19                   REGION_NM   \n",
       "26                    OWN_AUTO   \n",
       "33                        TERM   \n",
       "42              LOAN_NUM_TOTAL   \n",
       "43             LOAN_NUM_CLOSED   \n",
       "44               LOAN_NUM_PAYM   \n",
       "45                LOAN_DLQ_NUM   \n",
       "46                LOAN_MAX_DLQ   \n",
       "49  PREVIOUS_CARD_NUM_UTILIZED   \n",
       "\n",
       "                                                descr  uniq_vals  \n",
       "0                                     возраст клиента         47  \n",
       "4                            количество детей клиента         10  \n",
       "5                       количество иждивенцев клиента          8  \n",
       "6                                         образование          7  \n",
       "7                                  семейное положение          5  \n",
       "8                              отрасль работы клиента         31  \n",
       "9                                           должность         12  \n",
       "10                       форма собственности компании          5  \n",
       "12          направление деЯтельности в нутри компании         10  \n",
       "13               семейный доход (несколько категорий)          5  \n",
       "15                        область регистрации клиента         81  \n",
       "16            область фактического пребываниЯ клиента         81  \n",
       "17                             почтовый адрес область         80  \n",
       "18  область торговой точки, где клиент брал послед...         70  \n",
       "19                                          регион ђ”         11  \n",
       "26                кол-во автомобилей в собственности           3  \n",
       "33                                       срок кредита         22  \n",
       "42                            количество ссуд клиента          9  \n",
       "43                 количество погашенных ссуд клиента         10  \n",
       "44         количество платежей, которые сделал клиент         78  \n",
       "45          количество просрочек, допущенных клиентом         14  \n",
       "46  номер максимальной просрочки, допущенной клиентом          7  \n",
       "49  количество уже утилизированных карт ( если пус...          3  "
      ]
     },
     "execution_count": 54,
     "metadata": {},
     "output_type": "execute_result"
    }
   ],
   "source": [
    "features[(features.uniq_vals>2) & (features.uniq_vals<100)]"
   ]
  },
  {
   "cell_type": "code",
   "execution_count": 55,
   "metadata": {},
   "outputs": [],
   "source": [
    "X = df_data.iloc[:, :-1].values\n",
    "y = df_data.iloc[:, -1].values"
   ]
  },
  {
   "cell_type": "code",
   "execution_count": 56,
   "metadata": {
    "scrolled": true
   },
   "outputs": [],
   "source": [
    "pipeline1 = Pipeline([\n",
    "    ('imputer', Imputer(strategy='median')),\n",
    "    ('scaller', StandardScaler()),\n",
    "    ('clf', LogisticRegression(random_state=123))\n",
    "])\n",
    "\n",
    "pipeline2 = Pipeline([\n",
    "    ('imputer', Imputer(strategy='median')),\n",
    "    ('scaller', StandardScaler()),\n",
    "    ('clf', LogisticRegression(class_weight='balanced', random_state=123))\n",
    "])\n",
    "\n",
    "pipeline3 = Pipeline_imb([\n",
    "    ('imputer', Imputer(strategy='median')),\n",
    "    ('scaller', StandardScaler()),\n",
    "    ('balancer', SMOTE()),\n",
    "    ('clf', LogisticRegression(random_state=123))\n",
    "])"
   ]
  },
  {
   "cell_type": "code",
   "execution_count": 57,
   "metadata": {},
   "outputs": [],
   "source": [
    "cv = StratifiedKFold(n_splits=5, random_state=123, shuffle=True)"
   ]
  },
  {
   "cell_type": "code",
   "execution_count": 58,
   "metadata": {},
   "outputs": [
    {
     "data": {
      "text/plain": [
       "0.21703255434279206"
      ]
     },
     "execution_count": 58,
     "metadata": {},
     "output_type": "execute_result"
    }
   ],
   "source": [
    "cross_val_score(pipeline1, X, y, scoring=pr_auc, cv=cv).mean()"
   ]
  },
  {
   "cell_type": "code",
   "execution_count": 59,
   "metadata": {},
   "outputs": [
    {
     "data": {
      "text/plain": [
       "0.21670283493814102"
      ]
     },
     "execution_count": 59,
     "metadata": {},
     "output_type": "execute_result"
    }
   ],
   "source": [
    "cross_val_score(pipeline2, X, y, scoring=pr_auc, cv=cv).mean()"
   ]
  },
  {
   "cell_type": "code",
   "execution_count": 60,
   "metadata": {},
   "outputs": [
    {
     "data": {
      "text/plain": [
       "0.2119953044779758"
      ]
     },
     "execution_count": 60,
     "metadata": {},
     "output_type": "execute_result"
    }
   ],
   "source": [
    "cross_val_score(pipeline3, X, y, scoring=pr_auc, cv=cv).mean()"
   ]
  },
  {
   "cell_type": "markdown",
   "metadata": {},
   "source": [
    "<img src='http://i0.kym-cdn.com/entries/icons/original/000/024/153/soundsgood.jpg'>"
   ]
  },
  {
   "cell_type": "markdown",
   "metadata": {},
   "source": [
    "* На самом деле иногда работает =)"
   ]
  },
  {
   "cell_type": "markdown",
   "metadata": {},
   "source": [
    "# Пропущенные значения"
   ]
  },
  {
   "cell_type": "markdown",
   "metadata": {},
   "source": [
    "Данные - [Sberbank Russian Housing Market](https://www.kaggle.com/c/sberbank-russian-housing-market)"
   ]
  },
  {
   "cell_type": "code",
   "execution_count": 61,
   "metadata": {},
   "outputs": [],
   "source": [
    "import missingno as msno"
   ]
  },
  {
   "cell_type": "code",
   "execution_count": 62,
   "metadata": {
    "scrolled": true
   },
   "outputs": [
    {
     "name": "stdout",
     "output_type": "stream",
     "text": [
      "amazon_cells_labelled.txt  data_y.csv\t      macro.csv\r\n",
      "data_dictionary_sber.txt   descr.txt\t      train.csv\r\n",
      "data_x.csv\t\t   imdb_labelled.txt  yelp_labelled.txt\r\n"
     ]
    }
   ],
   "source": [
    "!ls data/"
   ]
  },
  {
   "cell_type": "code",
   "execution_count": 63,
   "metadata": {
    "scrolled": true
   },
   "outputs": [
    {
     "name": "stdout",
     "output_type": "stream",
     "text": [
      "# train.csv and test.csv\r\n",
      "\r\n",
      "price_doc: sale price (this is the target variable)\r\n",
      "id: transaction id\r\n",
      "timestamp: date of transaction\r\n",
      "full_sq: total area in square meters, including loggias, balconies and other non-residential areas\r\n",
      "life_sq: living area in square meters, excluding loggias, balconies and other non-residential areas\r\n",
      "floor: for apartments, floor of the building\r\n",
      "max_floor: number of floors in the building\r\n",
      "material: wall material\r\n",
      "build_year: year built\r\n",
      "num_room: number of living rooms\r\n",
      "kitch_sq: kitchen area\r\n",
      "state: apartment condition\r\n",
      "product_type: owner-occupier purchase or investment\r\n",
      "sub_area: name of the district\r\n",
      "\r\n",
      "The dataset also includes a collection of features about each property's surrounding neighbourhood, and some features that are constant across each sub area (known as a Raion). Most of the feature names are self explanatory, with the following notes. See below for a complete list.\r\n",
      "\r\n",
      "full_all: subarea population\r\n",
      "male_f, female_f: subarea population by gender\r\n",
      "young_*: population younger than working age\r\n",
      "work_*: working-age population\r\n",
      "ekder_*: retirement-age population\r\n",
      "n_m_{all|male|female}: population between n and m years old\r\n",
      "build_count_*: buildings in the subarea by construction type or year\r\n",
      "x_count_500: the number of x within 500m of the property\r\n",
      "x_part_500: the share of x within 500m of the property\r\n",
      "_sqm_: square meters\r\n",
      "cafe_count_d_price_p: number of cafes within d meters of the property that have an average bill under p RUB\r\n",
      "trc_: shopping malls\r\n",
      "prom_: industrial zones\r\n",
      "green_: green zones\r\n",
      "metro_: subway\r\n",
      "_avto_: distances by car\r\n",
      "mkad_: Moscow Circle Auto Road\r\n",
      "ttk_: Third Transport Ring\r\n",
      "sadovoe_: Garden Ring\r\n",
      "bulvar_ring_: Boulevard Ring\r\n",
      "kremlin_: City center\r\n",
      "zd_vokzaly_: Train station\r\n",
      "oil_chemistry_: Dirty industry\r\n",
      "ts_: Power plant\r\n",
      "\r\n",
      "\r\n",
      "# macro.csv\r\n",
      "\r\n",
      "A set of macroeconomic indicators, one for each date.\r\n",
      "\r\n",
      "timestamp: Transaction timestamp\r\n",
      "oil_urals: Crude Oil Urals ($/bbl)\r\n",
      "gdp_quart: GDP\r\n",
      "gdp_quart_growth: Real GDP growth\r\n",
      "cpi: Inflation - Consumer Price Index Growth\r\n",
      "ppi: Inflation - Producer Price index Growth\r\n",
      "gdp_deflator: Inflation - GDP deflator\r\n",
      "balance_trade: Trade surplus\r\n",
      "balance_trade_growth: Trade balance (as a percentage of previous year)\r\n",
      "usdrub: Ruble/USD exchange rate\r\n",
      "eurrub: Ruble/EUR exchange rate\r\n",
      "brent: London Brent ($/bbl)\r\n",
      "net_capital_export: Net import / export of capital\r\n",
      "gdp_annual: GDP at current prices\r\n",
      "gdp_annual_growth: GDP growth (in real terms)\r\n",
      "average_provision_of_build_contract: Provision by orders in Russia (for the developer)\r\n",
      "average_provision_of_build_contract_moscow: Provision by orders in Moscow (for the developer)\r\n",
      "rts: Index RTS / return\r\n",
      "micex: MICEX index / return\r\n",
      "micex_rgbi_tr: MICEX index for government bonds (MICEX RGBI TR) / yield\r\n",
      "micex_cbi_tr: MICEX Index corporate bonds (MICEX CBI TR) / yield\r\n",
      "deposits_value: Volume of household deposits\r\n",
      "deposits_growth: Volume growth of population's deposits\r\n",
      "deposits_rate: Average interest rate on deposits\r\n",
      "mortgage_value: Volume of mortgage loans\r\n",
      "mortgage_growth: Growth of mortgage lending\r\n",
      "mortgage_rate: Weighted average rate of mortgage loans\r\n",
      "grp: GRP of the subject of Russian Federation where Apartment is located\r\n",
      "grp_growth: Growth of gross regional product of the subject of the Russian Federation where Apartment is located\r\n",
      "income_per_cap: Average income per capita \r\n",
      "real_dispos_income_per_cap_growth: Growth in real disposable income of Population\r\n",
      "salary: Average monthly salary\r\n",
      "salary_growth: Growth of nominal wages\r\n",
      "fixed_basket: Cost of a fixed basket of consumer goods and services for inter-regional comparisons of purchasing power\r\n",
      "retail_trade_turnover: Retail trade turnover\r\n",
      "retail_trade_turnover_per_cap: Retail trade turnover per capita\r\n",
      "retail_trade_turnover_growth: Retail turnover (in comparable prices in% to corresponding period of previous year)\r\n",
      "labor_force: Size of labor force\r\n",
      "unemployment: Unemployment rate\r\n",
      "employment: Employment rate\r\n",
      "invest_fixed_capital_per_cap: Investments in fixed capital per capita\r\n",
      "invest_fixed_assets: Absolute volume of investments in fixed assets\r\n",
      "profitable_enterpr_share: Share of profitable enterprises\r\n",
      "unprofitable_enterpr_share: The share of unprofitable enterprises\r\n",
      "share_own_revenues: The share of own revenues in the total consolidated budget revenues\r\n",
      "overdue_wages_per_cap: Overdue wages per person\r\n",
      "fin_res_per_cap: The financial results of companies per capita\r\n",
      "marriages_per_1000_cap: Number of marriages per 1,000 people\r\n",
      "divorce_rate: The divorce rate / growth rate\r\n",
      "construction_value: Volume of construction work performed (million rubles)\r\n",
      "invest_fixed_assets_phys: The index of physical volume of investment in fixed assets (in comparable prices in% to the corresponding month of Previous year)\r\n",
      "pop_natural_increase: Rate of natural increase / decrease in Population (1,000 persons)\r\n",
      "pop_migration: Migration increase (decrease) of population\r\n",
      "pop_total_inc: Total population growth\r\n",
      "childbirth: Childbirth\r\n",
      "mortality: Mortality\r\n",
      "housing_fund_sqm: Housing Fund (sqm)\r\n",
      "lodging_sqm_per_cap: Lodging (sqm / pax)\r\n",
      "water_pipes_share: Plumbing availability (pax)\r\n",
      "baths_share: Bath availability (pax)\r\n",
      "sewerage_share: Canalization availability\r\n",
      "gas_share: Gas (mains, liquefied) availability\r\n",
      "hot_water_share: Hot water availability\r\n",
      "electric_stove_share: Electric heating for the floor\r\n",
      "heating_share: Heating availability\r\n",
      "old_house_share: Proportion of old and dilapidated housing, percent\r\n",
      "average_life_exp: Average life expectancy\r\n",
      "infant_mortarity_per_1000_cap: Infant mortality rate (per 1,000 children aged up to one year)\r\n",
      "perinatal_mort_per_1000_cap: Perinatal mortality rate (per 1,000 live births)\r\n",
      "incidence_population: Overall incidence of the total population\r\n",
      "rent_price_4+room_bus: rent price for 4-room apartment, business class\r\n",
      "rent_price_3room_bus: rent price for 3-room apartment, business class\r\n",
      "rent_price_2room_bus: rent price for 2-room apartment, business class\r\n",
      "rent_price_1room_bus: rent price for 1-room apartment, business class\r\n",
      "rent_price_3room_eco: rent price for 3-room apartment, econom class\r\n",
      "rent_price_2room_eco: rent price for 2-room apartment, econom class\r\n",
      "rent_price_1room_eco: rent price for 1-room apartment, econom class\r\n",
      "load_of_teachers_preschool_per_teacher: Load of teachers of preschool educational institutions (number of children per 100 teachers);\r\n",
      "child_on_acc_pre_school: Number of children waiting for the determination to pre-school educational institutions, for capacity of 100\r\n",
      "load_of_teachers_school_per_teacher: Load on teachers in high school (number of pupils in hugh school for 100 teachers)\r\n",
      "students_state_oneshift: Proportion of pupils in high schools with one shift, of the total number of pupils in high schools\r\n",
      "modern_education_share: Share of state (municipal) educational organizations, corresponding to modern requirements of education in the total number of high schools;\r\n",
      "old_education_build_share: The share of state (municipal) educational organizations, buildings are in disrepair and in need of major repairs of the total number.\r\n",
      "provision_doctors: Provision (relative number) of medical doctors in area\r\n",
      "provision_nurse: Provision of nursing staff\r\n",
      "load_on_doctors: The load on doctors (number of visits per physician)\r\n",
      "power_clinics: Capacity of outpatient clinics\r\n",
      "hospital_beds_available_per_cap: Availability of hospital beds per 100 000 persons\r\n",
      "hospital_bed_occupancy_per_year: Average occupancy rate of the hospital beds during a year\r\n",
      "provision_retail_space_sqm: Retail space\r\n",
      "provision_retail_space_modern_sqm: Provision of population with retail space of modern formats, square meter\r\n",
      "retail_trade_turnover_per_cap: Retail trade turnover per capita\r\n",
      "turnover_catering_per_cap: Turnover of catering industry per person\r\n",
      "theaters_viewers_per_1000_cap: Number of theaters viewers per 1000 population\r\n",
      "seats_theather_rfmin_per_100000_cap: Total number of seats in Auditorium of the Ministry of Culture Russian theaters per 100,000 population\r\n",
      "museum_visitis_per_100_cap: Number of visits to museums per 1000 of population\r\n",
      "bandwidth_sports: Capacity of sports facilities\r\n",
      "population_reg_sports_share: Proportion of population regularly doing  sports\r\n",
      "students_reg_sports_share: Proportion of pupils and students regularly doing sports in the total number\r\n",
      "apartment_build: City residential apartment construction\r\n",
      "apartment_fund_sqm: City residential apartment fund \r\n",
      "\r\n",
      "\r\n",
      "# Complete description of neighbourhood features\r\n",
      "\r\n",
      "area_m\tArea mun. area, sq.m.\r\n",
      "raion_popul\tNumber of municipality population. district\r\n",
      "green_zone_part\tProportion of area of ​​greenery in the total area\r\n",
      "indust_part\tShare of industrial zones in area of ​​the total area\r\n",
      "children_preschool\tNumber of pre-school age population\r\n",
      "preschool_quota\tNumber of seats in pre-school organizations\r\n",
      "preschool_education_centers_raion\tNumber of pre-school  institutions\r\n",
      "children_school\tPopulation of school-age children\r\n",
      "school_quota\tNumber of high school seats in area\r\n",
      "school_education_centers_raion\tNumber of  high school institutions\r\n",
      "school_education_centers_top_20_raion\tNumber of high schools of the top 20 best schools in Moscow\r\n",
      "hospital_beds_raion\tNumber of hospital beds for the district\r\n",
      "healthcare_centers_raion\tNumber of healthcare centers in district\r\n",
      "university_top_20_raion\tNumber of higher education institutions in the top ten ranking of the Federal rank\r\n",
      "sport_objects_raion\tNumber of higher education institutions\r\n",
      "additional_education_raion\tNumber of additional education organizations\r\n",
      "culture_objects_top_25\tPresence of the key objects of cultural heritage (significant objects for the level of the RF constituent entities, city)\r\n",
      "culture_objects_top_25_raion\tNumber of  objects of cultural heritage\r\n",
      "shopping_centers_raion\tNumber of malls and shopping centres in district\r\n",
      "office_raion\tNumber of malls and shopping centres in district\r\n",
      "thermal_power_plant_raion\tPresence of thermal power station in district\r\n",
      "incineration_raion\tPresence of incinerators\r\n",
      "oil_chemistry_raion\tPresence of dirty industries\r\n",
      "radiation_raion\tPresence of radioactive waste disposal\r\n",
      "railroad_terminal_raion\tPresence of the railroad terminal in district\r\n",
      "big_market_raion\tPresence of large grocery / wholesale markets\r\n",
      "nuclear_reactor_raion\tPresence of existing nuclear reactors\r\n",
      "detention_facility_raion\tPresence of detention centers, prisons\r\n",
      "full_all\tTotal number of  population in the municipality\r\n",
      "male_f\tMale population\r\n",
      "female_f\tFemale population\r\n",
      "young_all\tPopulation younger than working age\r\n",
      "young_male\tMale population younger than working age \r\n",
      "young_female\tFeale population younger than working age \r\n",
      "work_all\tWorking-age population\r\n",
      "work_male\tMale working-age population\r\n",
      "work_female\tFemale working-age population\r\n",
      "ekder_all\tPopulation older than  working age\r\n",
      "ekder_male\tMale population older than  working age\r\n",
      "ekder_female\tFemale population older than  working age\r\n",
      "0_6_all\tPopulation aged 0-6\r\n",
      "0_6_male\tMale population aged 0-7\r\n",
      "0_6_female\tFemale population aged 0-8\r\n",
      "7_14_all\tPopulation aged  7-14\r\n",
      "7_14_male\tMale population aged 7-14\r\n",
      "7_14_female\tFemale population aged 7-14\r\n",
      "0_17_all\tPopulation aged 0-17\r\n",
      "0_17_male\tMale population aged 0-17\r\n",
      "0_17_female\tFemale population aged 0-17\r\n",
      "16_29_all\tPopulation aged 16-19\r\n",
      "16_29_male\tMale population aged 16-19\r\n",
      "16_29_female\tFemale population aged 16-19\r\n",
      "0_13_all\tPopulation aged 0-13\r\n",
      "0_13_male\tMale population aged 0-13\r\n",
      "0_13_female\tFemale population aged 0-13\r\n",
      "raion_build_count_with_material_info\tNumber of building with material info in district\r\n",
      "build_count_block\tShare of block buildings\r\n",
      "build_count_wood\tShare of wood buildings\r\n",
      "build_count_frame\tShare of frame buildings\r\n",
      "build_count_brick\tShare of brick buildings\r\n",
      "build_count_monolith\tShare of monolith buildings\r\n",
      "build_count_panel\tShare of panel buildings\r\n",
      "build_count_foam\tShare of foam buildings\r\n",
      "build_count_slag\tShare of slag buildings\r\n",
      "build_count_mix\tShare of mixed buildings\r\n",
      "raion_build_count_with_builddate_info\tNumber of building with build year info in district\r\n",
      "build_count_before_1920\tShare of before_1920 buildings\r\n",
      "build_count_1921-1945\tShare of 1921-1945 buildings\r\n",
      "build_count_1946-1970\tShare of 1946-1970 buildings\r\n",
      "build_count_1971-1995\tShare of 1971-1995 buildings\r\n",
      "build_count_after_1995\tShare of after_1995 buildings\r\n",
      "7_14_male\tMale population aged 7-14\r\n",
      "7_14_female\tFemale population aged 7-14\r\n",
      "0_17_all\tPopulation aged 0-17\r\n",
      "0_17_male\tMale population aged 0-17\r\n",
      "0_17_female\tFemale population aged 0-17\r\n",
      "16_29_all\tPopulation aged 16-19\r\n",
      "16_29_male\tMale population aged 16-19\r\n",
      "16_29_female\tFemale population aged 16-19\r\n",
      "0_13_all\tPopulation aged 0-13\r\n",
      "0_13_male\tMale population aged 0-13\r\n",
      "0_13_female\tFemale population aged 0-13\r\n",
      "metro_min_avto\tTime to subway by car, min.\r\n",
      "metro_km_avto\tDistance to subway by car, km\r\n",
      "metro_min_walk\tTime to metro by foot\r\n",
      "metro_km_walk\tDistance to the metro, km\r\n",
      "kindergarten_km\tDistance to kindergarten\r\n",
      "school_km\tDistance to high school \r\n",
      "park_km\tDistance to park\r\n",
      "green_zone_km\tDistance to green zone\r\n",
      "industrial_zone_km\tDistance to industrial zone\r\n",
      "water_treatment_km\tDistance to water treatment\r\n",
      "cemetery_km\tDistance to the cemetery\r\n",
      "incineration_km\tDistance to the incineration\r\n",
      "railroad_station_walk_km\tDistance to the railroad station (walk)\r\n",
      "railroad_station_walk_min\tTime to the railroad station (walk)\r\n",
      "ID_railroad_station_walk\tNearest railroad station id (walk)\r\n",
      "railroad_station_avto_km\tDistance to the railroad station (avto)\r\n",
      "railroad_station_avto_min\tTime to the railroad station (avto)\r\n",
      "ID_railroad_station_avto\tNearest railroad station id (avto)\r\n",
      "public_transport_station_km\tDistance to the public transport station (walk)\r\n",
      "public_transport_station_min_walk\tTime to the public transport station (walk)\r\n",
      "water_km\tDistance to the water reservoir / river\r\n",
      "water_1line\tFirst line to the river (150 m)\r\n",
      "mkad_km\tDistance to MKAD (Moscow Circle Auto Road)\r\n",
      "ttk_km\tDistance to the TTC (Third Transport Ring)\r\n",
      "sadovoe_km\tDistance to the Garden Ring\r\n",
      "bulvar_ring_km\tThe distance to the Boulevard Ring\r\n",
      "kremlin_km\tDistance to the city center (Kremlin)\r\n",
      "big_road1_km\tDistance to Nearest major road\r\n",
      "ID_big_road1\tNearest big road id\r\n",
      "big_road1_1line\tFirst line to the road (100 m for highwys, 250 m to MKAD)\r\n",
      "big_road2_km\tThe distance to next distant major road\r\n",
      "ID_big_road2\t2nd nearest big road id\r\n",
      "railroad_km\tDistance to the railway / Moscow Central Ring / open areas Underground\r\n",
      "railroad_1line\tFirst line to the railway (100 m)\r\n",
      "zd_vokzaly_avto_km\tDistance to train station\r\n",
      "ID_railroad_terminal\tNearest railroad terminal id\r\n",
      "bus_terminal_avto_km\tDistance to bus terminal (avto)\r\n",
      "ID_bus_terminal\tNearest bus terminal id\r\n",
      "oil_chemistry_km\tDistance to dirty industries\r\n",
      "nuclear_reactor_km\tDistance to nuclear reactor\r\n",
      "radiation_km\tDistance to burial of radioactive waste\r\n",
      "power_transmission_line_km\tDistance to power transmission line\r\n",
      "thermal_power_plant_km\tDistance to thermal power plant\r\n",
      "ts_km\tDistance to power station\r\n",
      "big_market_km\tDistance to grocery / wholesale markets\r\n",
      "market_shop_km\tDistance to markets and department stores\r\n",
      "fitness_km\tDistance to fitness\r\n",
      "swim_pool_km\tDistance to swimming pool\r\n",
      "ice_rink_km\tDistance to ice palace\r\n",
      "stadium_km\tDistance to stadium\r\n",
      "basketball_km\tDistance to the basketball courts\r\n",
      "hospice_morgue_km\tDistance to hospice/morgue\r\n",
      "detention_facility_km\tDistance to detention facility\r\n",
      "public_healthcare_km\tDistance to public healthcare\r\n",
      "university_km\tDistance to universities\r\n",
      "workplaces_km\tDistance to workplaces\r\n",
      "shopping_centers_km\tDistance to shopping centers\r\n",
      "office_km\tDistance to business centers/ offices\r\n",
      "additional_education_km\tDistance to additional education\r\n",
      "preschool_km\tDistance to preschool education organizations\r\n",
      "big_church_km\tDistance to large church\r\n",
      "church_synagogue_km\tDistance to Christian chirches and Synagogues\r\n",
      "mosque_km\tDistance to mosques\r\n",
      "theater_km\tDistance to theater\r\n",
      "museum_km\tDistance to museums\r\n",
      "exhibition_km\tDistance to exhibition\r\n",
      "catering_km\tDistance to catering\r\n",
      "ecology\tEcological zone where the house is located\r\n",
      "green_part_500\tThe share of green zones in 500 meters zone\r\n",
      "prom_part_500\tThe share of industrial zones in 500 meters zone\r\n",
      "office_count_500\tThe number of office space in 500 meters zone\r\n",
      "office_sqm_500\tThe square of office space in 500 meters zone\r\n",
      "trc_count_500\tThe number of shopping malls in 500 meters zone\r\n",
      "trc_sqm_500\tThe square of shopping malls in 500 meters zone\r\n",
      "cafe_count_500\tThe number of cafes or restaurants in 500 meters zone\r\n",
      "cafe_sum_500_min_price_avg\tCafes and restaurant min average bill in 500 meters zone\r\n",
      "cafe_sum_500_max_price_avg\tCafes and restaurant max average bill in 500 meters zone\r\n",
      "cafe_avg_price_500\tCafes and restaurant average bill in 500 meters zone\r\n",
      "cafe_count_500_na_price\tCafes and restaurant bill N/A in 500 meters zone\r\n",
      "cafe_count_500_price_500\tCafes and restaurant bill, average under 500 in 500 meters zone\r\n",
      "cafe_count_500_price_1000\tCafes and restaurant bill, average  500-1000 in 500 meters zone\r\n",
      "cafe_count_500_price_1500\tCafes and restaurant bill, average  1000-1500 in 500 meters zone\r\n",
      "cafe_count_500_price_2500\tCafes and restaurant bill, average  1500-2500 in 500 meters zone\r\n",
      "cafe_count_500_price_4000\tCafes and restaurant bill, average  2500-4000 in 500 meters zone\r\n",
      "cafe_count_500_price_high\tCafes and restaurant bill, average  over 4000 in 500 meters zone\r\n",
      "big_church_count_500\tThe number of big churchs in 500 meters zone\r\n",
      "church_count_500\tThe number of churchs in 500 meters zone\r\n",
      "mosque_count_500\tThe number of mosques in 500 meters zone\r\n",
      "leisure_count_500\tThe number of leisure facilities in 500 meters zone\r\n",
      "sport_count_500\tThe number of sport facilities in 500 meters zone\r\n",
      "market_count_500\tThe number of markets in 500 meters zone\r\n",
      "green_part_1000\tThe share of green zones in 1000 meters zone\r\n",
      "prom_part_1000\tThe share of industrial zones in 1000 meters zone\r\n",
      "office_count_1000\tThe number of office space in 1000 meters zone\r\n",
      "office_sqm_1000\tThe square of office space in 1000 meters zone\r\n",
      "trc_count_1000\tThe number of shopping malls in 1000 meters zone\r\n",
      "trc_sqm_1000\tThe square of shopping malls in 1000 meters zone\r\n",
      "cafe_count_1000\tThe number of cafes or restaurants in 1000 meters zone\r\n",
      "cafe_sum_1000_min_price_avg\tCafes and restaurant min average bill in 1000 meters zone\r\n",
      "cafe_sum_1000_max_price_avg\tCafes and restaurant max average bill in 1000 meters zone\r\n",
      "cafe_avg_price_1000\tCafes and restaurant average bill in 1000 meters zone\r\n",
      "cafe_count_1000_na_price\tCafes and restaurant bill N/A in 1000 meters zone\r\n",
      "cafe_count_1000_price_500\tCafes and restaurant bill, average under 500 in 1000 meters zone\r\n",
      "cafe_count_1000_price_1000\tCafes and restaurant bill, average  500-1000 in 1000 meters zone\r\n",
      "cafe_count_1000_price_1500\tCafes and restaurant bill, average  1000-1500 in 1000 meters zone\r\n",
      "cafe_count_1000_price_2500\tCafes and restaurant bill, average  1500-2500 in 1000 meters zone\r\n",
      "cafe_count_1000_price_4000\tCafes and restaurant bill, average  2500-4000 in 1000 meters zone\r\n",
      "cafe_count_1000_price_high\tCafes and restaurant bill, average  over 4000 in 1000 meters zone\r\n",
      "big_church_count_1000\tThe number of big churchs in 1000 meters zone\r\n",
      "church_count_1000\tThe number of churchs in 1000 meters zone\r\n",
      "mosque_count_1000\tThe number of mosques in 1000 meters zone\r\n",
      "leisure_count_1000\tThe number of leisure facilities in 1000 meters zone\r\n",
      "sport_count_1000\tThe number of sport facilities in 1000 meters zone\r\n",
      "market_count_1000\tThe number of markets in 1000 meters zone\r\n",
      "green_part_1500\tThe share of green zones in 1500 meters zone\r\n",
      "prom_part_1500\tThe share of industrial zones in 1500 meters zone\r\n",
      "office_count_1500\tThe number of office space in 1500 meters zone\r\n",
      "office_sqm_1500\tThe square of office space in 1500 meters zone\r\n",
      "trc_count_1500\tThe number of shopping malls in 1500 meters zone\r\n",
      "trc_sqm_1500\tThe square of shopping malls in 1500 meters zone\r\n",
      "cafe_count_1500\tThe number of cafes or restaurants in 1500 meters zone\r\n",
      "cafe_sum_1500_min_price_avg\tCafes and restaurant min average bill in 1500 meters zone\r\n",
      "cafe_sum_1500_max_price_avg\tCafes and restaurant max average bill in 1500 meters zone\r\n",
      "cafe_avg_price_1500\tCafes and restaurant average bill in 1500 meters zone\r\n",
      "cafe_count_1500_na_price\tCafes and restaurant bill N/A in 1500 meters zone\r\n",
      "cafe_count_1500_price_500\tCafes and restaurant bill, average under 500 in 1500 meters zone\r\n",
      "cafe_count_1500_price_1000\tCafes and restaurant bill, average  500-1000 in 1500 meters zone\r\n",
      "cafe_count_1500_price_1500\tCafes and restaurant bill, average  1000-1500 in 1500 meters zone\r\n",
      "cafe_count_1500_price_2500\tCafes and restaurant bill, average  1500-2500 in 1500 meters zone\r\n",
      "cafe_count_1500_price_4000\tCafes and restaurant bill, average  2500-4000 in 1500 meters zone\r\n",
      "cafe_count_1500_price_high\tCafes and restaurant bill, average  over 4000 in 1500 meters zone\r\n",
      "big_church_count_1500\tThe number of big churchs in 1500 meters zone\r\n",
      "church_count_1500\tThe number of churchs in 1500 meters zone\r\n",
      "mosque_count_1500\tThe number of mosques in 1500 meters zone\r\n",
      "leisure_count_1500\tThe number of leisure facilities in 1500 meters zone\r\n",
      "sport_count_1500\tThe number of sport facilities in 1500 meters zone\r\n",
      "market_count_1500\tThe number of markets in 1500 meters zone\r\n",
      "green_part_2000\tThe share of green zones in 2000 meters zone\r\n",
      "prom_part_2000\tThe share of industrial zones in 2000 meters zone\r\n",
      "office_count_2000\tThe number of office space in 2000 meters zone\r\n",
      "office_sqm_2000\tThe square of office space in 2000 meters zone\r\n",
      "trc_count_2000\tThe number of shopping malls in 2000 meters zone\r\n",
      "trc_sqm_2000\tThe square of shopping malls in 2000 meters zone\r\n",
      "cafe_count_2000\tThe number of cafes or restaurants in 1500 meters zone\r\n",
      "cafe_sum_2000_min_price_avg\tCafes and restaurant min average bill in 2000 meters zone\r\n",
      "cafe_sum_2000_max_price_avg\tCafes and restaurant max average bill in 2000 meters zone\r\n",
      "cafe_avg_price_2000\tCafes and restaurant average bill in 2000 meters zone\r\n",
      "cafe_count_2000_na_price\tCafes and restaurant bill N/A in 2000 meters zone\r\n",
      "cafe_count_2000_price_500\tCafes and restaurant bill, average under 500 in 2000 meters zone\r\n",
      "cafe_count_2000_price_1000\tCafes and restaurant bill, average  500-1000 in 2000 meters zone\r\n",
      "cafe_count_2000_price_1500\tCafes and restaurant bill, average  1000-1500 in 2000 meters zone\r\n",
      "cafe_count_2000_price_2500\tCafes and restaurant bill, average  1500-2500 in 2000 meters zone\r\n",
      "cafe_count_2000_price_4000\tCafes and restaurant bill, average  2500-4000 in 2000 meters zone\r\n",
      "cafe_count_2000_price_high\tCafes and restaurant bill, average  over 4000 in 2000 meters zone\r\n",
      "big_church_count_2000\tThe number of big churchs in 2000 meters zone\r\n",
      "church_count_2000\tThe number of churchs in 2000 meters zone\r\n",
      "mosque_count_2000\tThe number of mosques in 2000 meters zone\r\n",
      "leisure_count_2000\tThe number of leisure facilities in 2000 meters zone\r\n",
      "sport_count_2000\tThe number of sport facilities in 2000 meters zone\r\n",
      "market_count_2000\tThe number of markets in 2000 meters zone\r\n",
      "green_part_3000\tThe share of green zones in 3000 meters zone\r\n",
      "prom_part_3000\tThe share of industrial zones in 3000 meters zone\r\n",
      "office_count_3000\tThe number of office space in 3000 meters zone\r\n",
      "office_sqm_3000\tThe square of office space in 3000 meters zone\r\n",
      "trc_count_3000\tThe number of shopping malls in 3000 meters zone\r\n",
      "trc_sqm_3000\tThe square of shopping malls in 3000 meters zone\r\n",
      "cafe_count_3000\tThe number of cafes or restaurants in 1500 meters zone\r\n",
      "cafe_sum_3000_min_price_avg\tCafes and restaurant min average bill in 3000 meters zone\r\n",
      "cafe_sum_3000_max_price_avg\tCafes and restaurant max average bill in 3000 meters zone\r\n",
      "cafe_avg_price_3000\tCafes and restaurant average bill in 3000 meters zone\r\n",
      "cafe_count_3000_na_price\tCafes and restaurant bill N/A in 3000 meters zone\r\n",
      "cafe_count_3000_price_500\tCafes and restaurant bill, average under 500 in 3000 meters zone\r\n",
      "cafe_count_3000_price_1000\tCafes and restaurant bill, average  500-1000 in 3000 meters zone\r\n",
      "cafe_count_3000_price_1500\tCafes and restaurant bill, average  1000-1500 in 3000 meters zone\r\n",
      "cafe_count_3000_price_2500\tCafes and restaurant bill, average  1500-2500 in 3000 meters zone\r\n",
      "cafe_count_3000_price_4000\tCafes and restaurant bill, average  2500-4000 in 3000 meters zone\r\n",
      "cafe_count_3000_price_high\tCafes and restaurant bill, average  over 4000 in 3000 meters zone\r\n",
      "big_church_count_3000\tThe number of big churchs in 3000 meters zone\r\n",
      "church_count_3000\tThe number of churchs in 3000 meters zone\r\n",
      "mosque_count_3000\tThe number of mosques in 3000 meters zone\r\n",
      "leisure_count_3000\tThe number of leisure facilities in 3000 meters zone\r\n",
      "sport_count_3000\tThe number of sport facilities in 3000 meters zone\r\n",
      "market_count_3000\tThe number of markets in 3000 meters zone\r\n",
      "green_part_5000\tThe share of green zones in 5000 meters zone\r\n",
      "prom_part_5000\tThe share of industrial zones in 5000 meters zone\r\n",
      "office_count_5000\tThe number of office space in 5000 meters zone\r\n",
      "office_sqm_5000\tThe square of office space in 5000 meters zone\r\n",
      "trc_count_5000\tThe number of shopping malls in 5000 meters zone\r\n",
      "trc_sqm_5000\tThe square of shopping malls in 5000 meters zone\r\n",
      "cafe_count_5000\tThe number of cafes or restaurants in 1500 meters zone\r\n",
      "cafe_sum_5000_min_price_avg\tCafes and restaurant min average bill in 5000 meters zone\r\n",
      "cafe_sum_5000_max_price_avg\tCafes and restaurant max average bill in 5000 meters zone\r\n",
      "cafe_avg_price_5000\tCafes and restaurant average bill in 5000 meters zone\r\n",
      "cafe_count_5000_na_price\tCafes and restaurant bill N/A in 5000 meters zone\r\n",
      "cafe_count_5000_price_500\tCafes and restaurant bill, average under 500 in 5000 meters zone\r\n",
      "cafe_count_5000_price_1000\tCafes and restaurant bill, average  500-1000 in 5000 meters zone\r\n",
      "cafe_count_5000_price_1500\tCafes and restaurant bill, average  1000-1500 in 5000 meters zone\r\n",
      "cafe_count_5000_price_2500\tCafes and restaurant bill, average  1500-2500 in 5000 meters zone\r\n",
      "cafe_count_5000_price_4000\tCafes and restaurant bill, average  2500-4000 in 5000 meters zone\r\n",
      "cafe_count_5000_price_high\tCafes and restaurant bill, average  over 4000 in 5000 meters zone\r\n",
      "big_church_count_5000\tThe number of big churchs in 5000 meters zone\r\n",
      "church_count_5000\tThe number of churchs in 5000 meters zone\r\n",
      "mosque_count_5000\tThe number of mosques in 5000 meters zone\r\n",
      "leisure_count_5000\tThe number of leisure facilities in 5000 meters zone\r\n",
      "sport_count_5000\tThe number of sport facilities in 5000 meters zone\r\n",
      "market_count_5000\tThe number of markets in 5000 meters zone\r\n"
     ]
    }
   ],
   "source": [
    "!cat data/data_dictionary_sber.txt"
   ]
  },
  {
   "cell_type": "code",
   "execution_count": 64,
   "metadata": {
    "scrolled": true
   },
   "outputs": [
    {
     "name": "stdout",
     "output_type": "stream",
     "text": [
      "amazon_cells_labelled.txt  data_y.csv\t      macro.csv\r\n",
      "data_dictionary_sber.txt   descr.txt\t      train.csv\r\n",
      "data_x.csv\t\t   imdb_labelled.txt  yelp_labelled.txt\r\n"
     ]
    }
   ],
   "source": [
    "!ls data/"
   ]
  },
  {
   "cell_type": "code",
   "execution_count": 65,
   "metadata": {},
   "outputs": [],
   "source": [
    "#!unzip data/train_sber.csv.zip -y\n",
    "df = pd.read_csv('./data/train.csv')"
   ]
  },
  {
   "cell_type": "code",
   "execution_count": 66,
   "metadata": {},
   "outputs": [
    {
     "data": {
      "text/plain": [
       "(30471, 292)"
      ]
     },
     "execution_count": 66,
     "metadata": {},
     "output_type": "execute_result"
    }
   ],
   "source": [
    "df.shape"
   ]
  },
  {
   "cell_type": "code",
   "execution_count": 67,
   "metadata": {},
   "outputs": [],
   "source": [
    "df = pd.read_csv('./data/train.csv')"
   ]
  },
  {
   "cell_type": "code",
   "execution_count": 68,
   "metadata": {
    "scrolled": true
   },
   "outputs": [
    {
     "data": {
      "text/plain": [
       "hospital_beds_raion                      0.473926\n",
       "build_year                               0.446490\n",
       "state                                    0.444980\n",
       "cafe_avg_price_500                       0.435857\n",
       "cafe_sum_500_max_price_avg               0.435857\n",
       "cafe_sum_500_min_price_avg               0.435857\n",
       "max_floor                                0.314135\n",
       "material                                 0.314135\n",
       "num_room                                 0.314135\n",
       "kitch_sq                                 0.314135\n",
       "preschool_quota                          0.219487\n",
       "school_quota                             0.219389\n",
       "cafe_sum_1000_min_price_avg              0.214105\n",
       "cafe_sum_1000_max_price_avg              0.214105\n",
       "cafe_avg_price_1000                      0.214105\n",
       "life_sq                                  0.209478\n",
       "build_count_frame                        0.163795\n",
       "build_count_1971-1995                    0.163795\n",
       "build_count_block                        0.163795\n",
       "raion_build_count_with_material_info     0.163795\n",
       "build_count_after_1995                   0.163795\n",
       "build_count_brick                        0.163795\n",
       "build_count_wood                         0.163795\n",
       "build_count_mix                          0.163795\n",
       "build_count_1921-1945                    0.163795\n",
       "build_count_panel                        0.163795\n",
       "build_count_foam                         0.163795\n",
       "build_count_slag                         0.163795\n",
       "raion_build_count_with_builddate_info    0.163795\n",
       "build_count_monolith                     0.163795\n",
       "                                           ...   \n",
       "cafe_count_1500_na_price                 0.000000\n",
       "cafe_count_1500                          0.000000\n",
       "trc_sqm_1500                             0.000000\n",
       "trc_count_1500                           0.000000\n",
       "office_sqm_1500                          0.000000\n",
       "office_count_1500                        0.000000\n",
       "prom_part_1500                           0.000000\n",
       "green_part_1500                          0.000000\n",
       "market_count_1000                        0.000000\n",
       "sport_count_1000                         0.000000\n",
       "leisure_count_1000                       0.000000\n",
       "mosque_count_1000                        0.000000\n",
       "church_count_1000                        0.000000\n",
       "cafe_count_1000_price_high               0.000000\n",
       "sport_count_500                          0.000000\n",
       "cafe_count_1000_price_4000               0.000000\n",
       "cafe_count_1000_price_2500               0.000000\n",
       "cafe_count_1000_price_1500               0.000000\n",
       "cafe_count_1000_price_1000               0.000000\n",
       "cafe_count_1000_price_500                0.000000\n",
       "cafe_count_1000_na_price                 0.000000\n",
       "cafe_count_1000                          0.000000\n",
       "trc_sqm_1000                             0.000000\n",
       "trc_count_1000                           0.000000\n",
       "office_sqm_1000                          0.000000\n",
       "office_count_1000                        0.000000\n",
       "prom_part_1000                           0.000000\n",
       "green_part_1000                          0.000000\n",
       "market_count_500                         0.000000\n",
       "id                                       0.000000\n",
       "Length: 292, dtype: float64"
      ]
     },
     "execution_count": 68,
     "metadata": {},
     "output_type": "execute_result"
    }
   ],
   "source": [
    "df.isnull().mean().T.sort_values(ascending=False)"
   ]
  },
  {
   "cell_type": "code",
   "execution_count": 69,
   "metadata": {},
   "outputs": [
    {
     "data": {
      "text/plain": [
       "<matplotlib.axes._subplots.AxesSubplot at 0x7efbb7438f98>"
      ]
     },
     "execution_count": 69,
     "metadata": {},
     "output_type": "execute_result"
    },
    {
     "data": {
      "image/png": "[encoded data removed]",
      "text/plain": [
       "<matplotlib.figure.Figure at 0x7efbb80acf60>"
      ]
     },
     "metadata": {},
     "output_type": "display_data"
    }
   ],
   "source": [
    "msno.matrix(df, sort='ascending')"
   ]
  },
  {
   "cell_type": "code",
   "execution_count": 70,
   "metadata": {
    "scrolled": true
   },
   "outputs": [
    {
     "data": {
      "text/plain": [
       "<matplotlib.axes._subplots.AxesSubplot at 0x7efbb7b209e8>"
      ]
     },
     "execution_count": 70,
     "metadata": {},
     "output_type": "execute_result"
    },
    {
     "data": {
      "image/png": "[encoded data removed]",
      "text/plain": [
       "<matplotlib.figure.Figure at 0x7efbb7b19358>"
      ]
     },
     "metadata": {},
     "output_type": "display_data"
    }
   ],
   "source": [
    "msno.matrix(df.iloc[:, :10], sort='ascending')"
   ]
  },
  {
   "cell_type": "code",
   "execution_count": null,
   "metadata": {},
   "outputs": [],
   "source": [
    "msno.dendrogram(df)"
   ]
  },
  {
   "cell_type": "markdown",
   "metadata": {},
   "source": [
    "## Наиболее распространенные способы работы с пропусками"
   ]
  },
  {
   "cell_type": "markdown",
   "metadata": {},
   "source": [
    "* Замена средним (медианой, модой) по признаку\n",
    "* К-ближайших соседей\n",
    "* Модельный подход\n",
    "\n",
    "\n",
    "* Некоторые алгоритмы нормально относятся к пропущенным значениям\n",
    "    * Алгоритмы, основанные на деревьях\n",
    "   \n"
   ]
  },
  {
   "cell_type": "code",
   "execution_count": 75,
   "metadata": {},
   "outputs": [],
   "source": [
    "from sklearn.base import BaseEstimator, TransformerMixin"
   ]
  },
  {
   "cell_type": "code",
   "execution_count": 76,
   "metadata": {},
   "outputs": [],
   "source": [
    "class ZeroImputer(BaseEstimator, TransformerMixin):\n",
    "    \"\"\"\n",
    "    заполняет нулями выборку\n",
    "    \"\"\"\n",
    "    def fit(self, X, y=None):\n",
    "        return self\n",
    "\n",
    "    def transform(self, X):\n",
    "        idx = np.isnan(X)\n",
    "        X[idx] = 0.0\n",
    "        return X"
   ]
  },
  {
   "cell_type": "code",
   "execution_count": null,
   "metadata": {
    "collapsed": true
   },
   "outputs": [],
   "source": []
  },
  {
   "cell_type": "markdown",
   "metadata": {},
   "source": [
    "# Работа с признаками"
   ]
  },
  {
   "cell_type": "markdown",
   "metadata": {},
   "source": [
    "## Категориальные признаки"
   ]
  },
  {
   "cell_type": "markdown",
   "metadata": {},
   "source": [
    "* Много редких категории\n",
    "* One-hot encoding\n",
    "* Кодирование через другие переменные или данные\n"
   ]
  },
  {
   "cell_type": "code",
   "execution_count": null,
   "metadata": {
    "collapsed": true
   },
   "outputs": [],
   "source": []
  },
  {
   "cell_type": "markdown",
   "metadata": {},
   "source": [
    "## Бинирование признаков"
   ]
  },
  {
   "cell_type": "markdown",
   "metadata": {},
   "source": [
    "Вот так (примерно) выглядит скор-карта на выдачу кредита"
   ]
  },
  {
   "cell_type": "markdown",
   "metadata": {},
   "source": [
    "<img src='https://www.mathworks.com/help/finance/credit_score_card_overview.png'>"
   ]
  },
  {
   "cell_type": "markdown",
   "metadata": {},
   "source": [
    "Каждый \"признак\" разбит на бины (bins) - значимые интервалы. Если значение признака попадает в интервал, то к скору заемщика прибавляется сооветвтвующая величина."
   ]
  },
  {
   "cell_type": "markdown",
   "metadata": {},
   "source": [
    "* Как бы вы реализовали биннинг?\n",
    "* Библиотечка на R - [smbinning](http://blog.revolutionanalytics.com/2015/03/r-package-smbinning-optimal-binning-for-scoring-modeling.html)"
   ]
  },
  {
   "cell_type": "code",
   "execution_count": null,
   "metadata": {
    "collapsed": true
   },
   "outputs": [],
   "source": []
  },
  {
   "cell_type": "markdown",
   "metadata": {},
   "source": [
    "## Feature Selection (для Supervised Models)\n",
    "Методы деляться на следующие группы:\n",
    "* Filter methods \n",
    "    * Признаки рассматриваются независимо друг от друга\n",
    "    * Изучается индивидуальный \"вклад\" призника в предсказываемую переменную\n",
    "    * Быстрое вычисление\n",
    "    * *Пример?*\n",
    "* Wrapper methods\n",
    "    * Идет отбор группы признаков\n",
    "    * Может быть оооочень медленным, но качество, обычно, лучше чем у Filter Methods\n",
    "    * Примеры: Stepwise feature selection for regression, [Boruta Algorithm](https://www.google.ru/url?sa=t&rct=j&q=&esrc=s&source=web&cd=2&ved=0ahUKEwif5biy-fTWAhXkYJoKHbdxCLAQFgg2MAE&url=https%3A%2F%2Fwww.jstatsoft.org%2Farticle%2Fview%2Fv036i11%2Fv36i11.pdf&usg=AOvVaw3tyiHN0BCe2fkkAA6xEVDE)\n",
    "* Embedded methods\n",
    "    * Отбор признаков \"зашит\" в модель\n",
    "\n",
    "#### Filter method - Mutual Information\n",
    "Пусть $X$ - категориальный признак, $Y$ - целевой признак (метка класса)\n",
    "$$MI(Y, X) = \\sum_{x,y} p(x,y) \\ln\\left[\\frac{p(x,y)}{p(x)p(y)}\\right]$$\n",
    "Сколько информации $x$ сообщает об $y$.\n",
    "\n",
    "#### Filter method - Information Value, Weight Of Evidence\n",
    "$$IV(Y,X) = \\sum_{x} \\left(p(y=1|x) - p(y=0|x)\\right)\\ln\\frac{p(y=1|x)}{p(y=0|x)} $$\n",
    "\n",
    "<img src='img/iv-sample.png'>"
   ]
  },
  {
   "cell_type": "markdown",
   "metadata": {},
   "source": [
    "#### Wrapper methods\n",
    "Recursive Feature Elimination"
   ]
  },
  {
   "cell_type": "code",
   "execution_count": null,
   "metadata": {
    "collapsed": true
   },
   "outputs": [],
   "source": [
    "from sklearn.feature_selection import RFECV"
   ]
  },
  {
   "cell_type": "code",
   "execution_count": null,
   "metadata": {
    "scrolled": true
   },
   "outputs": [],
   "source": [
    "df_data, features = load_otp()"
   ]
  },
  {
   "cell_type": "code",
   "execution_count": null,
   "metadata": {
    "collapsed": true
   },
   "outputs": [],
   "source": [
    "X = df_data.iloc[:, :-1].values\n",
    "y = df_data.iloc[:, -1].values"
   ]
  },
  {
   "cell_type": "code",
   "execution_count": null,
   "metadata": {
    "collapsed": true
   },
   "outputs": [],
   "source": [
    "cv = StratifiedKFold(5, shuffle=True, random_state=123)"
   ]
  },
  {
   "cell_type": "code",
   "execution_count": null,
   "metadata": {
    "collapsed": true
   },
   "outputs": [],
   "source": [
    "pipeline = Pipeline([\n",
    "    ('imputer', Imputer(strategy='median')),\n",
    "    ('scaller', StandardScaler()),\n",
    "    ('clf', RFECV(LogisticRegression(class_weight='balanced'), \n",
    "                  verbose=2, cv=cv, scoring=pr_auc, n_jobs=1))\n",
    "])\n"
   ]
  },
  {
   "cell_type": "code",
   "execution_count": null,
   "metadata": {
    "scrolled": true
   },
   "outputs": [],
   "source": [
    "pipeline.fit(X, y)"
   ]
  },
  {
   "cell_type": "markdown",
   "metadata": {},
   "source": [
    "#### Embedded methods\n",
    "* Feature importance у деревьев решений\n",
    "* L1 регуляризация у линейной и логистической регрессии"
   ]
  },
  {
   "cell_type": "code",
   "execution_count": null,
   "metadata": {
    "collapsed": true
   },
   "outputs": [],
   "source": []
  },
  {
   "cell_type": "markdown",
   "metadata": {},
   "source": [
    "## CountVectorizer и TF-IDF"
   ]
  },
  {
   "cell_type": "markdown",
   "metadata": {},
   "source": [
    "### Анализ тональности"
   ]
  },
  {
   "cell_type": "markdown",
   "metadata": {},
   "source": [
    "#### Загрузите текстовые данные [отсюда](https://archive.ics.uci.edu/ml/machine-learning-databases/00331/). Архив должен содержать 3 файла с положительными и отрицательными отзывами с ресурсов\n",
    "* imdb.com\n",
    "* amazon.com\n",
    "* yelp.com\n",
    "\n",
    "Формат файла следующий:\n",
    "<отзыв>\\t<метка>\\n\n",
    "\n",
    "\n",
    "#### Задача\n",
    "1. Загрузите тексты и метки классов в разные переменные\n",
    "2. Выберите меру качества классификации\n",
    "3. Обучите логистическую (без подбора гиперпараметров). Тексты представляются в виде мешка слов\n",
    "4. Выведите наиболее значимые слова из текста"
   ]
  },
  {
   "cell_type": "code",
   "execution_count": 78,
   "metadata": {
    "scrolled": false
   },
   "outputs": [
    {
     "data": {
      "text/html": [
       "<div>\n",
       "<style scoped>\n",
       "    .dataframe tbody tr th:only-of-type {\n",
       "        vertical-align: middle;\n",
       "    }\n",
       "\n",
       "    .dataframe tbody tr th {\n",
       "        vertical-align: top;\n",
       "    }\n",
       "\n",
       "    .dataframe thead th {\n",
       "        text-align: right;\n",
       "    }\n",
       "</style>\n",
       "<table border=\"1\" class=\"dataframe\">\n",
       "  <thead>\n",
       "    <tr style=\"text-align: right;\">\n",
       "      <th></th>\n",
       "      <th>text</th>\n",
       "      <th>label</th>\n",
       "    </tr>\n",
       "  </thead>\n",
       "  <tbody>\n",
       "    <tr>\n",
       "      <th>0</th>\n",
       "      <td>So there is no way for me to plug it in here i...</td>\n",
       "      <td>0</td>\n",
       "    </tr>\n",
       "    <tr>\n",
       "      <th>1</th>\n",
       "      <td>Good case, Excellent value.</td>\n",
       "      <td>1</td>\n",
       "    </tr>\n",
       "    <tr>\n",
       "      <th>2</th>\n",
       "      <td>Great for the jawbone.</td>\n",
       "      <td>1</td>\n",
       "    </tr>\n",
       "    <tr>\n",
       "      <th>3</th>\n",
       "      <td>Tied to charger for conversations lasting more...</td>\n",
       "      <td>0</td>\n",
       "    </tr>\n",
       "    <tr>\n",
       "      <th>4</th>\n",
       "      <td>The mic is great.</td>\n",
       "      <td>1</td>\n",
       "    </tr>\n",
       "  </tbody>\n",
       "</table>\n",
       "</div>"
      ],
      "text/plain": [
       "                                                text  label\n",
       "0  So there is no way for me to plug it in here i...      0\n",
       "1                        Good case, Excellent value.      1\n",
       "2                             Great for the jawbone.      1\n",
       "3  Tied to charger for conversations lasting more...      0\n",
       "4                                  The mic is great.      1"
      ]
     },
     "execution_count": 78,
     "metadata": {},
     "output_type": "execute_result"
    }
   ],
   "source": [
    "df = pd.read_csv('data/amazon_cells_labelled.txt', sep='\\t', \n",
    "                 header=None, \n",
    "                 names=['text', 'label'])\n",
    "df.head()"
   ]
  },
  {
   "cell_type": "code",
   "execution_count": 88,
   "metadata": {},
   "outputs": [],
   "source": [
    "from sklearn.feature_extraction.text import CountVectorizer\n",
    "# может со словами, и токенами - не делимая единца слова, символы, N-граммы слов последовательность токенов\n",
    "from sklearn.feature_extraction.text import TfidfVectorizer\n",
    "#"
   ]
  },
  {
   "cell_type": "code",
   "execution_count": 89,
   "metadata": {},
   "outputs": [],
   "source": [
    "model = Pipeline([\n",
    "    ('vect', CountVectorizer(stop_words='english',\n",
    "                             max_df=0.95, # ограничение сверху , в процентках. Удаляет слова встречающиеся чаще# 100% в каждом документе\n",
    "                             min_df=5 # ограничение снизу, удаляет редкие слова, частота слова  не меньше 5\n",
    "                            )),\n",
    "    ('clf', LogisticRegression())\n",
    "])"
   ]
  },
  {
   "cell_type": "code",
   "execution_count": 90,
   "metadata": {},
   "outputs": [],
   "source": [
    "# TODO watch lection\n",
    "texts = df.text.values"
   ]
  },
  {
   "cell_type": "code",
   "execution_count": null,
   "metadata": {},
   "outputs": [],
   "source": [
    "texts[0:10]"
   ]
  },
  {
   "cell_type": "code",
   "execution_count": null,
   "metadata": {},
   "outputs": [],
   "source": [
    "model.fit()"
   ]
  },
  {
   "cell_type": "code",
   "execution_count": 87,
   "metadata": {},
   "outputs": [
    {
     "ename": "NotFittedError",
     "evalue": "CountVectorizer - Vocabulary wasn't fitted.",
     "output_type": "error",
     "traceback": [
      "\u001b[0;31m---------------------------------------------------------------------------\u001b[0m",
      "\u001b[0;31mNotFittedError\u001b[0m                            Traceback (most recent call last)",
      "\u001b[0;32m<ipython-input-87-049a76fc78ff>\u001b[0m in \u001b[0;36m<module>\u001b[0;34m()\u001b[0m\n\u001b[0;32m----> 1\u001b[0;31m \u001b[0mwords\u001b[0m \u001b[0;34m=\u001b[0m \u001b[0mmodel\u001b[0m\u001b[0;34m.\u001b[0m\u001b[0msteps\u001b[0m\u001b[0;34m[\u001b[0m\u001b[0;36m0\u001b[0m\u001b[0;34m]\u001b[0m\u001b[0;34m[\u001b[0m\u001b[0;36m1\u001b[0m\u001b[0;34m]\u001b[0m\u001b[0;34m.\u001b[0m\u001b[0mget_feature_names\u001b[0m\u001b[0;34m(\u001b[0m\u001b[0;34m)\u001b[0m\u001b[0;34m\u001b[0m\u001b[0m\n\u001b[0m",
      "\u001b[0;32m~/zwork/venv/lib/python3.6/site-packages/sklearn/feature_extraction/text.py\u001b[0m in \u001b[0;36mget_feature_names\u001b[0;34m(self)\u001b[0m\n\u001b[1;32m    958\u001b[0m     \u001b[0;32mdef\u001b[0m \u001b[0mget_feature_names\u001b[0m\u001b[0;34m(\u001b[0m\u001b[0mself\u001b[0m\u001b[0;34m)\u001b[0m\u001b[0;34m:\u001b[0m\u001b[0;34m\u001b[0m\u001b[0m\n\u001b[1;32m    959\u001b[0m         \u001b[0;34m\"\"\"Array mapping from feature integer indices to feature name\"\"\"\u001b[0m\u001b[0;34m\u001b[0m\u001b[0m\n\u001b[0;32m--> 960\u001b[0;31m         \u001b[0mself\u001b[0m\u001b[0;34m.\u001b[0m\u001b[0m_check_vocabulary\u001b[0m\u001b[0;34m(\u001b[0m\u001b[0;34m)\u001b[0m\u001b[0;34m\u001b[0m\u001b[0m\n\u001b[0m\u001b[1;32m    961\u001b[0m \u001b[0;34m\u001b[0m\u001b[0m\n\u001b[1;32m    962\u001b[0m         return [t for t, i in sorted(six.iteritems(self.vocabulary_),\n",
      "\u001b[0;32m~/zwork/venv/lib/python3.6/site-packages/sklearn/feature_extraction/text.py\u001b[0m in \u001b[0;36m_check_vocabulary\u001b[0;34m(self)\u001b[0m\n\u001b[1;32m    301\u001b[0m         \u001b[0;34m\"\"\"Check if vocabulary is empty or missing (not fit-ed)\"\"\"\u001b[0m\u001b[0;34m\u001b[0m\u001b[0m\n\u001b[1;32m    302\u001b[0m         \u001b[0mmsg\u001b[0m \u001b[0;34m=\u001b[0m \u001b[0;34m\"%(name)s - Vocabulary wasn't fitted.\"\u001b[0m\u001b[0;34m\u001b[0m\u001b[0m\n\u001b[0;32m--> 303\u001b[0;31m         \u001b[0mcheck_is_fitted\u001b[0m\u001b[0;34m(\u001b[0m\u001b[0mself\u001b[0m\u001b[0;34m,\u001b[0m \u001b[0;34m'vocabulary_'\u001b[0m\u001b[0;34m,\u001b[0m \u001b[0mmsg\u001b[0m\u001b[0;34m=\u001b[0m\u001b[0mmsg\u001b[0m\u001b[0;34m)\u001b[0m\u001b[0;34m,\u001b[0m\u001b[0;34m\u001b[0m\u001b[0m\n\u001b[0m\u001b[1;32m    304\u001b[0m \u001b[0;34m\u001b[0m\u001b[0m\n\u001b[1;32m    305\u001b[0m         \u001b[0;32mif\u001b[0m \u001b[0mlen\u001b[0m\u001b[0;34m(\u001b[0m\u001b[0mself\u001b[0m\u001b[0;34m.\u001b[0m\u001b[0mvocabulary_\u001b[0m\u001b[0;34m)\u001b[0m \u001b[0;34m==\u001b[0m \u001b[0;36m0\u001b[0m\u001b[0;34m:\u001b[0m\u001b[0;34m\u001b[0m\u001b[0m\n",
      "\u001b[0;32m~/zwork/venv/lib/python3.6/site-packages/sklearn/utils/validation.py\u001b[0m in \u001b[0;36mcheck_is_fitted\u001b[0;34m(estimator, attributes, msg, all_or_any)\u001b[0m\n\u001b[1;32m    766\u001b[0m \u001b[0;34m\u001b[0m\u001b[0m\n\u001b[1;32m    767\u001b[0m     \u001b[0;32mif\u001b[0m \u001b[0;32mnot\u001b[0m \u001b[0mall_or_any\u001b[0m\u001b[0;34m(\u001b[0m\u001b[0;34m[\u001b[0m\u001b[0mhasattr\u001b[0m\u001b[0;34m(\u001b[0m\u001b[0mestimator\u001b[0m\u001b[0;34m,\u001b[0m \u001b[0mattr\u001b[0m\u001b[0;34m)\u001b[0m \u001b[0;32mfor\u001b[0m \u001b[0mattr\u001b[0m \u001b[0;32min\u001b[0m \u001b[0mattributes\u001b[0m\u001b[0;34m]\u001b[0m\u001b[0;34m)\u001b[0m\u001b[0;34m:\u001b[0m\u001b[0;34m\u001b[0m\u001b[0m\n\u001b[0;32m--> 768\u001b[0;31m         \u001b[0;32mraise\u001b[0m \u001b[0mNotFittedError\u001b[0m\u001b[0;34m(\u001b[0m\u001b[0mmsg\u001b[0m \u001b[0;34m%\u001b[0m \u001b[0;34m{\u001b[0m\u001b[0;34m'name'\u001b[0m\u001b[0;34m:\u001b[0m \u001b[0mtype\u001b[0m\u001b[0;34m(\u001b[0m\u001b[0mestimator\u001b[0m\u001b[0;34m)\u001b[0m\u001b[0;34m.\u001b[0m\u001b[0m__name__\u001b[0m\u001b[0;34m}\u001b[0m\u001b[0;34m)\u001b[0m\u001b[0;34m\u001b[0m\u001b[0m\n\u001b[0m\u001b[1;32m    769\u001b[0m \u001b[0;34m\u001b[0m\u001b[0m\n\u001b[1;32m    770\u001b[0m \u001b[0;34m\u001b[0m\u001b[0m\n",
      "\u001b[0;31mNotFittedError\u001b[0m: CountVectorizer - Vocabulary wasn't fitted."
     ]
    }
   ],
   "source": [
    "words = model.steps[0][1].get_feature_names()"
   ]
  },
  {
   "cell_type": "code",
   "execution_count": null,
   "metadata": {},
   "outputs": [],
   "source": []
  },
  {
   "cell_type": "code",
   "execution_count": 84,
   "metadata": {},
   "outputs": [
    {
     "ename": "NameError",
     "evalue": "name 'texts' is not defined",
     "output_type": "error",
     "traceback": [
      "\u001b[0;31m---------------------------------------------------------------------------\u001b[0m",
      "\u001b[0;31mNameError\u001b[0m                                 Traceback (most recent call last)",
      "\u001b[0;32m<ipython-input-84-bbf6985b1629>\u001b[0m in \u001b[0;36m<module>\u001b[0;34m()\u001b[0m\n\u001b[0;32m----> 1\u001b[0;31m \u001b[0mX\u001b[0m \u001b[0;34m=\u001b[0m \u001b[0mmodel\u001b[0m\u001b[0;34m.\u001b[0m\u001b[0msteps\u001b[0m\u001b[0;34m[\u001b[0m\u001b[0;36m0\u001b[0m\u001b[0;34m]\u001b[0m\u001b[0;34m[\u001b[0m\u001b[0;36m1\u001b[0m\u001b[0;34m]\u001b[0m\u001b[0;34m.\u001b[0m\u001b[0mtransform\u001b[0m\u001b[0;34m(\u001b[0m\u001b[0mtexts\u001b[0m\u001b[0;34m)\u001b[0m\u001b[0;34m\u001b[0m\u001b[0m\n\u001b[0m",
      "\u001b[0;31mNameError\u001b[0m: name 'texts' is not defined"
     ]
    }
   ],
   "source": [
    "X = model.steps[0][1].transform(texts)"
   ]
  },
  {
   "cell_type": "code",
   "execution_count": null,
   "metadata": {},
   "outputs": [],
   "source": [
    "pd.Series(index=words, data=coefs)"
   ]
  },
  {
   "cell_type": "code",
   "execution_count": null,
   "metadata": {},
   "outputs": [],
   "source": [
    "y_hat = model.predict_proba(texts)"
   ]
  },
  {
   "cell_type": "code",
   "execution_count": null,
   "metadata": {},
   "outputs": [],
   "source": [
    "plt.hist(y_hat[:,1])"
   ]
  },
  {
   "cell_type": "markdown",
   "metadata": {},
   "source": [
    "TF - > f(w,d) = N(w,d) / N - (чистота слова в документа на количество слов в документе)\n",
    "D - корпус докуметов, d - документ. \n",
    "DF - > f(w,D) =  log(D/N(w,D)) - количество слов во всех документов делённая на чистатоту слов в документах."
   ]
  },
  {
   "cell_type": "markdown",
   "metadata": {},
   "source": [
    "TF;DF -> TfidfVectorizer()"
   ]
  },
  {
   "cell_type": "code",
   "execution_count": null,
   "metadata": {},
   "outputs": [],
   "source": []
  }
 ],
 "metadata": {
  "anaconda-cloud": {},
  "kernelspec": {
   "display_name": "Python 3",
   "language": "python",
   "name": "python3"
  },
  "language_info": {
   "codemirror_mode": {
    "name": "ipython",
    "version": 3
   },
   "file_extension": ".py",
   "mimetype": "text/x-python",
   "name": "python",
   "nbconvert_exporter": "python",
   "pygments_lexer": "ipython3",
   "version": "3.6.3"
  },
  "nav_menu": {},
  "toc": {
   "colors": {
    "hover_highlight": "#DAA520",
    "navigate_num": "#000000",
    "navigate_text": "#333333",
    "running_highlight": "#FF0000",
    "selected_highlight": "#FFD700",
    "sidebar_border": "#EEEEEE",
    "wrapper_background": "#FFFFFF"
   },
   "moveMenuLeft": true,
   "nav_menu": {
    "height": "347px",
    "width": "253px"
   },
   "navigate_menu": true,
   "number_sections": false,
   "sideBar": true,
   "threshold": 4,
   "toc_cell": true,
   "toc_position": {
    "height": "222px",
    "left": "0px",
    "right": "1247.33px",
    "top": "108px",
    "width": "182px"
   },
   "toc_section_display": "block",
   "toc_window_display": true,
   "widenNotebook": false
  },
  "toc_position": {
   "height": "40px",
   "left": "816px",
   "right": "38.6667px",
   "top": "0px",
   "width": "212px"
  }
 },
 "nbformat": 4,
 "nbformat_minor": 1
}
