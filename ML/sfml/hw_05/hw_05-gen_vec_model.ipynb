{
 "cells": [
  {
   "cell_type": "code",
   "execution_count": 1,
   "metadata": {},
   "outputs": [],
   "source": [
    "%matplotlib notebook\n",
    "import matplotlib.pyplot as plt\n",
    "import numpy as np\n",
    "import seaborn as sns\n",
    "import datetime as dt\n",
    "import pandas as pd\n"
   ]
  },
  {
   "cell_type": "code",
   "execution_count": 2,
   "metadata": {},
   "outputs": [],
   "source": [
    "from bs4 import BeautifulSoup"
   ]
  },
  {
   "cell_type": "code",
   "execution_count": 3,
   "metadata": {},
   "outputs": [],
   "source": [
    "from sklearn.feature_extraction.text import CountVectorizer\n",
    "from sklearn.feature_extraction.text import TfidfVectorizer\n",
    "from sklearn.feature_extraction.text import TfidfTransformer\n",
    "from sklearn.linear_model import LogisticRegression\n",
    "from sklearn.model_selection import StratifiedKFold\n",
    "from sklearn.naive_bayes import MultinomialNB\n",
    "from sklearn.model_selection import cross_val_score\n",
    "from sklearn.pipeline import Pipeline, FeatureUnion\n",
    "from sklearn.model_selection import RandomizedSearchCV\n",
    "from sklearn.ensemble import RandomForestClassifier"
   ]
  },
  {
   "cell_type": "code",
   "execution_count": 4,
   "metadata": {},
   "outputs": [],
   "source": [
    "from scipy.stats import randint as sp_randint\n",
    "from time import time\n",
    "from sklearn.feature_extraction.text import TfidfVectorizer\n",
    "from collections import defaultdict"
   ]
  },
  {
   "cell_type": "code",
   "execution_count": 5,
   "metadata": {},
   "outputs": [],
   "source": [
    "# import logging\n",
    "\n",
    "# set up logging to file - see previous section for more details\n",
    "# logging.basicConfig(level=logging.DEBUG,\n",
    "#                     format='%(asctime)s %(name)-12s %(levelname)-8s %(message)s',\n",
    "#                     datefmt='%m-%d %H:%M',\n",
    "#                     filename='./myapp.log',\n",
    "#                     filemode='w')\n",
    "# define a Handler which writes INFO messages or higher to the sys.stderr\n",
    "# console = logging.StreamHandler()\n",
    "# console.setLevel(logging.INFO)\n",
    "# set a format which is simpler for console use\n",
    "# formatter = logging.Formatter('%(name)-12s: %(levelname)-8s %(message)s')\n",
    "# tell the handler to use this format\n",
    "# console.setFormatter(formatter)\n",
    "# add the handler to the root logger\n",
    "# logging.getLogger('').addHandler(console)"
   ]
  },
  {
   "cell_type": "code",
   "execution_count": 6,
   "metadata": {},
   "outputs": [],
   "source": [
    "# отключаем warnings\n",
    "import warnings\n",
    "\n",
    "warnings.filterwarnings('ignore')"
   ]
  },
  {
   "cell_type": "code",
   "execution_count": 7,
   "metadata": {},
   "outputs": [],
   "source": [
    "# logging.info(\"read cvs train.cvs\")\n",
    "df_train_raw = pd.read_csv('data/train.csv', sep='\\t')"
   ]
  },
  {
   "cell_type": "code",
   "execution_count": 8,
   "metadata": {},
   "outputs": [
    {
     "data": {
      "text/html": [
       "<div>\n",
       "<table border=\"1\" class=\"dataframe\">\n",
       "  <thead>\n",
       "    <tr style=\"text-align: right;\">\n",
       "      <th></th>\n",
       "      <th>id</th>\n",
       "      <th>name</th>\n",
       "      <th>description</th>\n",
       "      <th>target</th>\n",
       "    </tr>\n",
       "  </thead>\n",
       "  <tbody>\n",
       "    <tr>\n",
       "      <th>0</th>\n",
       "      <td>0</td>\n",
       "      <td>Заведующий отделом/секцией в магазин YORK (Уру...</td>\n",
       "      <td>&lt;p&gt;&lt;strong&gt;В НОВЫЙ МАГАЗИН YORK (хозтовары) пр...</td>\n",
       "      <td>1</td>\n",
       "    </tr>\n",
       "    <tr>\n",
       "      <th>1</th>\n",
       "      <td>1</td>\n",
       "      <td>Наладчик станков и манипуляторов с ПУ</td>\n",
       "      <td>Обязанности:работа на токарных станках с ЧПУ T...</td>\n",
       "      <td>0</td>\n",
       "    </tr>\n",
       "    <tr>\n",
       "      <th>2</th>\n",
       "      <td>2</td>\n",
       "      <td>Разработчик С++ (Криптограф)</td>\n",
       "      <td>&lt;strong&gt;Требования:&lt;/strong&gt; &lt;ul&gt; &lt;li&gt;Опыт про...</td>\n",
       "      <td>0</td>\n",
       "    </tr>\n",
       "    <tr>\n",
       "      <th>3</th>\n",
       "      <td>3</td>\n",
       "      <td>Фрезеровщик</td>\n",
       "      <td>&lt;p&gt;Условия:&lt;/p&gt; &lt;ul&gt; &lt;li&gt;На работу вахтовым ме...</td>\n",
       "      <td>0</td>\n",
       "    </tr>\n",
       "    <tr>\n",
       "      <th>4</th>\n",
       "      <td>4</td>\n",
       "      <td>Мерчендайзер/продавец-консультант</td>\n",
       "      <td>&lt;p&gt;&lt;strong&gt;Компания Палладиум Стандарт - призн...</td>\n",
       "      <td>1</td>\n",
       "    </tr>\n",
       "  </tbody>\n",
       "</table>\n",
       "</div>"
      ],
      "text/plain": [
       "   id                                               name  \\\n",
       "0   0  Заведующий отделом/секцией в магазин YORK (Уру...   \n",
       "1   1              Наладчик станков и манипуляторов с ПУ   \n",
       "2   2                       Разработчик С++ (Криптограф)   \n",
       "3   3                                        Фрезеровщик   \n",
       "4   4                  Мерчендайзер/продавец-консультант   \n",
       "\n",
       "                                         description  target  \n",
       "0  <p><strong>В НОВЫЙ МАГАЗИН YORK (хозтовары) пр...       1  \n",
       "1  Обязанности:работа на токарных станках с ЧПУ T...       0  \n",
       "2  <strong>Требования:</strong> <ul> <li>Опыт про...       0  \n",
       "3  <p>Условия:</p> <ul> <li>На работу вахтовым ме...       0  \n",
       "4  <p><strong>Компания Палладиум Стандарт - призн...       1  "
      ]
     },
     "execution_count": 8,
     "metadata": {},
     "output_type": "execute_result"
    }
   ],
   "source": [
    "df_train_raw.head()"
   ]
  },
  {
   "cell_type": "code",
   "execution_count": 9,
   "metadata": {},
   "outputs": [
    {
     "data": {
      "text/plain": [
       "(200000, 4)"
      ]
     },
     "execution_count": 9,
     "metadata": {},
     "output_type": "execute_result"
    }
   ],
   "source": [
    "# logging.info(\"train shape is\".format(df_train_raw.shape))\n",
    "df_train_raw.shape"
   ]
  },
  {
   "cell_type": "code",
   "execution_count": 10,
   "metadata": {},
   "outputs": [],
   "source": [
    "# logging.info(\"read cvs test.cvs\")\n",
    "df_test = pd.read_csv('data/test.csv', sep='\\t')"
   ]
  },
  {
   "cell_type": "code",
   "execution_count": 11,
   "metadata": {},
   "outputs": [
    {
     "data": {
      "text/html": [
       "<div>\n",
       "<table border=\"1\" class=\"dataframe\">\n",
       "  <thead>\n",
       "    <tr style=\"text-align: right;\">\n",
       "      <th></th>\n",
       "      <th>id</th>\n",
       "      <th>name</th>\n",
       "      <th>description</th>\n",
       "    </tr>\n",
       "  </thead>\n",
       "  <tbody>\n",
       "    <tr>\n",
       "      <th>0</th>\n",
       "      <td>200000</td>\n",
       "      <td>Дизайнер-консультант мебели</td>\n",
       "      <td>&lt;p&gt;&lt;strong&gt;Обязанности:&lt;/strong&gt;&lt;/p&gt; &lt;ul&gt; &lt;li&gt;...</td>\n",
       "    </tr>\n",
       "    <tr>\n",
       "      <th>1</th>\n",
       "      <td>200001</td>\n",
       "      <td>Продавец-консультант (ТЦ на Пушкина)</td>\n",
       "      <td>&lt;p&gt;&lt;strong&gt;Обязанности&lt;/strong&gt;:&lt;/p&gt; &lt;p&gt;∙ конс...</td>\n",
       "    </tr>\n",
       "    <tr>\n",
       "      <th>2</th>\n",
       "      <td>200002</td>\n",
       "      <td>Менеджер по продажам</td>\n",
       "      <td>&lt;p&gt;Торговый Дом «Форт» это ведущая компания Пе...</td>\n",
       "    </tr>\n",
       "    <tr>\n",
       "      <th>3</th>\n",
       "      <td>200003</td>\n",
       "      <td>Продавец-консультант в магазин одежды (ТЦ Волн...</td>\n",
       "      <td>&lt;p&gt;&lt;strong&gt;Требуются продавцы консультанты в м...</td>\n",
       "    </tr>\n",
       "    <tr>\n",
       "      <th>4</th>\n",
       "      <td>200004</td>\n",
       "      <td>Специалист по охране труда</td>\n",
       "      <td>&lt;strong&gt;Обязанности:&lt;/strong&gt; &lt;ul&gt; &lt;li&gt; &lt;p&gt;осу...</td>\n",
       "    </tr>\n",
       "  </tbody>\n",
       "</table>\n",
       "</div>"
      ],
      "text/plain": [
       "       id                                               name  \\\n",
       "0  200000                        Дизайнер-консультант мебели   \n",
       "1  200001               Продавец-консультант (ТЦ на Пушкина)   \n",
       "2  200002                               Менеджер по продажам   \n",
       "3  200003  Продавец-консультант в магазин одежды (ТЦ Волн...   \n",
       "4  200004                         Специалист по охране труда   \n",
       "\n",
       "                                         description  \n",
       "0  <p><strong>Обязанности:</strong></p> <ul> <li>...  \n",
       "1  <p><strong>Обязанности</strong>:</p> <p>∙ конс...  \n",
       "2  <p>Торговый Дом «Форт» это ведущая компания Пе...  \n",
       "3  <p><strong>Требуются продавцы консультанты в м...  \n",
       "4  <strong>Обязанности:</strong> <ul> <li> <p>осу...  "
      ]
     },
     "execution_count": 11,
     "metadata": {},
     "output_type": "execute_result"
    }
   ],
   "source": [
    "df_test.head()"
   ]
  },
  {
   "cell_type": "code",
   "execution_count": 12,
   "metadata": {},
   "outputs": [
    {
     "data": {
      "text/plain": [
       "(170179, 3)"
      ]
     },
     "execution_count": 12,
     "metadata": {},
     "output_type": "execute_result"
    }
   ],
   "source": [
    "# logging.info(\"shape is {}\".format(df_test.shape))\n",
    "df_test.shape"
   ]
  },
  {
   "cell_type": "code",
   "execution_count": 13,
   "metadata": {},
   "outputs": [],
   "source": [
    "# logging.info(\"read cvs other.cvs\")\n",
    "df_other = pd.read_csv('data/other.csv', sep='\\t')"
   ]
  },
  {
   "cell_type": "code",
   "execution_count": 14,
   "metadata": {},
   "outputs": [
    {
     "data": {
      "text/html": [
       "<div>\n",
       "<table border=\"1\" class=\"dataframe\">\n",
       "  <thead>\n",
       "    <tr style=\"text-align: right;\">\n",
       "      <th></th>\n",
       "      <th>name</th>\n",
       "      <th>description</th>\n",
       "    </tr>\n",
       "  </thead>\n",
       "  <tbody>\n",
       "    <tr>\n",
       "      <th>0</th>\n",
       "      <td>Специалист научно-производственного отдела</td>\n",
       "      <td>&lt;p&gt;Образование - Среднее специальное, высшее&lt;/...</td>\n",
       "    </tr>\n",
       "    <tr>\n",
       "      <th>1</th>\n",
       "      <td>Оператор по отгрузке товара в 1С (ТЗ)</td>\n",
       "      <td>&lt;p&gt;&lt;strong&gt;Обязанности:&lt;/strong&gt;&lt;/p&gt; &lt;ul&gt; &lt;li&gt;...</td>\n",
       "    </tr>\n",
       "    <tr>\n",
       "      <th>2</th>\n",
       "      <td>Менеджер по персоналу</td>\n",
       "      <td>&lt;strong&gt;Обязанности:&lt;/strong&gt; &lt;ul&gt; &lt;li&gt;Подбор ...</td>\n",
       "    </tr>\n",
       "    <tr>\n",
       "      <th>3</th>\n",
       "      <td>Ведущий бухгалтер по учёту заработной платы</td>\n",
       "      <td>&lt;strong&gt;Обязанности:&lt;/strong&gt; &lt;ul&gt; &lt;li&gt; &lt;p&gt;Нач...</td>\n",
       "    </tr>\n",
       "    <tr>\n",
       "      <th>4</th>\n",
       "      <td>Инженер-расчетчик в строительный отдел</td>\n",
       "      <td>&lt;p&gt;&lt;strong&gt;Требования:&lt;/strong&gt;&lt;/p&gt; &lt;ul&gt; &lt;li&gt;у...</td>\n",
       "    </tr>\n",
       "  </tbody>\n",
       "</table>\n",
       "</div>"
      ],
      "text/plain": [
       "                                          name  \\\n",
       "0   Специалист научно-производственного отдела   \n",
       "1        Оператор по отгрузке товара в 1С (ТЗ)   \n",
       "2                        Менеджер по персоналу   \n",
       "3  Ведущий бухгалтер по учёту заработной платы   \n",
       "4       Инженер-расчетчик в строительный отдел   \n",
       "\n",
       "                                         description  \n",
       "0  <p>Образование - Среднее специальное, высшее</...  \n",
       "1  <p><strong>Обязанности:</strong></p> <ul> <li>...  \n",
       "2  <strong>Обязанности:</strong> <ul> <li>Подбор ...  \n",
       "3  <strong>Обязанности:</strong> <ul> <li> <p>Нач...  \n",
       "4  <p><strong>Требования:</strong></p> <ul> <li>у...  "
      ]
     },
     "execution_count": 14,
     "metadata": {},
     "output_type": "execute_result"
    }
   ],
   "source": [
    "df_other.head()"
   ]
  },
  {
   "cell_type": "code",
   "execution_count": 15,
   "metadata": {},
   "outputs": [
    {
     "data": {
      "text/plain": [
       "(594534, 2)"
      ]
     },
     "execution_count": 15,
     "metadata": {},
     "output_type": "execute_result"
    }
   ],
   "source": [
    "# logging.info(\"shape other.cvs is {}\".format(df_other.shape))\n",
    "df_other.shape"
   ]
  },
  {
   "cell_type": "code",
   "execution_count": 16,
   "metadata": {},
   "outputs": [],
   "source": [
    "# stop words\n",
    "stop_words = [line.rstrip('\\n') for line in open(\"./data/stopwords-ru.txt\")]"
   ]
  },
  {
   "cell_type": "code",
   "execution_count": 17,
   "metadata": {},
   "outputs": [],
   "source": [
    "import re\n",
    "\n",
    "def cleanhtml(raw_html):\n",
    "    cleanr = re.compile('<.*?>')\n",
    "    cleantext = re.sub(cleanr, '', raw_html)\n",
    "    return cleantext\n",
    "    "
   ]
  },
  {
   "cell_type": "code",
   "execution_count": 18,
   "metadata": {},
   "outputs": [],
   "source": [
    "def prepare_data(dataframe, drop_columns=None):\n",
    "#     logging.info(\"prepare_data of dataframe\")\n",
    "    df = dataframe.copy()\n",
    "    # clearhtml\n",
    "    df['description'] = df['description'].apply(lambda x : cleanhtml(x) )\n",
    "    # replace &quot to \"\n",
    "    df['description'] = df['description'].str.replace('&quot;','\"')\n",
    "    df['description'] = df['description'].str.replace('\\u200b','')\n",
    "    # uni name and description\n",
    "    df['text'] = df['name'] + ' ' + df['description'] \n",
    "    # drop\n",
    "    df = df.drop(drop_columns, axis=1)\n",
    "    \n",
    "    return df\n",
    "    "
   ]
  },
  {
   "cell_type": "code",
   "execution_count": 19,
   "metadata": {},
   "outputs": [],
   "source": [
    "import re\n",
    "def f_tokenizer(text, morph, stop_words=None):\n",
    "    f = []\n",
    "    words = [ a[0] for a in re.findall(\"([А-ЯЁа-яё]+(-[А-ЯЁа-яё]+)*)\", text)]\n",
    "    for w in words:\n",
    "        if w in stop_words:\n",
    "            continue\n",
    "        m = morph.parse(w)\n",
    "        if len(m) != 0 :\n",
    "            wrd = m[0]\n",
    "            if wrd.tag.POS not in ('NUMR','PREP','CONJ','PRCL','INTJ'):\n",
    "                tag = str(wrd.tag.POS) if wrd.tag.POS is not None else \"None\"\n",
    "                f.append( \"{word}\".format(word=wrd.normal_form))\n",
    "    return f"
   ]
  },
  {
   "cell_type": "code",
   "execution_count": 20,
   "metadata": {},
   "outputs": [],
   "source": [
    "N = df_train_raw.shape[0]"
   ]
  },
  {
   "cell_type": "code",
   "execution_count": 21,
   "metadata": {},
   "outputs": [
    {
     "name": "stdout",
     "output_type": "stream",
     "text": [
      "CPU times: user 10.7 s, sys: 814 ms, total: 11.5 s\n",
      "Wall time: 11.5 s\n"
     ]
    }
   ],
   "source": [
    "%%time \n",
    "df_train = prepare_data(df_train_raw[:N], drop_columns=[\"name\", \"description\", \"id\"])"
   ]
  },
  {
   "cell_type": "code",
   "execution_count": 22,
   "metadata": {},
   "outputs": [
    {
     "data": {
      "text/html": [
       "<div>\n",
       "<table border=\"1\" class=\"dataframe\">\n",
       "  <thead>\n",
       "    <tr style=\"text-align: right;\">\n",
       "      <th></th>\n",
       "      <th>target</th>\n",
       "      <th>text</th>\n",
       "    </tr>\n",
       "  </thead>\n",
       "  <tbody>\n",
       "    <tr>\n",
       "      <th>0</th>\n",
       "      <td>1</td>\n",
       "      <td>Заведующий отделом/секцией в магазин YORK (Уру...</td>\n",
       "    </tr>\n",
       "    <tr>\n",
       "      <th>1</th>\n",
       "      <td>0</td>\n",
       "      <td>Наладчик станков и манипуляторов с ПУ Обязанно...</td>\n",
       "    </tr>\n",
       "    <tr>\n",
       "      <th>2</th>\n",
       "      <td>0</td>\n",
       "      <td>Разработчик С++ (Криптограф) Требования:  Опыт...</td>\n",
       "    </tr>\n",
       "    <tr>\n",
       "      <th>3</th>\n",
       "      <td>0</td>\n",
       "      <td>Фрезеровщик Условия:  На работу вахтовым метод...</td>\n",
       "    </tr>\n",
       "    <tr>\n",
       "      <th>4</th>\n",
       "      <td>1</td>\n",
       "      <td>Мерчендайзер/продавец-консультант Компания Пал...</td>\n",
       "    </tr>\n",
       "  </tbody>\n",
       "</table>\n",
       "</div>"
      ],
      "text/plain": [
       "   target                                               text\n",
       "0       1  Заведующий отделом/секцией в магазин YORK (Уру...\n",
       "1       0  Наладчик станков и манипуляторов с ПУ Обязанно...\n",
       "2       0  Разработчик С++ (Криптограф) Требования:  Опыт...\n",
       "3       0  Фрезеровщик Условия:  На работу вахтовым метод...\n",
       "4       1  Мерчендайзер/продавец-консультант Компания Пал..."
      ]
     },
     "execution_count": 22,
     "metadata": {},
     "output_type": "execute_result"
    }
   ],
   "source": [
    "df_train.head()"
   ]
  },
  {
   "cell_type": "code",
   "execution_count": 23,
   "metadata": {},
   "outputs": [
    {
     "name": "stdout",
     "output_type": "stream",
     "text": [
      "<class 'pandas.core.frame.DataFrame'>\n",
      "RangeIndex: 200000 entries, 0 to 199999\n",
      "Data columns (total 2 columns):\n",
      "target    200000 non-null int64\n",
      "text      200000 non-null object\n",
      "dtypes: int64(1), object(1)\n",
      "memory usage: 3.1+ MB\n"
     ]
    }
   ],
   "source": [
    "df_train.info()"
   ]
  },
  {
   "cell_type": "code",
   "execution_count": 24,
   "metadata": {},
   "outputs": [],
   "source": [
    "df_tmp_test = prepare_data(df_test[:N], drop_columns=[\"name\", \"description\", \"id\"])"
   ]
  },
  {
   "cell_type": "code",
   "execution_count": 25,
   "metadata": {},
   "outputs": [
    {
     "data": {
      "text/html": [
       "<div>\n",
       "<table border=\"1\" class=\"dataframe\">\n",
       "  <thead>\n",
       "    <tr style=\"text-align: right;\">\n",
       "      <th></th>\n",
       "      <th>text</th>\n",
       "    </tr>\n",
       "  </thead>\n",
       "  <tbody>\n",
       "    <tr>\n",
       "      <th>0</th>\n",
       "      <td>Дизайнер-консультант мебели Обязанности:  Рабо...</td>\n",
       "    </tr>\n",
       "    <tr>\n",
       "      <th>1</th>\n",
       "      <td>Продавец-консультант (ТЦ на Пушкина) Обязаннос...</td>\n",
       "    </tr>\n",
       "    <tr>\n",
       "      <th>2</th>\n",
       "      <td>Менеджер по продажам Торговый Дом «Форт» это в...</td>\n",
       "    </tr>\n",
       "    <tr>\n",
       "      <th>3</th>\n",
       "      <td>Продавец-консультант в магазин одежды (ТЦ Волн...</td>\n",
       "    </tr>\n",
       "    <tr>\n",
       "      <th>4</th>\n",
       "      <td>Специалист по охране труда Обязанности:   осущ...</td>\n",
       "    </tr>\n",
       "  </tbody>\n",
       "</table>\n",
       "</div>"
      ],
      "text/plain": [
       "                                                text\n",
       "0  Дизайнер-консультант мебели Обязанности:  Рабо...\n",
       "1  Продавец-консультант (ТЦ на Пушкина) Обязаннос...\n",
       "2  Менеджер по продажам Торговый Дом «Форт» это в...\n",
       "3  Продавец-консультант в магазин одежды (ТЦ Волн...\n",
       "4  Специалист по охране труда Обязанности:   осущ..."
      ]
     },
     "execution_count": 25,
     "metadata": {},
     "output_type": "execute_result"
    }
   ],
   "source": [
    "df_tmp_test.head()"
   ]
  },
  {
   "cell_type": "code",
   "execution_count": 26,
   "metadata": {},
   "outputs": [],
   "source": [
    "df_tmp_other = prepare_data(df_other[:], drop_columns=[\"name\", \"description\"])"
   ]
  },
  {
   "cell_type": "code",
   "execution_count": 27,
   "metadata": {},
   "outputs": [
    {
     "data": {
      "text/plain": [
       "(594534, 1)"
      ]
     },
     "execution_count": 27,
     "metadata": {},
     "output_type": "execute_result"
    }
   ],
   "source": [
    "df_tmp_other.shape"
   ]
  },
  {
   "cell_type": "code",
   "execution_count": 28,
   "metadata": {},
   "outputs": [],
   "source": [
    "df_id = df_test[:].drop(['name', 'description'], axis=1)"
   ]
  },
  {
   "cell_type": "code",
   "execution_count": 29,
   "metadata": {},
   "outputs": [
    {
     "data": {
      "text/html": [
       "<div>\n",
       "<table border=\"1\" class=\"dataframe\">\n",
       "  <thead>\n",
       "    <tr style=\"text-align: right;\">\n",
       "      <th></th>\n",
       "      <th>id</th>\n",
       "    </tr>\n",
       "  </thead>\n",
       "  <tbody>\n",
       "    <tr>\n",
       "      <th>0</th>\n",
       "      <td>200000</td>\n",
       "    </tr>\n",
       "    <tr>\n",
       "      <th>1</th>\n",
       "      <td>200001</td>\n",
       "    </tr>\n",
       "    <tr>\n",
       "      <th>2</th>\n",
       "      <td>200002</td>\n",
       "    </tr>\n",
       "    <tr>\n",
       "      <th>3</th>\n",
       "      <td>200003</td>\n",
       "    </tr>\n",
       "    <tr>\n",
       "      <th>4</th>\n",
       "      <td>200004</td>\n",
       "    </tr>\n",
       "  </tbody>\n",
       "</table>\n",
       "</div>"
      ],
      "text/plain": [
       "       id\n",
       "0  200000\n",
       "1  200001\n",
       "2  200002\n",
       "3  200003\n",
       "4  200004"
      ]
     },
     "execution_count": 29,
     "metadata": {},
     "output_type": "execute_result"
    }
   ],
   "source": [
    "df_id.head()"
   ]
  },
  {
   "cell_type": "code",
   "execution_count": 30,
   "metadata": {},
   "outputs": [],
   "source": [
    "# подключим word2vec\n",
    "# logging.info(\">>> word2vec point\")\n",
    "from gensim.models import word2vec"
   ]
  },
  {
   "cell_type": "code",
   "execution_count": 31,
   "metadata": {},
   "outputs": [],
   "source": [
    "# может кроме other ещё что-нибудь добавить.\n",
    "# logging.info(\"concat data\")\n",
    "# data = pd.concat([df_tmp_other['text'], df_tmp_test['text'], df_train['text']], axis=0, ignore_index=True)\n",
    "# data.head()"
   ]
  },
  {
   "cell_type": "code",
   "execution_count": 32,
   "metadata": {},
   "outputs": [],
   "source": [
    "# logging.info(\"data shape is {}\".format( data.shape))\n",
    "# data.shape"
   ]
  },
  {
   "cell_type": "code",
   "execution_count": 33,
   "metadata": {},
   "outputs": [],
   "source": [
    "from multiprocessing import Pool\n",
    "from functools import partial\n",
    "from tqdm import tqdm\n",
    "import pymorphy2 # Морфологический анализатор.\n",
    "morph = pymorphy2.MorphAnalyzer()"
   ]
  },
  {
   "cell_type": "code",
   "execution_count": 34,
   "metadata": {},
   "outputs": [],
   "source": [
    "def wrapMyFunc(idx, arg, morph, stop_words=None):\n",
    "        return idx, f_tokenizer(arg, morph, stop_words)\n",
    "    \n",
    "def tokernizer(data, morph, stop_words=None, N=10, proc=4):\n",
    "    sentences = [None] * N  # result list of correct size\n",
    "\n",
    "    def update(ans):\n",
    "        if len(ans[1]) != 0 :\n",
    "            sentences[ans[0]] = ans[1]\n",
    "        pbar.update()\n",
    "\n",
    "    pool = Pool(proc)\n",
    "    pbar = tqdm(total=N)\n",
    "\n",
    "    idx = 0\n",
    "    result = 0\n",
    "    for item in data[:N]:\n",
    "        pool.apply_async(wrapMyFunc, args=(idx, item, morph, stop_words), callback=update)\n",
    "        idx +=1\n",
    "    pool.close()\n",
    "    pool.join()\n",
    "    pbar.close()\n",
    "    \n",
    "    return sentences\n"
   ]
  },
  {
   "cell_type": "code",
   "execution_count": 2,
   "metadata": {},
   "outputs": [],
   "source": [
    "import pickle\n",
    "\n",
    "def save_obj(obj, file_name ):    \n",
    "    with open(file_name,'wb' ) as f:\n",
    "        pickle.dump(obj, f)\n",
    "\n",
    "def load_obj(file_name):\n",
    "    with open(file_name,'rb' ) as f:\n",
    "        obj = pickle.load(f)\n",
    "    return obj"
   ]
  },
  {
   "cell_type": "code",
   "execution_count": 36,
   "metadata": {},
   "outputs": [
    {
     "name": "stderr",
     "output_type": "stream",
     "text": [
      "100%|██████████| 594534/594534 [3:29:15<00:00, 47.35it/s]  \n"
     ]
    }
   ],
   "source": [
    "words_other = tokernizer(data=df_tmp_other['text'], morph=morph, stop_words=stop_words,  N=df_tmp_other['text'].shape[0], proc=8)"
   ]
  },
  {
   "cell_type": "code",
   "execution_count": null,
   "metadata": {},
   "outputs": [],
   "source": [
    "save_obj(words_other, file_name=\"./data/words_other\" )"
   ]
  },
  {
   "cell_type": "code",
   "execution_count": 42,
   "metadata": {},
   "outputs": [
    {
     "name": "stderr",
     "output_type": "stream",
     "text": [
      "100%|██████████| 170179/170179 [1:01:44<00:00, 32.30it/s]\n"
     ]
    }
   ],
   "source": [
    "words_tests = tokernizer(data=df_tmp_test['text'], morph=morph, stop_words=stop_words,  N=df_tmp_test['text'].shape[0], proc=8)"
   ]
  },
  {
   "cell_type": "code",
   "execution_count": null,
   "metadata": {},
   "outputs": [],
   "source": [
    "save_obj(words_tests, file_name=\"./data/words_tests\" )"
   ]
  },
  {
   "cell_type": "code",
   "execution_count": 36,
   "metadata": {},
   "outputs": [
    {
     "name": "stderr",
     "output_type": "stream",
     "text": [
      "100%|██████████| 200000/200000 [1:12:21<00:00, 46.07it/s]\n"
     ]
    }
   ],
   "source": [
    "words_train = tokernizer(data=df_train['text'], morph=morph, stop_words=stop_words,  N=df_train['text'].shape[0], proc=8)"
   ]
  },
  {
   "cell_type": "code",
   "execution_count": 37,
   "metadata": {},
   "outputs": [],
   "source": [
    "save_obj(words_train, file_name=\"./data/words_train\" )"
   ]
  },
  {
   "cell_type": "code",
   "execution_count": 1,
   "metadata": {},
   "outputs": [
    {
     "ename": "NameError",
     "evalue": "name 'load_obj' is not defined",
     "output_type": "error",
     "traceback": [
      "\u001b[0;31m---------------------------------------------------------------------------\u001b[0m",
      "\u001b[0;31mNameError\u001b[0m                                 Traceback (most recent call last)",
      "\u001b[0;32m<ipython-input-1-b1830501c23c>\u001b[0m in \u001b[0;36m<module>\u001b[0;34m()\u001b[0m\n\u001b[1;32m      2\u001b[0m \u001b[0;32mfrom\u001b[0m \u001b[0mfunctools\u001b[0m \u001b[0;32mimport\u001b[0m \u001b[0mpartial\u001b[0m\u001b[0;34m\u001b[0m\u001b[0m\n\u001b[1;32m      3\u001b[0m \u001b[0;34m\u001b[0m\u001b[0m\n\u001b[0;32m----> 4\u001b[0;31m \u001b[0mwords_train\u001b[0m \u001b[0;34m=\u001b[0m \u001b[0mload_obj\u001b[0m\u001b[0;34m(\u001b[0m\u001b[0;34m\"./data/words_train\"\u001b[0m\u001b[0;34m)\u001b[0m\u001b[0;34m\u001b[0m\u001b[0m\n\u001b[0m\u001b[1;32m      5\u001b[0m \u001b[0mwords_train\u001b[0m \u001b[0;34m=\u001b[0m \u001b[0mlist\u001b[0m\u001b[0;34m(\u001b[0m\u001b[0mmap\u001b[0m\u001b[0;34m(\u001b[0m\u001b[0;32mlambda\u001b[0m \u001b[0mx\u001b[0m \u001b[0;34m:\u001b[0m \u001b[0mx\u001b[0m \u001b[0;32mif\u001b[0m \u001b[0mx\u001b[0m \u001b[0;32mis\u001b[0m \u001b[0;32mnot\u001b[0m \u001b[0;32mNone\u001b[0m \u001b[0;32melse\u001b[0m \u001b[0;34m[\u001b[0m\u001b[0;34m\"NONE\"\u001b[0m\u001b[0;34m]\u001b[0m \u001b[0;34m,\u001b[0m \u001b[0mwords_train\u001b[0m\u001b[0;34m)\u001b[0m\u001b[0;34m)\u001b[0m\u001b[0;34m\u001b[0m\u001b[0m\n\u001b[1;32m      6\u001b[0m \u001b[0mwords_tests\u001b[0m \u001b[0;34m=\u001b[0m \u001b[0mload_obj\u001b[0m\u001b[0;34m(\u001b[0m\u001b[0;34m\"./data/words_tests\"\u001b[0m\u001b[0;34m)\u001b[0m\u001b[0;34m\u001b[0m\u001b[0m\n",
      "\u001b[0;31mNameError\u001b[0m: name 'load_obj' is not defined"
     ]
    }
   ],
   "source": [
    "from operator import is_not\n",
    "from functools import partial\n",
    "\n",
    "words_train = load_obj(\"./data/words_train\")\n",
    "words_train = list(map(lambda x : x if x is not None else [\"NONE\"] , words_train))\n",
    "words_tests = load_obj(\"./data/words_tests\")\n",
    "words_tests = list(map(lambda x : x if x is not None else [\"NONE\"] , words_tests))\n",
    "words_other = load_obj(\"./data/words_other\")\n",
    "words_other = list(map(lambda x : x if x is not None else [\"NONE\"] , words_other))"
   ]
  },
  {
   "cell_type": "code",
   "execution_count": 4,
   "metadata": {},
   "outputs": [],
   "source": [
    "sentences = []\n",
    "sentences.extend(words_tests)\n",
    "sentences.extend(words_other)\n",
    "sentences.extend(words_train)"
   ]
  },
  {
   "cell_type": "code",
   "execution_count": 12,
   "metadata": {},
   "outputs": [
    {
     "ename": "TypeError",
     "evalue": "object of type 'filter' has no len()",
     "output_type": "error",
     "traceback": [
      "\u001b[0;31m---------------------------------------------------------------------------\u001b[0m",
      "\u001b[0;31mTypeError\u001b[0m                                 Traceback (most recent call last)",
      "\u001b[0;32m<ipython-input-12-70147cf03621>\u001b[0m in \u001b[0;36m<module>\u001b[0;34m()\u001b[0m\n\u001b[0;32m----> 1\u001b[0;31m \u001b[0mlen\u001b[0m\u001b[0;34m(\u001b[0m\u001b[0mwords_train\u001b[0m\u001b[0;34m)\u001b[0m\u001b[0;34m\u001b[0m\u001b[0m\n\u001b[0m",
      "\u001b[0;31mTypeError\u001b[0m: object of type 'filter' has no len()"
     ]
    }
   ],
   "source": [
    "len(words_train)"
   ]
  },
  {
   "cell_type": "code",
   "execution_count": 5,
   "metadata": {},
   "outputs": [],
   "source": [
    "idx = 0\n",
    "vec_nune = []\n",
    "for sentence in sentences:\n",
    "    if type(sentence) is not list:\n",
    "        vec_nune.append(idx)\n",
    "    idx += 1"
   ]
  },
  {
   "cell_type": "code",
   "execution_count": 6,
   "metadata": {},
   "outputs": [
    {
     "data": {
      "text/plain": [
       "0"
      ]
     },
     "execution_count": 6,
     "metadata": {},
     "output_type": "execute_result"
    }
   ],
   "source": [
    "len(vec_nune)"
   ]
  },
  {
   "cell_type": "code",
   "execution_count": 8,
   "metadata": {},
   "outputs": [],
   "source": [
    "#создадим словарь со словами и соответсвующими им векторами\n",
    "# logging.info(\"create model'\")\n",
    "# logging.info(\">>> word2vec point\")\n",
    "from gensim.models import word2vec\n",
    "model = word2vec.Word2Vec(sentences, size=300, window=10, workers=8, sample=1e-3)\n",
    "model.init_sims(replace=True)"
   ]
  },
  {
   "cell_type": "code",
   "execution_count": 9,
   "metadata": {},
   "outputs": [],
   "source": [
    "# logging.info(\"save model as 'vec_model'\")\n",
    "model.save('vec_model_without_morph')"
   ]
  },
  {
   "cell_type": "code",
   "execution_count": 10,
   "metadata": {},
   "outputs": [
    {
     "name": "stdout",
     "output_type": "stream",
     "text": [
      "-rw-r--r-- 1 jovyan users 5129852 Mar 15 23:31 vec_model_without_morph\r\n"
     ]
    }
   ],
   "source": [
    "!ls -l 'vec_model_without_morph'"
   ]
  },
  {
   "cell_type": "code",
   "execution_count": null,
   "metadata": {},
   "outputs": [],
   "source": []
  }
 ],
 "metadata": {
  "kernelspec": {
   "display_name": "Python 3",
   "language": "python",
   "name": "python3"
  },
  "language_info": {
   "codemirror_mode": {
    "name": "ipython",
    "version": 3
   },
   "file_extension": ".py",
   "mimetype": "text/x-python",
   "name": "python",
   "nbconvert_exporter": "python",
   "pygments_lexer": "ipython3",
   "version": "3.6.3"
  }
 },
 "nbformat": 4,
 "nbformat_minor": 2
}
