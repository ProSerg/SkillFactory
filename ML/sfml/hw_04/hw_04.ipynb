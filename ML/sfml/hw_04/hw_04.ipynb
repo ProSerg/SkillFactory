{
 "cells": [
  {
   "cell_type": "code",
   "execution_count": 49,
   "metadata": {},
   "outputs": [],
   "source": [
    "import seaborn as sns\n",
    "import datetime as dt\n",
    "import pandas as pd\n",
    "import numpy as np\n",
    "import matplotlib.pyplot as plt\n",
    "import re\n",
    "%matplotlib inline"
   ]
  },
  {
   "cell_type": "code",
   "execution_count": 50,
   "metadata": {},
   "outputs": [
    {
     "data": {
      "text/html": [
       "<div>\n",
       "<style scoped>\n",
       "    .dataframe tbody tr th:only-of-type {\n",
       "        vertical-align: middle;\n",
       "    }\n",
       "\n",
       "    .dataframe tbody tr th {\n",
       "        vertical-align: top;\n",
       "    }\n",
       "\n",
       "    .dataframe thead th {\n",
       "        text-align: right;\n",
       "    }\n",
       "</style>\n",
       "<table border=\"1\" class=\"dataframe\">\n",
       "  <thead>\n",
       "    <tr style=\"text-align: right;\">\n",
       "      <th></th>\n",
       "      <th>datetime</th>\n",
       "      <th>season</th>\n",
       "      <th>holiday</th>\n",
       "      <th>workingday</th>\n",
       "      <th>weather</th>\n",
       "      <th>temp</th>\n",
       "      <th>atemp</th>\n",
       "      <th>humidity</th>\n",
       "      <th>windspeed</th>\n",
       "      <th>casual</th>\n",
       "      <th>registered</th>\n",
       "      <th>count</th>\n",
       "    </tr>\n",
       "  </thead>\n",
       "  <tbody>\n",
       "    <tr>\n",
       "      <th>0</th>\n",
       "      <td>2011-01-01 00:00:00</td>\n",
       "      <td>1</td>\n",
       "      <td>0</td>\n",
       "      <td>0</td>\n",
       "      <td>1</td>\n",
       "      <td>9.84</td>\n",
       "      <td>14.395</td>\n",
       "      <td>81</td>\n",
       "      <td>0.0</td>\n",
       "      <td>3</td>\n",
       "      <td>13</td>\n",
       "      <td>16</td>\n",
       "    </tr>\n",
       "    <tr>\n",
       "      <th>1</th>\n",
       "      <td>2011-01-01 01:00:00</td>\n",
       "      <td>1</td>\n",
       "      <td>0</td>\n",
       "      <td>0</td>\n",
       "      <td>1</td>\n",
       "      <td>9.02</td>\n",
       "      <td>13.635</td>\n",
       "      <td>80</td>\n",
       "      <td>0.0</td>\n",
       "      <td>8</td>\n",
       "      <td>32</td>\n",
       "      <td>40</td>\n",
       "    </tr>\n",
       "    <tr>\n",
       "      <th>2</th>\n",
       "      <td>2011-01-01 02:00:00</td>\n",
       "      <td>1</td>\n",
       "      <td>0</td>\n",
       "      <td>0</td>\n",
       "      <td>1</td>\n",
       "      <td>9.02</td>\n",
       "      <td>13.635</td>\n",
       "      <td>80</td>\n",
       "      <td>0.0</td>\n",
       "      <td>5</td>\n",
       "      <td>27</td>\n",
       "      <td>32</td>\n",
       "    </tr>\n",
       "    <tr>\n",
       "      <th>3</th>\n",
       "      <td>2011-01-01 03:00:00</td>\n",
       "      <td>1</td>\n",
       "      <td>0</td>\n",
       "      <td>0</td>\n",
       "      <td>1</td>\n",
       "      <td>9.84</td>\n",
       "      <td>14.395</td>\n",
       "      <td>75</td>\n",
       "      <td>0.0</td>\n",
       "      <td>3</td>\n",
       "      <td>10</td>\n",
       "      <td>13</td>\n",
       "    </tr>\n",
       "    <tr>\n",
       "      <th>4</th>\n",
       "      <td>2011-01-01 04:00:00</td>\n",
       "      <td>1</td>\n",
       "      <td>0</td>\n",
       "      <td>0</td>\n",
       "      <td>1</td>\n",
       "      <td>9.84</td>\n",
       "      <td>14.395</td>\n",
       "      <td>75</td>\n",
       "      <td>0.0</td>\n",
       "      <td>0</td>\n",
       "      <td>1</td>\n",
       "      <td>1</td>\n",
       "    </tr>\n",
       "  </tbody>\n",
       "</table>\n",
       "</div>"
      ],
      "text/plain": [
       "              datetime  season  holiday  workingday  weather  temp   atemp  \\\n",
       "0  2011-01-01 00:00:00       1        0           0        1  9.84  14.395   \n",
       "1  2011-01-01 01:00:00       1        0           0        1  9.02  13.635   \n",
       "2  2011-01-01 02:00:00       1        0           0        1  9.02  13.635   \n",
       "3  2011-01-01 03:00:00       1        0           0        1  9.84  14.395   \n",
       "4  2011-01-01 04:00:00       1        0           0        1  9.84  14.395   \n",
       "\n",
       "   humidity  windspeed  casual  registered  count  \n",
       "0        81        0.0       3          13     16  \n",
       "1        80        0.0       8          32     40  \n",
       "2        80        0.0       5          27     32  \n",
       "3        75        0.0       3          10     13  \n",
       "4        75        0.0       0           1      1  "
      ]
     },
     "execution_count": 50,
     "metadata": {},
     "output_type": "execute_result"
    }
   ],
   "source": [
    "df = pd.read_csv('data/train_bikes.csv')\n",
    "\n",
    "df.head()"
   ]
  },
  {
   "cell_type": "markdown",
   "metadata": {},
   "source": [
    "## Вспомогательные функции"
   ]
  },
  {
   "cell_type": "code",
   "execution_count": 251,
   "metadata": {},
   "outputs": [],
   "source": [
    "def draw_graphics(alpha, train_scores, valid_scores):\n",
    "    \"\"\"\n",
    "    по оси x отложены значения alpha\n",
    "    по оси y отложены средние значения меры качества\n",
    "    \"\"\"\n",
    "    fig, ax = plt.subplots(figsize=(10,10))\n",
    "    fig.subplots_adjust(left=0.08, right=0.98, wspace=0.3)\n",
    "    ax.set_xscale('symlog', linthreshy=0.00001)\n",
    "    ax.plot(alpha_range, train_scores, 'ro', label=\"train metrics\") \n",
    "    ax.plot(alpha_range, valid_scores, label=\"valid metrics\")\n",
    "    plt.legend(loc=2, borderaxespad=0.)\n",
    "    ax.grid(True)\n",
    "    plt.show()"
   ]
  },
  {
   "cell_type": "markdown",
   "metadata": {},
   "source": [
    "## Предобработка данных:"
   ]
  },
  {
   "cell_type": "code",
   "execution_count": 52,
   "metadata": {},
   "outputs": [],
   "source": [
    "def get_supervised_array(df_origin):\n",
    "    \"\"\"\n",
    "    Получаем список строк для разделения исходной матрицы на train и test.\n",
    "    \"\"\"\n",
    "    df = df_origin.copy()\n",
    "    df['datetime'] = pd.to_datetime(df['datetime'], format='%Y-%m-%d %H:%M')\n",
    "    df['year'] = df.loc[:, 'datetime'].dt.year\n",
    "    df['month'] = df.loc[:, 'datetime'].dt.month\n",
    "    df['hour'] = df.loc[:, 'datetime'].dt.hour\n",
    "    stroka = df.to_string(\n",
    "        columns=['year','month','hour'], \n",
    "        col_space=0,\n",
    "        header=False,\n",
    "        index=False,\n",
    "    )\n",
    "    return np.array(re.sub(' +','-',stroka).split('\\n'))"
   ]
  },
  {
   "cell_type": "code",
   "execution_count": 53,
   "metadata": {},
   "outputs": [],
   "source": [
    "def get_date_features(df_origin):\n",
    "    \"\"\"\n",
    "    Разбиваем datetime на части.\n",
    "    \"\"\"\n",
    "    df = df_origin.copy()\n",
    "    df['datetime'] = pd.to_datetime(df['datetime'], format='%Y-%m-%d %H:%M')\n",
    "    df['year'] = df.loc[:, 'datetime'].dt.year\n",
    "    df['month'] = df.loc[:, 'datetime'].dt.month\n",
    "    df['day'] = df.loc[:, 'datetime'].dt.day\n",
    "    df['hour'] = df.loc[:, 'datetime'].dt.hour\n",
    "    df['weekday'] = df.loc[:, 'datetime'].dt.weekday\n",
    "    \n",
    "    return df"
   ]
  },
  {
   "cell_type": "code",
   "execution_count": 54,
   "metadata": {},
   "outputs": [],
   "source": [
    "def class_hour(df):\n",
    "    \"\"\"\n",
    "    Создаём интервалы времени\n",
    "    \"\"\"\n",
    "    df_tmp = df.copy()\n",
    "    df_tmp['class_hour'] = df_tmp['hour'].map(\n",
    "    lambda x:\n",
    "        \"night\" if x == 23 or x <= 4 else \n",
    "        \"morning\" if x <= 8 and x > 4 else\n",
    "        \"rush_morning\" if x <= 9 and x > 8 else\n",
    "        \"day\" if x <= 16 and x > 9 else\n",
    "        \"rush_day\" if x <= 19 and x > 16 else\n",
    "        \"evening\" \n",
    "\n",
    "    )\n",
    "    return df_tmp"
   ]
  },
  {
   "cell_type": "code",
   "execution_count": 104,
   "metadata": {},
   "outputs": [],
   "source": [
    "def mapping(df):\n",
    "    \"\"\"\n",
    "    Превращаем категореальные призанки в ветокра в вида {0,1, C-1} где C - количество уникальных значений.\n",
    "    \n",
    "    \"\"\"\n",
    "    \n",
    "    df_tmp = df.copy()\n",
    "    df_tmp['weather'] = df_tmp['weather'].replace(\n",
    "        df_tmp['weather'].value_counts().to_dict()\n",
    "    )\n",
    "    df_tmp['year'] = df_tmp['year'].replace(\n",
    "        df_tmp['year'].value_counts().to_dict()\n",
    "    )\n",
    "    df_tmp['month'] = df_tmp['month'].replace(\n",
    "        df_tmp['month'].value_counts().to_dict()\n",
    "    )\n",
    "    df_tmp['weekday'] = df_tmp['weekday'].replace(\n",
    "        df_tmp['weekday'].value_counts().to_dict()\n",
    "    )\n",
    "    df_tmp['class_hour'] = df_tmp['class_hour'].replace(\n",
    "        df_tmp['class_hour'].value_counts().to_dict()\n",
    "    )\n",
    "\n",
    "    return df_tmp\n",
    "    "
   ]
  },
  {
   "cell_type": "code",
   "execution_count": 106,
   "metadata": {},
   "outputs": [],
   "source": [
    "def prepare_features(df, drop_cols=[], target_feature=''):\n",
    "    \"\"\"\n",
    "    Функция подготовки фич. Здесь агрегируеться все преобразования над исходным DataFrame.\n",
    "    \"\"\"\n",
    "    df_tmp = df.copy()\n",
    "    targets = [\"casual\", \"registered\", \"count\"]\n",
    "# оставляем только один из целевых признаков (casual, registred или count)\n",
    "    if target_feature in targets:\n",
    "        y_target = df_tmp[target_feature]\n",
    "        drop_cols.extend(targets)\n",
    "# выделяем признаки для \"времени дня\", \"месяца\" и дня недели      \n",
    "    df_clean = get_date_features(df)\n",
    "# создаём новую переменную (утро, день, вечер, ночь).\n",
    "    df_clean = class_hour(df_clean)\n",
    "# Преобразовывала бинарные признаки в вектора с {0,1} а категориальные признаки в вектора с {0,1,...,C-1}\n",
    "    df_clean = mapping(df_clean)\n",
    "# Удаляем ненужные признаки (сильно скоррелированные и просто бесполковые, типа datetime, day)\n",
    "    df_clean = df_clean.drop(drop_cols, axis=1)\n",
    "    df_clean.head()\n",
    "    \n",
    "    return df_clean, y_target"
   ]
  },
  {
   "cell_type": "markdown",
   "metadata": {},
   "source": [
    "# Getting hands dirty"
   ]
  },
  {
   "cell_type": "code",
   "execution_count": 107,
   "metadata": {},
   "outputs": [
    {
     "data": {
      "text/plain": [
       "array(['2011-1-0', '2011-1-1', '2011-1-2', '2011-1-3', '2011-1-4'],\n",
       "      dtype='<U10')"
      ]
     },
     "execution_count": 107,
     "metadata": {},
     "output_type": "execute_result"
    }
   ],
   "source": [
    "y_label = 'count'\n",
    "drop_cols = [\n",
    "    \"day\",\n",
    "    \"season\",\n",
    "    \"atemp\",\n",
    "    \"humidity\",\n",
    "    \"datetime\",\n",
    "    \"hour\",\n",
    "]\n",
    "year_month_hour = get_supervised_array(df)\n",
    "year_month_hour[:5]    "
   ]
  },
  {
   "cell_type": "code",
   "execution_count": 108,
   "metadata": {},
   "outputs": [
    {
     "data": {
      "text/html": [
       "<div>\n",
       "<style scoped>\n",
       "    .dataframe tbody tr th:only-of-type {\n",
       "        vertical-align: middle;\n",
       "    }\n",
       "\n",
       "    .dataframe tbody tr th {\n",
       "        vertical-align: top;\n",
       "    }\n",
       "\n",
       "    .dataframe thead th {\n",
       "        text-align: right;\n",
       "    }\n",
       "</style>\n",
       "<table border=\"1\" class=\"dataframe\">\n",
       "  <thead>\n",
       "    <tr style=\"text-align: right;\">\n",
       "      <th></th>\n",
       "      <th>holiday</th>\n",
       "      <th>workingday</th>\n",
       "      <th>weather</th>\n",
       "      <th>temp</th>\n",
       "      <th>windspeed</th>\n",
       "      <th>year</th>\n",
       "      <th>month</th>\n",
       "      <th>weekday</th>\n",
       "      <th>class_hour</th>\n",
       "    </tr>\n",
       "  </thead>\n",
       "  <tbody>\n",
       "    <tr>\n",
       "      <th>0</th>\n",
       "      <td>0</td>\n",
       "      <td>0</td>\n",
       "      <td>7192</td>\n",
       "      <td>9.84</td>\n",
       "      <td>0.0</td>\n",
       "      <td>5422</td>\n",
       "      <td>884</td>\n",
       "      <td>1584</td>\n",
       "      <td>2688</td>\n",
       "    </tr>\n",
       "    <tr>\n",
       "      <th>1</th>\n",
       "      <td>0</td>\n",
       "      <td>0</td>\n",
       "      <td>7192</td>\n",
       "      <td>9.02</td>\n",
       "      <td>0.0</td>\n",
       "      <td>5422</td>\n",
       "      <td>884</td>\n",
       "      <td>1584</td>\n",
       "      <td>2688</td>\n",
       "    </tr>\n",
       "    <tr>\n",
       "      <th>2</th>\n",
       "      <td>0</td>\n",
       "      <td>0</td>\n",
       "      <td>7192</td>\n",
       "      <td>9.02</td>\n",
       "      <td>0.0</td>\n",
       "      <td>5422</td>\n",
       "      <td>884</td>\n",
       "      <td>1584</td>\n",
       "      <td>2688</td>\n",
       "    </tr>\n",
       "    <tr>\n",
       "      <th>3</th>\n",
       "      <td>0</td>\n",
       "      <td>0</td>\n",
       "      <td>7192</td>\n",
       "      <td>9.84</td>\n",
       "      <td>0.0</td>\n",
       "      <td>5422</td>\n",
       "      <td>884</td>\n",
       "      <td>1584</td>\n",
       "      <td>2688</td>\n",
       "    </tr>\n",
       "    <tr>\n",
       "      <th>4</th>\n",
       "      <td>0</td>\n",
       "      <td>0</td>\n",
       "      <td>7192</td>\n",
       "      <td>9.84</td>\n",
       "      <td>0.0</td>\n",
       "      <td>5422</td>\n",
       "      <td>884</td>\n",
       "      <td>1584</td>\n",
       "      <td>2688</td>\n",
       "    </tr>\n",
       "  </tbody>\n",
       "</table>\n",
       "</div>"
      ],
      "text/plain": [
       "   holiday  workingday  weather  temp  windspeed  year  month  weekday  \\\n",
       "0        0           0     7192  9.84        0.0  5422    884     1584   \n",
       "1        0           0     7192  9.02        0.0  5422    884     1584   \n",
       "2        0           0     7192  9.02        0.0  5422    884     1584   \n",
       "3        0           0     7192  9.84        0.0  5422    884     1584   \n",
       "4        0           0     7192  9.84        0.0  5422    884     1584   \n",
       "\n",
       "   class_hour  \n",
       "0        2688  \n",
       "1        2688  \n",
       "2        2688  \n",
       "3        2688  \n",
       "4        2688  "
      ]
     },
     "execution_count": 108,
     "metadata": {},
     "output_type": "execute_result"
    }
   ],
   "source": [
    "df_train, y_target = prepare_features(df, drop_cols,y_label)\n",
    "df_train.head()"
   ]
  },
  {
   "cell_type": "code",
   "execution_count": 109,
   "metadata": {},
   "outputs": [
    {
     "data": {
      "text/plain": [
       "0    16\n",
       "1    40\n",
       "2    32\n",
       "3    13\n",
       "4     1\n",
       "Name: count, dtype: int64"
      ]
     },
     "execution_count": 109,
     "metadata": {},
     "output_type": "execute_result"
    }
   ],
   "source": [
    "y_target.head()"
   ]
  },
  {
   "cell_type": "markdown",
   "metadata": {},
   "source": [
    "## Baseline modelling"
   ]
  },
  {
   "cell_type": "code",
   "execution_count": 110,
   "metadata": {},
   "outputs": [],
   "source": [
    "from sklearn.linear_model import ElasticNet\n",
    "from sklearn.preprocessing import StandardScaler, OneHotEncoder\n",
    "from sklearn.pipeline import Pipeline, make_pipeline\n",
    "from sklearn.model_selection import train_test_split, cross_val_score\n",
    "from sklearn.model_selection import StratifiedKFold"
   ]
  },
  {
   "cell_type": "code",
   "execution_count": 111,
   "metadata": {},
   "outputs": [],
   "source": [
    "# alpha - это общая сила регуляризации\n",
    "# l1_ration - доля, которая приходтися на Lasso регуляризацию. Соответственно остальное идет на Rigde\n",
    "regressor = ElasticNet(alpha=1.0, l1_ratio=0.5)"
   ]
  },
  {
   "cell_type": "code",
   "execution_count": 112,
   "metadata": {},
   "outputs": [],
   "source": [
    "# преобразовываем признаки в вектора\n",
    "onehotencoder = OneHotEncoder(categorical_features=[2,5,6,7,8])"
   ]
  },
  {
   "cell_type": "code",
   "execution_count": 113,
   "metadata": {},
   "outputs": [],
   "source": [
    "# нормализовываем признаки\n",
    "standart = StandardScaler(with_mean=False)"
   ]
  },
  {
   "cell_type": "code",
   "execution_count": 114,
   "metadata": {},
   "outputs": [],
   "source": [
    "# строим модель\n",
    "model = make_pipeline(\n",
    "    onehotencoder, \n",
    "    standart, \n",
    "    regressor)"
   ]
  },
  {
   "cell_type": "code",
   "execution_count": 154,
   "metadata": {},
   "outputs": [],
   "source": [
    "def rlmse_score(y_test, y_hat):\n",
    "    \"\"\"\n",
    "    Считаем rlmse ошибку\n",
    "    \"\"\"\n",
    "    # Your code here\n",
    "    # в y_hat есть отрицательыне значения. Зануляю.\n",
    "    # Интерсно какой они несут смысл и почему они получаеются.\n",
    "    y_hat = list(map(lambda x : x if x >=0 else 0, y_hat.tolist())) \n",
    "    if len(y_hat) != len(y_test):\n",
    "        print(\"Error!\")\n",
    "        return -1\n",
    "    N = len(y_hat)\n",
    "    summ = 0\n",
    "    for idx in range(0, N):\n",
    "        summ += (np.log10(y_test[idx] + 1) - np.log10(y_hat[idx] + 1))**2\n",
    "    rlmse = np.sqrt(summ/N)\n",
    "    return rlmse\n",
    "\n",
    "# Эту функцию трогать не надо\n",
    "def rlmse_scorer(estimator, X, y):\n",
    "    y_hat = estimator.predict(X)\n",
    "    \n",
    "    return rlmse_score(y, y_hat)"
   ]
  },
  {
   "cell_type": "code",
   "execution_count": 155,
   "metadata": {},
   "outputs": [],
   "source": [
    "# rlmse_score(\n",
    "#     y_test=[0.75, 0.86, -0.1],\n",
    "#     y_hat=[0.70, 0.81, -0.4]\n",
    "# )"
   ]
  },
  {
   "cell_type": "code",
   "execution_count": 171,
   "metadata": {},
   "outputs": [],
   "source": [
    "from sklearn.model_selection import validation_curve"
   ]
  },
  {
   "cell_type": "code",
   "execution_count": 187,
   "metadata": {},
   "outputs": [],
   "source": [
    "# Это не обычная кросс-валидация а стратифицированная. №\n",
    "# С ее помощью мы добъемся того, что в обучающем и валидационном фолде будет одна и та же пропорция годов-месяцев-часов\n",
    "# Тут то и понадобится нам year_month_hour\n",
    "# Подробности http://scikit-learn.org/stable/modules/generated/sklearn.model_selection.StratifiedKFold.html#sklearn.model_selection.StratifiedKFold\n",
    "n_folds = 5\n",
    "cv = StratifiedKFold(n_splits=n_folds, shuffle=True, random_state=123)\n",
    "\n",
    "# Переберем 20 значений в интервале от 10^-3 до 10^5\n",
    "# Чутка увеличел aplha. \n",
    "alpha_range = np.logspace(-1, 10, 30)\n",
    "\n",
    "param_name = \"elasticnet__alpha\"\n",
    "# пишем не просто alpha, потому что у нас pipeline и sklearn должен как-то понимать параметр какого этапа мы перебираем\n",
    "# cv=cv.split(df_clean, year_month_hour)\n",
    "# model.fit(df_clean, y_target)\n",
    "# regressor.get_params().keys()\n",
    "y = y_target.as_matrix()\n",
    "train_scores, valid_scores = validation_curve(model, df_train, y, param_name=param_name, param_range=alpha_range,\n",
    "                                               cv=cv.split(df_clean, year_month_hour), scoring=rlmse_scorer)\n",
    "\n",
    "# На выходе мы получим 2 матрицы размера 20 на n_folds\n",
    "# Потому что у нас было 5 фолдов и 20 возможных значений гиперпараметра\n",
    "# А матриц 2, потому что в каждом фолде есть обучающая и валидационная часть"
   ]
  },
  {
   "cell_type": "code",
   "execution_count": 188,
   "metadata": {},
   "outputs": [
    {
     "data": {
      "text/plain": [
       "array([[0.53445837, 0.53301667, 0.53145205, 0.5377961 , 0.53425208],\n",
       "       [0.52674973, 0.52544489, 0.5231944 , 0.52931101, 0.52492334],\n",
       "       [0.51868716, 0.51797668, 0.5136925 , 0.51849039, 0.51836864],\n",
       "       [0.52177331, 0.52339945, 0.52311953, 0.52411584, 0.52338386],\n",
       "       [0.57129727, 0.57358525, 0.57335253, 0.57413551, 0.57093133],\n",
       "       [0.62498254, 0.62767671, 0.62676472, 0.6282817 , 0.62523225],\n",
       "       [0.6564053 , 0.65922567, 0.65800543, 0.65979422, 0.65707946],\n",
       "       [0.67228447, 0.67516111, 0.67371534, 0.67563428, 0.67321824],\n",
       "       [0.67864078, 0.68157935, 0.68003396, 0.68203473, 0.67961511],\n",
       "       [0.67974334, 0.6827429 , 0.68111333, 0.68316628, 0.68072907],\n",
       "       [0.67974334, 0.6827429 , 0.68111333, 0.68316628, 0.68072907],\n",
       "       [0.67974334, 0.6827429 , 0.68111333, 0.68316628, 0.68072907],\n",
       "       [0.67974334, 0.6827429 , 0.68111333, 0.68316628, 0.68072907],\n",
       "       [0.67974334, 0.6827429 , 0.68111333, 0.68316628, 0.68072907],\n",
       "       [0.67974334, 0.6827429 , 0.68111333, 0.68316628, 0.68072907],\n",
       "       [0.67974334, 0.6827429 , 0.68111333, 0.68316628, 0.68072907],\n",
       "       [0.67974334, 0.6827429 , 0.68111333, 0.68316628, 0.68072907],\n",
       "       [0.67974334, 0.6827429 , 0.68111333, 0.68316628, 0.68072907],\n",
       "       [0.67974334, 0.6827429 , 0.68111333, 0.68316628, 0.68072907],\n",
       "       [0.67974334, 0.6827429 , 0.68111333, 0.68316628, 0.68072907],\n",
       "       [0.67974334, 0.6827429 , 0.68111333, 0.68316628, 0.68072907],\n",
       "       [0.67974334, 0.6827429 , 0.68111333, 0.68316628, 0.68072907],\n",
       "       [0.67974334, 0.6827429 , 0.68111333, 0.68316628, 0.68072907],\n",
       "       [0.67974334, 0.6827429 , 0.68111333, 0.68316628, 0.68072907],\n",
       "       [0.67974334, 0.6827429 , 0.68111333, 0.68316628, 0.68072907],\n",
       "       [0.67974334, 0.6827429 , 0.68111333, 0.68316628, 0.68072907],\n",
       "       [0.67974334, 0.6827429 , 0.68111333, 0.68316628, 0.68072907],\n",
       "       [0.67974334, 0.6827429 , 0.68111333, 0.68316628, 0.68072907],\n",
       "       [0.67974334, 0.6827429 , 0.68111333, 0.68316628, 0.68072907],\n",
       "       [0.67974334, 0.6827429 , 0.68111333, 0.68316628, 0.68072907]])"
      ]
     },
     "execution_count": 188,
     "metadata": {},
     "output_type": "execute_result"
    }
   ],
   "source": [
    "train_scores"
   ]
  },
  {
   "cell_type": "code",
   "execution_count": 189,
   "metadata": {},
   "outputs": [
    {
     "data": {
      "text/plain": [
       "array([[0.52868775, 0.54213677, 0.53654747, 0.52852005, 0.53701222],\n",
       "       [0.51922465, 0.52913341, 0.52822459, 0.51981785, 0.53364158],\n",
       "       [0.51000367, 0.5169914 , 0.52404258, 0.51687884, 0.51972054],\n",
       "       [0.52415534, 0.52521014, 0.51960149, 0.51891188, 0.52949243],\n",
       "       [0.5748344 , 0.57232938, 0.56972171, 0.56862315, 0.58155823],\n",
       "       [0.62959409, 0.62795432, 0.6237468 , 0.62180364, 0.63171802],\n",
       "       [0.66154037, 0.66028715, 0.65527928, 0.65306126, 0.66148438],\n",
       "       [0.67766121, 0.67647468, 0.67116986, 0.66875573, 0.67665544],\n",
       "       [0.68410052, 0.68286896, 0.67755441, 0.67502319, 0.68303449],\n",
       "       [0.6852085 , 0.68401454, 0.67865153, 0.67613449, 0.68416093],\n",
       "       [0.6852085 , 0.68401454, 0.67865153, 0.67613449, 0.68416093],\n",
       "       [0.6852085 , 0.68401454, 0.67865153, 0.67613449, 0.68416093],\n",
       "       [0.6852085 , 0.68401454, 0.67865153, 0.67613449, 0.68416093],\n",
       "       [0.6852085 , 0.68401454, 0.67865153, 0.67613449, 0.68416093],\n",
       "       [0.6852085 , 0.68401454, 0.67865153, 0.67613449, 0.68416093],\n",
       "       [0.6852085 , 0.68401454, 0.67865153, 0.67613449, 0.68416093],\n",
       "       [0.6852085 , 0.68401454, 0.67865153, 0.67613449, 0.68416093],\n",
       "       [0.6852085 , 0.68401454, 0.67865153, 0.67613449, 0.68416093],\n",
       "       [0.6852085 , 0.68401454, 0.67865153, 0.67613449, 0.68416093],\n",
       "       [0.6852085 , 0.68401454, 0.67865153, 0.67613449, 0.68416093],\n",
       "       [0.6852085 , 0.68401454, 0.67865153, 0.67613449, 0.68416093],\n",
       "       [0.6852085 , 0.68401454, 0.67865153, 0.67613449, 0.68416093],\n",
       "       [0.6852085 , 0.68401454, 0.67865153, 0.67613449, 0.68416093],\n",
       "       [0.6852085 , 0.68401454, 0.67865153, 0.67613449, 0.68416093],\n",
       "       [0.6852085 , 0.68401454, 0.67865153, 0.67613449, 0.68416093],\n",
       "       [0.6852085 , 0.68401454, 0.67865153, 0.67613449, 0.68416093],\n",
       "       [0.6852085 , 0.68401454, 0.67865153, 0.67613449, 0.68416093],\n",
       "       [0.6852085 , 0.68401454, 0.67865153, 0.67613449, 0.68416093],\n",
       "       [0.6852085 , 0.68401454, 0.67865153, 0.67613449, 0.68416093],\n",
       "       [0.6852085 , 0.68401454, 0.67865153, 0.67613449, 0.68416093]])"
      ]
     },
     "execution_count": 189,
     "metadata": {},
     "output_type": "execute_result"
    }
   ],
   "source": [
    "valid_scores"
   ]
  },
  {
   "cell_type": "code",
   "execution_count": 190,
   "metadata": {},
   "outputs": [
    {
     "data": {
      "text/plain": [
       "array([0.00209536, 0.00204134, 0.00188959, 0.00076754, 0.00129292,\n",
       "       0.00130389, 0.00126964, 0.00123727, 0.00125748, 0.00127679,\n",
       "       0.00127679, 0.00127679, 0.00127679, 0.00127679, 0.00127679,\n",
       "       0.00127679, 0.00127679, 0.00127679, 0.00127679, 0.00127679,\n",
       "       0.00127679, 0.00127679, 0.00127679, 0.00127679, 0.00127679,\n",
       "       0.00127679, 0.00127679, 0.00127679, 0.00127679, 0.00127679])"
      ]
     },
     "execution_count": 190,
     "metadata": {},
     "output_type": "execute_result"
    }
   ],
   "source": [
    "# стандартное отклонение\n",
    "np.std(train_scores, axis=1)"
   ]
  },
  {
   "cell_type": "code",
   "execution_count": 191,
   "metadata": {},
   "outputs": [
    {
     "data": {
      "text/plain": [
       "array([0.0052599 , 0.00560865, 0.00457322, 0.00388611, 0.00460668,\n",
       "       0.00367365, 0.00349724, 0.00352106, 0.00356847, 0.00357685,\n",
       "       0.00357685, 0.00357685, 0.00357685, 0.00357685, 0.00357685,\n",
       "       0.00357685, 0.00357685, 0.00357685, 0.00357685, 0.00357685,\n",
       "       0.00357685, 0.00357685, 0.00357685, 0.00357685, 0.00357685,\n",
       "       0.00357685, 0.00357685, 0.00357685, 0.00357685, 0.00357685])"
      ]
     },
     "execution_count": 191,
     "metadata": {},
     "output_type": "execute_result"
    }
   ],
   "source": [
    "# стандартное отклонение\n",
    "np.std(valid_scores, axis=1)"
   ]
  },
  {
   "cell_type": "code",
   "execution_count": 253,
   "metadata": {},
   "outputs": [],
   "source": [
    "# среднее значение \n",
    "mean_scores_train = np.mean(train_scores, axis=1)"
   ]
  },
  {
   "cell_type": "code",
   "execution_count": 254,
   "metadata": {},
   "outputs": [],
   "source": [
    "# среднее значение \n",
    "mean_scores_valid = np.mean(valid_scores, axis=1)"
   ]
  },
  {
   "cell_type": "code",
   "execution_count": 252,
   "metadata": {},
   "outputs": [
    {
     "data": {
      "image/png": "[encoded data removed]",
      "text/plain": [
       "<matplotlib.figure.Figure at 0x7f526712dc50>"
      ]
     },
     "metadata": {},
     "output_type": "display_data"
    }
   ],
   "source": [
    "draw_graphics(alpha_range, mean_scores_train, mean_scores_valid)"
   ]
  },
  {
   "cell_type": "code",
   "execution_count": null,
   "metadata": {},
   "outputs": [],
   "source": []
  }
 ],
 "metadata": {
  "kernelspec": {
   "display_name": "Python 3",
   "language": "python",
   "name": "python3"
  },
  "language_info": {
   "codemirror_mode": {
    "name": "ipython",
    "version": 3
   },
   "file_extension": ".py",
   "mimetype": "text/x-python",
   "name": "python",
   "nbconvert_exporter": "python",
   "pygments_lexer": "ipython3",
   "version": "3.6.3"
  }
 },
 "nbformat": 4,
 "nbformat_minor": 2
}
