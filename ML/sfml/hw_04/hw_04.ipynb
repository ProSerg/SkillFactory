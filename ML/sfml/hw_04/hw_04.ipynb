{
 "cells": [
  {
   "cell_type": "markdown",
   "metadata": {},
   "source": [
    "# Домашняя работы по лекции №4\n",
    "Тетрадка с анализом данных лежит рядом \"regression-skillfactory-hw.ipynb\""
   ]
  },
  {
   "cell_type": "code",
   "execution_count": 112,
   "metadata": {},
   "outputs": [],
   "source": [
    "import seaborn as sns\n",
    "import datetime as dt\n",
    "import pandas as pd\n",
    "import numpy as np\n",
    "import matplotlib.pyplot as plt\n",
    "import re\n",
    "%matplotlib inline\n",
    "\n",
    "# отключаем warnings\n",
    "import warnings\n",
    "warnings.filterwarnings('ignore')\n"
   ]
  },
  {
   "cell_type": "code",
   "execution_count": 113,
   "metadata": {},
   "outputs": [
    {
     "data": {
      "text/html": [
       "<div>\n",
       "<style scoped>\n",
       "    .dataframe tbody tr th:only-of-type {\n",
       "        vertical-align: middle;\n",
       "    }\n",
       "\n",
       "    .dataframe tbody tr th {\n",
       "        vertical-align: top;\n",
       "    }\n",
       "\n",
       "    .dataframe thead th {\n",
       "        text-align: right;\n",
       "    }\n",
       "</style>\n",
       "<table border=\"1\" class=\"dataframe\">\n",
       "  <thead>\n",
       "    <tr style=\"text-align: right;\">\n",
       "      <th></th>\n",
       "      <th>datetime</th>\n",
       "      <th>season</th>\n",
       "      <th>holiday</th>\n",
       "      <th>workingday</th>\n",
       "      <th>weather</th>\n",
       "      <th>temp</th>\n",
       "      <th>atemp</th>\n",
       "      <th>humidity</th>\n",
       "      <th>windspeed</th>\n",
       "      <th>casual</th>\n",
       "      <th>registered</th>\n",
       "      <th>count</th>\n",
       "    </tr>\n",
       "  </thead>\n",
       "  <tbody>\n",
       "    <tr>\n",
       "      <th>0</th>\n",
       "      <td>2011-01-01 00:00:00</td>\n",
       "      <td>1</td>\n",
       "      <td>0</td>\n",
       "      <td>0</td>\n",
       "      <td>1</td>\n",
       "      <td>9.84</td>\n",
       "      <td>14.395</td>\n",
       "      <td>81</td>\n",
       "      <td>0.0</td>\n",
       "      <td>3</td>\n",
       "      <td>13</td>\n",
       "      <td>16</td>\n",
       "    </tr>\n",
       "    <tr>\n",
       "      <th>1</th>\n",
       "      <td>2011-01-01 01:00:00</td>\n",
       "      <td>1</td>\n",
       "      <td>0</td>\n",
       "      <td>0</td>\n",
       "      <td>1</td>\n",
       "      <td>9.02</td>\n",
       "      <td>13.635</td>\n",
       "      <td>80</td>\n",
       "      <td>0.0</td>\n",
       "      <td>8</td>\n",
       "      <td>32</td>\n",
       "      <td>40</td>\n",
       "    </tr>\n",
       "    <tr>\n",
       "      <th>2</th>\n",
       "      <td>2011-01-01 02:00:00</td>\n",
       "      <td>1</td>\n",
       "      <td>0</td>\n",
       "      <td>0</td>\n",
       "      <td>1</td>\n",
       "      <td>9.02</td>\n",
       "      <td>13.635</td>\n",
       "      <td>80</td>\n",
       "      <td>0.0</td>\n",
       "      <td>5</td>\n",
       "      <td>27</td>\n",
       "      <td>32</td>\n",
       "    </tr>\n",
       "    <tr>\n",
       "      <th>3</th>\n",
       "      <td>2011-01-01 03:00:00</td>\n",
       "      <td>1</td>\n",
       "      <td>0</td>\n",
       "      <td>0</td>\n",
       "      <td>1</td>\n",
       "      <td>9.84</td>\n",
       "      <td>14.395</td>\n",
       "      <td>75</td>\n",
       "      <td>0.0</td>\n",
       "      <td>3</td>\n",
       "      <td>10</td>\n",
       "      <td>13</td>\n",
       "    </tr>\n",
       "    <tr>\n",
       "      <th>4</th>\n",
       "      <td>2011-01-01 04:00:00</td>\n",
       "      <td>1</td>\n",
       "      <td>0</td>\n",
       "      <td>0</td>\n",
       "      <td>1</td>\n",
       "      <td>9.84</td>\n",
       "      <td>14.395</td>\n",
       "      <td>75</td>\n",
       "      <td>0.0</td>\n",
       "      <td>0</td>\n",
       "      <td>1</td>\n",
       "      <td>1</td>\n",
       "    </tr>\n",
       "  </tbody>\n",
       "</table>\n",
       "</div>"
      ],
      "text/plain": [
       "              datetime  season  holiday  workingday  weather  temp   atemp  \\\n",
       "0  2011-01-01 00:00:00       1        0           0        1  9.84  14.395   \n",
       "1  2011-01-01 01:00:00       1        0           0        1  9.02  13.635   \n",
       "2  2011-01-01 02:00:00       1        0           0        1  9.02  13.635   \n",
       "3  2011-01-01 03:00:00       1        0           0        1  9.84  14.395   \n",
       "4  2011-01-01 04:00:00       1        0           0        1  9.84  14.395   \n",
       "\n",
       "   humidity  windspeed  casual  registered  count  \n",
       "0        81        0.0       3          13     16  \n",
       "1        80        0.0       8          32     40  \n",
       "2        80        0.0       5          27     32  \n",
       "3        75        0.0       3          10     13  \n",
       "4        75        0.0       0           1      1  "
      ]
     },
     "execution_count": 113,
     "metadata": {},
     "output_type": "execute_result"
    }
   ],
   "source": [
    "df = pd.read_csv('data/train_bikes.csv')\n",
    "\n",
    "df.head()"
   ]
  },
  {
   "cell_type": "markdown",
   "metadata": {},
   "source": [
    "## Функции для работы с графиками "
   ]
  },
  {
   "cell_type": "code",
   "execution_count": 114,
   "metadata": {},
   "outputs": [],
   "source": [
    "def draw_graphics(alpha, train_scores, valid_scores):\n",
    "    \"\"\"\n",
    "    по оси x отложены значения alpha\n",
    "    по оси y отложены средние значения меры качества\n",
    "    \"\"\"\n",
    "    fig, ax = plt.subplots(figsize=(10,10))\n",
    "    fig.subplots_adjust(left=0.08, right=0.98, wspace=0.3)\n",
    "    ax.set_xscale('log')\n",
    "    ax.plot(alpha_range, train_scores, 'ro', label=\"train metrics\") \n",
    "    ax.plot(alpha_range, valid_scores, label=\"valid metrics\")\n",
    "    plt.legend(loc=2, borderaxespad=0.)\n",
    "    \n",
    "    ax.grid(True)\n",
    "    plt.show()"
   ]
  },
  {
   "cell_type": "code",
   "execution_count": 115,
   "metadata": {},
   "outputs": [],
   "source": [
    "def draw_fill_graphics(\n",
    "        alpha_range, \n",
    "        train_scores_mean, train_scores_std,\n",
    "        valid_score_mean, valid_score_std\n",
    "):\n",
    "    \"\"\"\n",
    "    по оси x отложены значения alpha\n",
    "    по оси y отложены средние значения меры качества\n",
    "    Зарисовываем разницу между train и valid жёлтым цветом. \n",
    "    \n",
    "    validation - смысле тестовый , проверочный.\n",
    "    \n",
    "    взял от сюда http://scikit-learn.org/stable/auto_examples/model_selection/plot_validation_curve.html\n",
    "    \"\"\"    \n",
    "    x = alpha_range\n",
    "    \n",
    "    fig, ax = plt.subplots(figsize=(30,20))\n",
    "    ax.set_title(\"Validation Curve with ElasticNet\")\n",
    "    ax.set_xlabel(\"$\\gamma$\")\n",
    "    ax.set_ylabel(\"Score\")\n",
    "    \n",
    "    lw = 2\n",
    "    \n",
    "    plt.semilogx(x, train_scores_mean, label=\"Training score\",\n",
    "                 color=\"red\", lw=lw)\n",
    "    plt.fill_between(x, train_scores_mean - train_scores_std,\n",
    "                     train_scores_mean + train_scores_std, alpha=0.2,\n",
    "                     color=\"darkorange\", lw=lw)\n",
    "    \n",
    "    plt.semilogx(x, valid_scores_mean, label=\"Cross-validation score\",\n",
    "                 color=\"navy\", lw=lw)\n",
    "    plt.fill_between(x, valid_scores_mean - valid_scores_std,\n",
    "                     valid_scores_mean + valid_scores_std, alpha=0.2,\n",
    "                     color=\"navy\", lw=lw)\n",
    "    plt.legend(loc=\"best\")\n",
    "    plt.show()"
   ]
  },
  {
   "cell_type": "markdown",
   "metadata": {},
   "source": [
    "\n",
    "## Основные функции"
   ]
  },
  {
   "cell_type": "code",
   "execution_count": 116,
   "metadata": {},
   "outputs": [],
   "source": [
    "def get_supervised_array(df_origin):\n",
    "    \"\"\"\n",
    "    Получаем список строк для разделения исходной матрицы на train и test.\n",
    "    \n",
    "    Parameters:\n",
    "    __________\n",
    "    \n",
    "        df_origin - dataframe с основными данными.\n",
    "        \n",
    "    Return:\n",
    "    _______\n",
    "        NumPy.Array - список строк, в качестве контейнера взял NumPy.Array\n",
    "    \"\"\"\n",
    "        \n",
    "    df = df_origin.copy()\n",
    "    df['datetime'] = pd.to_datetime(df['datetime'], format='%Y-%m-%d %H:%M')\n",
    "    df['year'] = df.loc[:, 'datetime'].dt.year\n",
    "    df['month'] = df.loc[:, 'datetime'].dt.month\n",
    "    df['hour'] = df.loc[:, 'datetime'].dt.hour\n",
    "    stroka = df.to_string(\n",
    "        columns=['year','month','hour'], \n",
    "        col_space=0,\n",
    "        header=False,\n",
    "        index=False,\n",
    "    )\n",
    "    return np.array(re.sub(' +','-',stroka).split('\\n'))"
   ]
  },
  {
   "cell_type": "code",
   "execution_count": 117,
   "metadata": {},
   "outputs": [],
   "source": [
    "def get_date_features(df_origin):\n",
    "    \"\"\"\n",
    "    Разбиваем datetime на части.\n",
    "    \n",
    "    Parameters:\n",
    "    __________\n",
    "    \n",
    "        df_origin - dataframe с основными данными.\n",
    "        \n",
    "    Return:\n",
    "    ______\n",
    "    \n",
    "        df - обработанные dataframe\n",
    "    \"\"\"\n",
    "    df = df_origin.copy()\n",
    "    df['datetime'] = pd.to_datetime(df['datetime'], format='%Y-%m-%d %H:%M')\n",
    "    df['year'] = df.loc[:, 'datetime'].dt.year\n",
    "    df['month'] = df.loc[:, 'datetime'].dt.month\n",
    "    df['day'] = df.loc[:, 'datetime'].dt.day\n",
    "    df['hour'] = df.loc[:, 'datetime'].dt.hour\n",
    "    df['weekday'] = df.loc[:, 'datetime'].dt.weekday\n",
    "    \n",
    "    return df"
   ]
  },
  {
   "cell_type": "code",
   "execution_count": 118,
   "metadata": {},
   "outputs": [],
   "source": [
    "def class_hour(df):\n",
    "    \"\"\"\n",
    "    Создаём интервалы времени\n",
    "    \n",
    "    Parameters:\n",
    "    __________\n",
    "    \n",
    "        df_origin - dataframe с основными данными.\n",
    "    Return:\n",
    "    ______\n",
    "    \n",
    "        df - обработанные dataframe\n",
    "    \"\"\"\n",
    "    df_tmp = df.copy()\n",
    "    df_tmp['class_hour'] = df_tmp['hour'].map(\n",
    "    lambda x:\n",
    "        \"night\" if x == 23 or x <= 4 else \n",
    "        \"morning\" if x <= 8 and x > 4 else\n",
    "        \"rush_morning\" if x <= 9 and x > 8 else\n",
    "        \"day\" if x <= 16 and x > 9 else\n",
    "        \"rush_day\" if x <= 19 and x > 16 else\n",
    "        \"evening\" \n",
    "\n",
    "    )\n",
    "    return df_tmp"
   ]
  },
  {
   "cell_type": "code",
   "execution_count": 119,
   "metadata": {},
   "outputs": [],
   "source": [
    "def mapping(df):\n",
    "    \"\"\"\n",
    "    Превращаем категореальные призанки в ветокра в вида {0,1, C-1} \n",
    "    где C - количество уникальных значений.\n",
    "    \n",
    "    Parameters:\n",
    "    __________\n",
    "    \n",
    "        df_origin - dataframe с основными данными.\n",
    "        \n",
    "    Return:\n",
    "    ______\n",
    "    \n",
    "        df - обработанные dataframe\n",
    "        \n",
    "    \"\"\"\n",
    "    \n",
    "    df_tmp = df.copy()\n",
    "    df_tmp['weather'] = df_tmp['weather'].replace(\n",
    "        df_tmp['weather'].value_counts().to_dict()\n",
    "    )\n",
    "    df_tmp['year'] = df_tmp['year'].replace(\n",
    "        df_tmp['year'].value_counts().to_dict()\n",
    "    )\n",
    "    df_tmp['month'] = df_tmp['month'].replace(\n",
    "        df_tmp['month'].value_counts().to_dict()\n",
    "    )\n",
    "    df_tmp['weekday'] = df_tmp['weekday'].replace(\n",
    "        df_tmp['weekday'].value_counts().to_dict()\n",
    "    )\n",
    "    df_tmp['class_hour'] = df_tmp['class_hour'].replace(\n",
    "        df_tmp['class_hour'].value_counts().to_dict()\n",
    "    )\n",
    "\n",
    "    return df_tmp\n",
    "    "
   ]
  },
  {
   "cell_type": "code",
   "execution_count": 120,
   "metadata": {},
   "outputs": [],
   "source": [
    "def prepare_features(df, drop_cols=[], target_feature=''):\n",
    "    \"\"\"\n",
    "    Функция подготовки фич. Здесь агрегируеться все преобразования над исходным DataFrame.\n",
    "    \n",
    "    Parameters:\n",
    "    __________\n",
    "    \n",
    "        df_origin - dataframe с основными данными.\n",
    "        drop_cols - список название столбцов которые следует удалить из dataframe.\n",
    "        target_feature - название признака (стобца) которые станет таргетом.   \n",
    "        \n",
    "    Return:\n",
    "    ______\n",
    "    \n",
    "        df - обработанные dataframe\n",
    "    \"\"\"\n",
    "    df_tmp = df.copy()\n",
    "    targets = [\"casual\", \"registered\", \"count\"]\n",
    "# оставляем только один из целевых признаков (casual, registred или count)\n",
    "    if target_feature in targets:\n",
    "        y_target = df_tmp[target_feature]\n",
    "        drop_cols.extend(targets)\n",
    "# выделяем признаки для \"времени дня\", \"месяца\" и дня недели      \n",
    "    df_clean = get_date_features(df)\n",
    "# создаём новую переменную (утро, день, вечер, ночь).\n",
    "    df_clean = class_hour(df_clean)\n",
    "# Преобразовывала бинарные признаки в вектора с {0,1} а категориальные признаки в вектора с {0,1,...,C-1}\n",
    "    df_clean = mapping(df_clean)\n",
    "# Удаляем ненужные признаки (сильно скоррелированные и просто бесполковые, типа datetime, day)\n",
    "    df_clean = df_clean.drop(drop_cols, axis=1)\n",
    "    df_clean.head()\n",
    "    \n",
    "    return df_clean, y_target"
   ]
  },
  {
   "cell_type": "code",
   "execution_count": 121,
   "metadata": {},
   "outputs": [],
   "source": [
    "def rlmse_score(y_test, y_hat):\n",
    "    \"\"\"\n",
    "    Считаем rlmse ошибку\n",
    "    \n",
    "    Parameters:\n",
    "    __________\n",
    "    \n",
    "        y_test - целевая переменная \n",
    "        y_hat  - оценки алгоритма регрессионной модели.\n",
    "        \n",
    "    Return:\n",
    "    ______\n",
    "    \n",
    "        rlmse - оценка качества регрессионного метода\n",
    "    \"\"\"\n",
    "    # Your code here\n",
    "    # в y_hat есть отрицательыне значения. Зануляю.\n",
    "    # Интерсно какой они несут смысл и почему они получаеются. #FIXME \n",
    "    y_hat = list(map(lambda x : x if x >=0 else 0, y_hat.tolist())) \n",
    "    if len(y_hat) != len(y_test):\n",
    "        print(\"Error!\")\n",
    "        return -1\n",
    "    N = len(y_hat)\n",
    "    summ = 0\n",
    "    for idx in range(0, N):\n",
    "        summ += (np.log10(y_test[idx] + 1) - np.log10(y_hat[idx] + 1))**2\n",
    "    rlmse = np.sqrt(summ/N)\n",
    "    return rlmse\n",
    "\n",
    "# Эту функцию трогать не надо\n",
    "def rlmse_scorer(estimator, X, y):\n",
    "    y_hat = estimator.predict(X)\n",
    "    \n",
    "    return rlmse_score(y, y_hat)"
   ]
  },
  {
   "cell_type": "markdown",
   "metadata": {},
   "source": [
    "# Getting hands dirty"
   ]
  },
  {
   "cell_type": "code",
   "execution_count": 122,
   "metadata": {},
   "outputs": [
    {
     "data": {
      "text/plain": [
       "array(['2011-1-0', '2011-1-1', '2011-1-2', '2011-1-3', '2011-1-4'],\n",
       "      dtype='<U10')"
      ]
     },
     "execution_count": 122,
     "metadata": {},
     "output_type": "execute_result"
    }
   ],
   "source": [
    "y_label = 'count'\n",
    "drop_cols = [\n",
    "    \"day\",\n",
    "    \"season\",\n",
    "    \"atemp\",\n",
    "    \"humidity\",\n",
    "    \"datetime\",\n",
    "    \"hour\",\n",
    "]\n",
    "year_month_hour = get_supervised_array(df)\n",
    "year_month_hour[:5]    "
   ]
  },
  {
   "cell_type": "code",
   "execution_count": 123,
   "metadata": {},
   "outputs": [
    {
     "data": {
      "text/html": [
       "<div>\n",
       "<style scoped>\n",
       "    .dataframe tbody tr th:only-of-type {\n",
       "        vertical-align: middle;\n",
       "    }\n",
       "\n",
       "    .dataframe tbody tr th {\n",
       "        vertical-align: top;\n",
       "    }\n",
       "\n",
       "    .dataframe thead th {\n",
       "        text-align: right;\n",
       "    }\n",
       "</style>\n",
       "<table border=\"1\" class=\"dataframe\">\n",
       "  <thead>\n",
       "    <tr style=\"text-align: right;\">\n",
       "      <th></th>\n",
       "      <th>holiday</th>\n",
       "      <th>workingday</th>\n",
       "      <th>weather</th>\n",
       "      <th>temp</th>\n",
       "      <th>windspeed</th>\n",
       "      <th>year</th>\n",
       "      <th>month</th>\n",
       "      <th>weekday</th>\n",
       "      <th>class_hour</th>\n",
       "    </tr>\n",
       "  </thead>\n",
       "  <tbody>\n",
       "    <tr>\n",
       "      <th>0</th>\n",
       "      <td>0</td>\n",
       "      <td>0</td>\n",
       "      <td>7192</td>\n",
       "      <td>9.84</td>\n",
       "      <td>0.0</td>\n",
       "      <td>5422</td>\n",
       "      <td>884</td>\n",
       "      <td>1584</td>\n",
       "      <td>2688</td>\n",
       "    </tr>\n",
       "    <tr>\n",
       "      <th>1</th>\n",
       "      <td>0</td>\n",
       "      <td>0</td>\n",
       "      <td>7192</td>\n",
       "      <td>9.02</td>\n",
       "      <td>0.0</td>\n",
       "      <td>5422</td>\n",
       "      <td>884</td>\n",
       "      <td>1584</td>\n",
       "      <td>2688</td>\n",
       "    </tr>\n",
       "    <tr>\n",
       "      <th>2</th>\n",
       "      <td>0</td>\n",
       "      <td>0</td>\n",
       "      <td>7192</td>\n",
       "      <td>9.02</td>\n",
       "      <td>0.0</td>\n",
       "      <td>5422</td>\n",
       "      <td>884</td>\n",
       "      <td>1584</td>\n",
       "      <td>2688</td>\n",
       "    </tr>\n",
       "    <tr>\n",
       "      <th>3</th>\n",
       "      <td>0</td>\n",
       "      <td>0</td>\n",
       "      <td>7192</td>\n",
       "      <td>9.84</td>\n",
       "      <td>0.0</td>\n",
       "      <td>5422</td>\n",
       "      <td>884</td>\n",
       "      <td>1584</td>\n",
       "      <td>2688</td>\n",
       "    </tr>\n",
       "    <tr>\n",
       "      <th>4</th>\n",
       "      <td>0</td>\n",
       "      <td>0</td>\n",
       "      <td>7192</td>\n",
       "      <td>9.84</td>\n",
       "      <td>0.0</td>\n",
       "      <td>5422</td>\n",
       "      <td>884</td>\n",
       "      <td>1584</td>\n",
       "      <td>2688</td>\n",
       "    </tr>\n",
       "  </tbody>\n",
       "</table>\n",
       "</div>"
      ],
      "text/plain": [
       "   holiday  workingday  weather  temp  windspeed  year  month  weekday  \\\n",
       "0        0           0     7192  9.84        0.0  5422    884     1584   \n",
       "1        0           0     7192  9.02        0.0  5422    884     1584   \n",
       "2        0           0     7192  9.02        0.0  5422    884     1584   \n",
       "3        0           0     7192  9.84        0.0  5422    884     1584   \n",
       "4        0           0     7192  9.84        0.0  5422    884     1584   \n",
       "\n",
       "   class_hour  \n",
       "0        2688  \n",
       "1        2688  \n",
       "2        2688  \n",
       "3        2688  \n",
       "4        2688  "
      ]
     },
     "execution_count": 123,
     "metadata": {},
     "output_type": "execute_result"
    }
   ],
   "source": [
    "df_train, y_target = prepare_features(df, drop_cols,y_label)\n",
    "df_train.head()"
   ]
  },
  {
   "cell_type": "code",
   "execution_count": 124,
   "metadata": {},
   "outputs": [
    {
     "data": {
      "text/plain": [
       "0    16\n",
       "1    40\n",
       "2    32\n",
       "3    13\n",
       "4     1\n",
       "Name: count, dtype: int64"
      ]
     },
     "execution_count": 124,
     "metadata": {},
     "output_type": "execute_result"
    }
   ],
   "source": [
    "y_target.head()"
   ]
  },
  {
   "cell_type": "markdown",
   "metadata": {},
   "source": [
    "## Baseline modelling"
   ]
  },
  {
   "cell_type": "code",
   "execution_count": 125,
   "metadata": {},
   "outputs": [],
   "source": [
    "from sklearn.linear_model import ElasticNet\n",
    "from sklearn.preprocessing import StandardScaler\n",
    "from sklearn.preprocessing import OneHotEncoder\n",
    "from sklearn.pipeline import Pipeline\n",
    "from sklearn.pipeline import make_pipeline\n",
    "from sklearn.model_selection import train_test_split\n",
    "from sklearn.model_selection import cross_val_score\n",
    "from sklearn.model_selection import StratifiedKFold\n",
    "from sklearn.model_selection import validation_curve"
   ]
  },
  {
   "cell_type": "code",
   "execution_count": 126,
   "metadata": {},
   "outputs": [],
   "source": [
    "# alpha - это общая сила регуляризации\n",
    "# l1_ration - доля, которая приходтися на Lasso регуляризацию. Соответственно остальное идет на Rigde\n",
    "regressor = ElasticNet(alpha=1.0, l1_ratio=0.5)"
   ]
  },
  {
   "cell_type": "code",
   "execution_count": 127,
   "metadata": {},
   "outputs": [],
   "source": [
    "# преобразовываем признаки в вектора\n",
    "onehotencoder = OneHotEncoder(categorical_features=[2,5,6,7,8])"
   ]
  },
  {
   "cell_type": "code",
   "execution_count": 128,
   "metadata": {},
   "outputs": [],
   "source": [
    "# нормализовываем признаки\n",
    "standart = StandardScaler(with_mean=False)"
   ]
  },
  {
   "cell_type": "code",
   "execution_count": 129,
   "metadata": {},
   "outputs": [],
   "source": [
    "# строим модель\n",
    "model = make_pipeline(\n",
    "    onehotencoder, \n",
    "    standart, \n",
    "    regressor)"
   ]
  },
  {
   "cell_type": "code",
   "execution_count": 130,
   "metadata": {},
   "outputs": [
    {
     "name": "stdout",
     "output_type": "stream",
     "text": [
      ">> Done <<\n"
     ]
    }
   ],
   "source": [
    "# Это не обычная кросс-валидация а стратифицированная. №\n",
    "# С ее помощью мы добъемся того, что в обучающем и валидационном фолде будет одна и та же пропорция годов-месяцев-часов\n",
    "# Тут то и понадобится нам year_month_hour\n",
    "# Подробности http://scikit-learn.org/stable/modules/generated/sklearn.model_selection.StratifiedKFold.html#sklearn.model_selection.StratifiedKFold\n",
    "n_folds = 5\n",
    "cv = StratifiedKFold(n_splits=n_folds, shuffle=True, random_state=123)\n",
    "\n",
    "# Переберем 20 значений в интервале от 10^-3 до 10^5\n",
    "# Чутка увеличел aplha. \n",
    "alpha_range = np.logspace(-5, 5, 30)\n",
    "\n",
    "param_name = \"elasticnet__alpha\"\n",
    "# пишем не просто alpha, потому что у нас pipeline и sklearn должен как-то понимать параметр какого этапа мы перебираем\n",
    "# cv=cv.split(df_clean, year_month_hour)\n",
    "# model.fit(df_clean, y_target)\n",
    "# regressor.get_params().keys()\n",
    "y = y_target.as_matrix()\n",
    "train_scores, valid_scores = validation_curve(model, df_train, y, param_name=param_name, param_range=alpha_range,\n",
    "                                               cv=cv.split(df_train, year_month_hour), scoring=rlmse_scorer)\n",
    "\n",
    "print(\">> Done <<\")\n",
    "# На выходе мы получим 2 матрицы размера 20 на n_folds\n",
    "# Потому что у нас было 5 фолдов и 20 возможных значений гиперпараметра\n",
    "# А матриц 2, потому что в каждом фолде есть обучающая и валидационная часть"
   ]
  },
  {
   "cell_type": "code",
   "execution_count": 131,
   "metadata": {},
   "outputs": [
    {
     "data": {
      "text/plain": [
       "array([[0.54255504, 0.54058219, 0.53912894, 0.54142925, 0.54126577],\n",
       "       [0.54255396, 0.54058148, 0.53912788, 0.54142887, 0.54126511],\n",
       "       [0.54255156, 0.54057989, 0.5391255 , 0.54142803, 0.54126363],\n",
       "       [0.54254617, 0.54057632, 0.53912016, 0.54142609, 0.54126029],\n",
       "       [0.54253397, 0.54056814, 0.53910777, 0.54142151, 0.54125254],\n",
       "       [0.54250565, 0.54054815, 0.53907893, 0.54141033, 0.54123437],\n",
       "       [0.54243069, 0.54050156, 0.53900776, 0.541383  , 0.5411921 ],\n",
       "       [0.54226611, 0.54037136, 0.53884784, 0.54132273, 0.54109995],\n",
       "       [0.54183037, 0.54004531, 0.5385166 , 0.54119478, 0.54092227],\n",
       "       [0.54093262, 0.53932695, 0.53785169, 0.540982  , 0.54044444],\n",
       "       [0.53940971, 0.53803122, 0.53658225, 0.540393  , 0.53926049],\n",
       "       [0.53672525, 0.53562168, 0.5342626 , 0.53953139, 0.53659046],\n",
       "       [0.53185705, 0.53115752, 0.52885682, 0.53569939, 0.53133243],\n",
       "       [0.52243265, 0.52310365, 0.52032458, 0.52577703, 0.52337377],\n",
       "       [0.51666124, 0.51577107, 0.5127741 , 0.51663345, 0.5171787 ],\n",
       "       [0.52542416, 0.52654089, 0.5269191 , 0.52746208, 0.52619497],\n",
       "       [0.57129727, 0.57358525, 0.57335253, 0.57413551, 0.57093133],\n",
       "       [0.62111243, 0.62379036, 0.62291413, 0.62439164, 0.62131391],\n",
       "       [0.65206629, 0.6548704 , 0.65369482, 0.65544934, 0.65267591],\n",
       "       [0.66909113, 0.67196391, 0.67057023, 0.67245838, 0.66994867],\n",
       "       [0.67710709, 0.68001432, 0.67849919, 0.68045842, 0.67805666],\n",
       "       [0.67973292, 0.68270931, 0.68109941, 0.68313782, 0.68071361],\n",
       "       [0.67974334, 0.6827429 , 0.68111333, 0.68316628, 0.68072907],\n",
       "       [0.67974334, 0.6827429 , 0.68111333, 0.68316628, 0.68072907],\n",
       "       [0.67974334, 0.6827429 , 0.68111333, 0.68316628, 0.68072907],\n",
       "       [0.67974334, 0.6827429 , 0.68111333, 0.68316628, 0.68072907],\n",
       "       [0.67974334, 0.6827429 , 0.68111333, 0.68316628, 0.68072907],\n",
       "       [0.67974334, 0.6827429 , 0.68111333, 0.68316628, 0.68072907],\n",
       "       [0.67974334, 0.6827429 , 0.68111333, 0.68316628, 0.68072907],\n",
       "       [0.67974334, 0.6827429 , 0.68111333, 0.68316628, 0.68072907]])"
      ]
     },
     "execution_count": 131,
     "metadata": {},
     "output_type": "execute_result"
    }
   ],
   "source": [
    "train_scores"
   ]
  },
  {
   "cell_type": "code",
   "execution_count": 132,
   "metadata": {},
   "outputs": [
    {
     "data": {
      "text/plain": [
       "array([[0.53494062, 0.54866692, 0.54168164, 0.54501794, 0.53935277],\n",
       "       [0.53493992, 0.54866662, 0.54168135, 0.5450168 , 0.53935268],\n",
       "       [0.53493837, 0.54866596, 0.54168069, 0.54501427, 0.53935247],\n",
       "       [0.53493487, 0.54866451, 0.54167913, 0.54500736, 0.53935197],\n",
       "       [0.53492674, 0.54866129, 0.54167521, 0.5449881 , 0.53935029],\n",
       "       [0.53490728, 0.54865406, 0.54166383, 0.54494398, 0.53934538],\n",
       "       [0.53486359, 0.54863779, 0.54161836, 0.5448463 , 0.53933077],\n",
       "       [0.53476989, 0.54860581, 0.54150201, 0.54462296, 0.53929689],\n",
       "       [0.53457366, 0.54854775, 0.54111182, 0.54411149, 0.53923642],\n",
       "       [0.53398773, 0.54841361, 0.54029699, 0.54306821, 0.53915312],\n",
       "       [0.53306702, 0.547365  , 0.53922464, 0.54009327, 0.53878745],\n",
       "       [0.53095848, 0.5446735 , 0.53837408, 0.53420898, 0.53821004],\n",
       "       [0.52626323, 0.53798987, 0.53323577, 0.52556493, 0.53661735],\n",
       "       [0.51717155, 0.52261102, 0.52572205, 0.5177598 , 0.53108378],\n",
       "       [0.50762495, 0.51717624, 0.51992535, 0.51761915, 0.51627598],\n",
       "       [0.52758715, 0.52813808, 0.52281839, 0.52221784, 0.53349468],\n",
       "       [0.5748344 , 0.57232938, 0.56972171, 0.56862315, 0.58155823],\n",
       "       [0.62565761, 0.62395004, 0.61986217, 0.61795948, 0.62806889],\n",
       "       [0.65712947, 0.65584076, 0.65092253, 0.64874359, 0.65735494],\n",
       "       [0.67442633, 0.67325498, 0.66799962, 0.6656298 , 0.67356015],\n",
       "       [0.68255057, 0.68131737, 0.67599502, 0.67348007, 0.68147374],\n",
       "       [0.68519789, 0.68398157, 0.67863753, 0.67610699, 0.6841449 ],\n",
       "       [0.6852085 , 0.68401454, 0.67865153, 0.67613449, 0.68416093],\n",
       "       [0.6852085 , 0.68401454, 0.67865153, 0.67613449, 0.68416093],\n",
       "       [0.6852085 , 0.68401454, 0.67865153, 0.67613449, 0.68416093],\n",
       "       [0.6852085 , 0.68401454, 0.67865153, 0.67613449, 0.68416093],\n",
       "       [0.6852085 , 0.68401454, 0.67865153, 0.67613449, 0.68416093],\n",
       "       [0.6852085 , 0.68401454, 0.67865153, 0.67613449, 0.68416093],\n",
       "       [0.6852085 , 0.68401454, 0.67865153, 0.67613449, 0.68416093],\n",
       "       [0.6852085 , 0.68401454, 0.67865153, 0.67613449, 0.68416093]])"
      ]
     },
     "execution_count": 132,
     "metadata": {},
     "output_type": "execute_result"
    }
   ],
   "source": [
    "valid_scores"
   ]
  },
  {
   "cell_type": "code",
   "execution_count": 133,
   "metadata": {},
   "outputs": [],
   "source": [
    "# средние значение и стандартное отклонение\n",
    "train_scores_std = np.std(train_scores, axis=1)\n",
    "valid_scores_std = np.std(valid_scores, axis=1)\n",
    "train_scores_mean = np.mean(train_scores, axis=1)\n",
    "valid_scores_mean = np.mean(valid_scores, axis=1)"
   ]
  },
  {
   "cell_type": "code",
   "execution_count": 134,
   "metadata": {},
   "outputs": [
    {
     "data": {
      "image/png": "[encoded data removed]",
      "text/plain": [
       "<matplotlib.figure.Figure at 0x7f618e5c0a58>"
      ]
     },
     "metadata": {},
     "output_type": "display_data"
    }
   ],
   "source": [
    "# Изображаем график зависимости средних значений меры качества от значений alpha\n",
    "# для train и valid\n",
    "draw_graphics(alpha_range, mean_scores_train, mean_scores_valid)"
   ]
  },
  {
   "cell_type": "code",
   "execution_count": 135,
   "metadata": {},
   "outputs": [
    {
     "data": {
      "image/png": "[encoded data removed]",
      "text/plain": [
       "<matplotlib.figure.Figure at 0x7f618e797438>"
      ]
     },
     "metadata": {},
     "output_type": "display_data"
    }
   ],
   "source": [
    "# Изображаем разбос меры качества в каждой точке\n",
    "draw_fill_graphics(\n",
    "    alpha_range, \n",
    "    train_scores_mean, train_scores_std, \n",
    "    valid_scores_mean, valid_scores_std\n",
    ")"
   ]
  }
 ],
 "metadata": {
  "kernelspec": {
   "display_name": "Python 3",
   "language": "python",
   "name": "python3"
  },
  "language_info": {
   "codemirror_mode": {
    "name": "ipython",
    "version": 3
   },
   "file_extension": ".py",
   "mimetype": "text/x-python",
   "name": "python",
   "nbconvert_exporter": "python",
   "pygments_lexer": "ipython3",
   "version": "3.6.3"
  }
 },
 "nbformat": 4,
 "nbformat_minor": 2
}
