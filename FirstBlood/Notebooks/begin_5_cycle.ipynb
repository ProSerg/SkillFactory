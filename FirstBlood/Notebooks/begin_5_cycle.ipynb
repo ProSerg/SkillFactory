{
 "cells": [
  {
   "cell_type": "markdown",
   "metadata": {
    "collapsed": true
   },
   "source": [
    "*Циклы*"
   ]
  },
  {
   "cell_type": "code",
   "execution_count": 9,
   "metadata": {},
   "outputs": [],
   "source": [
    "# список от 1 до 1 миллиона\n",
    "numRange: range = range(1, 1000000)"
   ]
  },
  {
   "cell_type": "code",
   "execution_count": 10,
   "metadata": {},
   "outputs": [
    {
     "name": "stdout",
     "output_type": "stream",
     "text": [
      "0\n1\n2\n3\n4\n5\n6\n7\n8\n9\n"
     ]
    }
   ],
   "source": [
    "for i in range(10):\n",
    "    print(i)"
   ]
  },
  {
   "cell_type": "code",
   "execution_count": 11,
   "metadata": {},
   "outputs": [
    {
     "name": "stdout",
     "output_type": "stream",
     "text": [
      "0\n1\n4\n9\n16\n25\n36\n49\n64\n81\n"
     ]
    }
   ],
   "source": [
    "for i in range(10):\n",
    "    print(i**2)"
   ]
  },
  {
   "cell_type": "code",
   "execution_count": 12,
   "metadata": {},
   "outputs": [
    {
     "data": {
      "text/plain": [
       "[0, 1, 4, 9, 16, 25, 36, 49, 64, 81]"
      ]
     },
     "execution_count": 12,
     "metadata": {},
     "output_type": "execute_result"
    }
   ],
   "source": [
    "[i**2 for i in range(10)]"
   ]
  },
  {
   "cell_type": "code",
   "execution_count": 13,
   "metadata": {},
   "outputs": [
    {
     "name": "stdout",
     "output_type": "stream",
     "text": [
      "понедельник\n"
     ]
    }
   ],
   "source": [
    "weekDays = ['понедельник', 'вторник', 'среда', 'четверг', 'пятница', 'суббота', 'воскресенье']\n",
    "for day in weekDays:\n",
    "    if day in 'понедельник':\n",
    "        print(day)"
   ]
  },
  {
   "cell_type": "code",
   "execution_count": 14,
   "metadata": {},
   "outputs": [],
   "source": [
    "minValue: int = 4\n",
    "maxValue: int = 19"
   ]
  },
  {
   "cell_type": "code",
   "execution_count": 16,
   "metadata": {},
   "outputs": [
    {
     "data": {
      "text/plain": [
       "[2.0,\n 2.449489742783178,\n 2.8284271247461903,\n 3.1622776601683795,\n 3.4641016151377544,\n 3.7416573867739413,\n 4.0,\n 4.242640687119285]"
      ]
     },
     "execution_count": 16,
     "metadata": {},
     "output_type": "execute_result"
    }
   ],
   "source": [
    "numbers: list = list(range(minValue, maxValue))\n",
    "[pow(i, 0.5) for i in range(minValue, maxValue) if i % 2 == 0]"
   ]
  },
  {
   "cell_type": "code",
   "execution_count": 27,
   "metadata": {},
   "outputs": [],
   "source": [
    "# выручке за ноябрь 2017 года по одной из рекламных кампаниях в Яндекс.Директ\n",
    "directRevenue = [83171, 151604, 46315, 98753, 208648, 184682, 204061,\n",
    "                 134911, 94791, 109076, 37254, 224991, 36400, 149320, \n",
    "                 171336, 83854, 206799, 180922, 235647, 217546, 200478, \n",
    "                 239445, 144901, 26522, 177971, 148458, 154937, 196095, \n",
    "                 140202, 189223]"
   ]
  },
  {
   "cell_type": "code",
   "execution_count": 28,
   "metadata": {},
   "outputs": [
    {
     "data": {
      "text/plain": [
       "[83171, 151604, 46315, 98753, 208648, 184682, 204061]"
      ]
     },
     "execution_count": 28,
     "metadata": {},
     "output_type": "execute_result"
    }
   ],
   "source": [
    "# лист с выручкой за первую неделю\n",
    "week_1_revenue: list = directRevenue[0:7]\n",
    "week_1_revenue"
   ]
  },
  {
   "cell_type": "code",
   "execution_count": 29,
   "metadata": {},
   "outputs": [
    {
     "data": {
      "text/plain": [
       "977234"
      ]
     },
     "execution_count": 29,
     "metadata": {},
     "output_type": "execute_result"
    }
   ],
   "source": [
    "# сумму всех элементов листа\n",
    "sum(week_1_revenue)"
   ]
  },
  {
   "cell_type": "code",
   "execution_count": 30,
   "metadata": {},
   "outputs": [
    {
     "name": "stdout",
     "output_type": "stream",
     "text": [
      "Значение element = 83171, сумма на текущий момент = 83171\nЗначение element = 151604, сумма на текущий момент = 234775\nЗначение element = 46315, сумма на текущий момент = 281090\nЗначение element = 98753, сумма на текущий момент = 379843\nЗначение element = 208648, сумма на текущий момент = 588491\nЗначение element = 184682, сумма на текущий момент = 773173\nЗначение element = 204061, сумма на текущий момент = 977234\n"
     ]
    }
   ],
   "source": [
    "total_revenue = 0\n",
    "for day in week_1_revenue:\n",
    "    total_revenue += day\n",
    "    print(\"Значение element = {}, сумма на текущий момент = {}\".format(day, total_revenue))"
   ]
  },
  {
   "cell_type": "code",
   "execution_count": 31,
   "metadata": {},
   "outputs": [],
   "source": [
    "queriesText = 'смотреть сериалы онлайн;' \\\n",
    "              'новости спорта;афиша кино;' \\\n",
    "              'курс доллара;сериалы этим летом;' \\\n",
    "              'курс по питону;сериалы про спорт'"
   ]
  },
  {
   "cell_type": "code",
   "execution_count": 33,
   "metadata": {},
   "outputs": [
    {
     "data": {
      "text/plain": [
       "18"
      ]
     },
     "execution_count": 33,
     "metadata": {},
     "output_type": "execute_result"
    }
   ],
   "source": [
    "# сумма слов в запросе\n",
    "sum([len(unit.split(' ')) for unit in queriesText.split(';')])"
   ]
  },
  {
   "cell_type": "code",
   "execution_count": 38,
   "metadata": {},
   "outputs": [
    {
     "name": "stdout",
     "output_type": "stream",
     "text": [
      "['смотреть', 'сериалы', 'онлайн']\n"
     ]
    }
   ],
   "source": [
    "queriesList = queriesText.split(';')[0].split(' ')\n",
    "queriesList = 'смотреть сериалы онлайн'.split(' ')\n",
    "print(queriesList)"
   ]
  },
  {
   "cell_type": "code",
   "execution_count": null,
   "metadata": {},
   "outputs": [],
   "source": [
    ""
   ]
  },
  {
   "cell_type": "code",
   "execution_count": null,
   "metadata": {},
   "outputs": [],
   "source": [
    ""
   ]
  },
  {
   "cell_type": "code",
   "execution_count": null,
   "metadata": {},
   "outputs": [],
   "source": [
    ""
   ]
  }
 ],
 "metadata": {
  "kernelspec": {
   "display_name": "Python 2",
   "language": "python",
   "name": "python2"
  },
  "language_info": {
   "codemirror_mode": {
    "name": "ipython",
    "version": 2.0
   },
   "file_extension": ".py",
   "mimetype": "text/x-python",
   "name": "python",
   "nbconvert_exporter": "python",
   "pygments_lexer": "ipython2",
   "version": "2.7.6"
  }
 },
 "nbformat": 4,
 "nbformat_minor": 0
}